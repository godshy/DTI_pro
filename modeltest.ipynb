{
 "cells": [
  {
   "cell_type": "code",
   "execution_count": 1,
   "metadata": {
    "collapsed": true
   },
   "outputs": [],
   "source": [
    "import pickle\n",
    "import numpy as np\n",
    "import os\n",
    "import torch\n",
    "import gc"
   ]
  },
  {
   "cell_type": "code",
   "execution_count": 2,
   "outputs": [
    {
     "name": "stdout",
     "output_type": "stream",
     "text": [
      "Making Training dataset...\n",
      "Loading labels: train_interaction.npy\n",
      "Loading chemIDs: train_chemIDs.npy\n",
      "Loading proIDs: train_proIDs.txt\n",
      "Loading sequences: train_reprotein.npy\n",
      "interactions.shape:  (14196, 1) ecfp.shape:  (14196, 1024) sequences.shape:  (14196, 1, 5762, 20) n2vc.shape: (14196, 128) n2vp.shape: (14196, 128)\n"
     ]
    }
   ],
   "source": [
    "#  making feature vectors of seq, one-hot encoding\n",
    "\n",
    "print('Making Training dataset...')\n",
    "ecfp = np.load('./dataset_hard'+'/cv_'+str(0)+'/train_fingerprint.npy')\n",
    "ecfp = np.asarray(ecfp, dtype='float32').reshape(-1,1024)\n",
    "\n",
    "file_interactions=np.load('./dataset_hard'+'/cv_'+str(0)+'/train_interaction.npy')\n",
    "print('Loading labels: train_interaction.npy')\n",
    "cID = np.load('./dataset_hard'+'/cv_'+str(0)+'/train_chemIDs.npy')\n",
    "print('Loading chemIDs: train_chemIDs.npy')\n",
    "with open('./dataset_hard'+'/cv_'+str(0)+'/train_proIDs.txt') as f:\n",
    "    pID = [s.strip() for s in f.readlines()]\n",
    "print('Loading proIDs: train_proIDs.txt')\n",
    "n2v_c, n2v_p = [], []\n",
    "with open('./modelpp.pickle', mode='rb') as f:\n",
    "    modelpp = pickle.load(f)\n",
    "with open('./modelcc.pickle', mode='rb') as f:\n",
    "    modelcc = pickle.load(f)\n",
    "for j in cID:\n",
    "    n2v_c.append(modelcc.wv[str(j)])\n",
    "for k in pID:\n",
    "    n2v_p.append(modelpp.wv[k])\n",
    "interactions = np.asarray(file_interactions, dtype='int32').reshape(-1,1)\n",
    "n2vc = np.asarray(n2v_c, dtype='float32').reshape(-1, 128)\n",
    "n2vp = np.asarray(n2v_p, dtype='float32').reshape(-1, 128)\n",
    "#reset memory\n",
    "del n2v_c, n2v_p, cID, pID, modelcc, modelpp, file_interactions\n",
    "gc.collect()\n",
    "\n",
    "file_sequences=np.load('./dataset_hard'+'/cv_'+str(0)+'/train_reprotein.npy')\n",
    "print('Loading sequences: train_reprotein.npy', flush=True)\n",
    "sequences = np.asarray(file_sequences, dtype='float32').reshape((-1, 1, 5762, 20))\n",
    "# reset memory\n",
    "del file_sequences\n",
    "gc.collect()\n",
    "\n",
    "print('interactions.shape: ', interactions.shape, 'ecfp.shape: ', ecfp.shape,'sequences.shape: ',  sequences.shape, 'n2vc.shape:', n2vc.shape,'n2vp.shape:', n2vp.shape, flush=True)"
   ],
   "metadata": {
    "collapsed": false,
    "pycharm": {
     "name": "#%%\n"
    }
   }
  },
  {
   "cell_type": "code",
   "execution_count": 4,
   "outputs": [
    {
     "name": "stdout",
     "output_type": "stream",
     "text": [
      "use cuda\n"
     ]
    }
   ],
   "source": [
    "device = torch.device('cuda' if torch.cuda.is_available() else 'cpu')\n",
    "print('use', device)"
   ],
   "metadata": {
    "collapsed": false,
    "pycharm": {
     "name": "#%%\n"
    }
   }
  },
  {
   "cell_type": "code",
   "execution_count": 36,
   "outputs": [
    {
     "data": {
      "text/plain": "DeepCNN(\n  (conv1_pro): Conv2d(1, 64, kernel_size=(33, 20), stride=(1,), padding=(16, 0))\n  (bn1_pro): BatchNorm2d(64, eps=1e-05, momentum=0.1, affine=True, track_running_stats=True)\n  (conv2_pro): Conv2d(64, 64, kernel_size=(23, 1), stride=(1,), padding=(11, 0))\n  (bn2_pro): BatchNorm2d(64, eps=1e-05, momentum=0.1, affine=True, track_running_stats=True)\n  (conv3_pro): Conv2d(64, 32, kernel_size=(33, 1), stride=(1,), padding=(16, 0))\n  (bn3_pro): BatchNorm2d(32, eps=1e-05, momentum=0.1, affine=True, track_running_stats=True)\n)"
     },
     "execution_count": 36,
     "metadata": {},
     "output_type": "execute_result"
    }
   ],
   "source": [
    "import torch.nn as nn\n",
    "import torch.nn.functional as F\n",
    "import time\n",
    "\n",
    "\n",
    "# prosize: 5762, plensize:20\n",
    "# j1:33, s1:1, pf1:64 = window-size, stride-step, No. of filters of first protein-CNN convolution layer\n",
    "# ja1:17 sa1:1 = window-size, stride-step of first protein-CNN average-pooling layer\n",
    "# j2:23,s2:1, pf2:64 = second protein-CNN convolution layer\n",
    "# ja2:11, sa2:1 = second protein-CNN average-pooling layer\n",
    "# j3:33, s3:1, pf3:32 = third protein-CNN convolution layer\n",
    "# ja3:17, sa3:1 third protein-CNN average-pooling layer\n",
    "# n_hid3:70, n_hid4:80, n_hid5:60, n_out:1\n",
    "class DeepCNN(nn.Module):\n",
    "    def __init__(self):\n",
    "        super(DeepCNN, self).__init__()\n",
    "        # first conv of seq_cnn\n",
    "        self.conv1_pro = nn.Conv2d(1, 64, (33, 20), stride= (1, ), padding=(33//2, 0))\n",
    "        self.bn1_pro = nn.BatchNorm2d(64)\n",
    "        # second conv of seq_cnn\n",
    "        self.conv2_pro = nn.Conv2d(64, 64, (23, 1), stride= (1, ), padding=(23//2, 0))\n",
    "        self.bn2_pro = nn.BatchNorm2d(64)\n",
    "        # third conv of seq_cnn\n",
    "        self.conv3_pro = nn.Conv2d(64, 32, (33, 1), stride=(1, ), padding=(33//2, 0))\n",
    "        self.bn3_pro = nn.BatchNorm2d(32)\n",
    "        fc3_pro = nn.Linear(115240, 70) # 5762 x 20\n",
    "\n",
    "        self.m1 = (5762+(33//2*2)-33)//1+1\n",
    "        # print('m1', self.m1)\n",
    "        self.m2 = (self.m1+(17//2*2)-17)//1+1\n",
    "        # print('m2', self.m2)\n",
    "        self.m3 = (self.m2+(23//2*2)-23)//1+1\n",
    "        # print('m3', self.m3)\n",
    "        self.m4 = (self.m3+(11//2*2)-11)//1+1\n",
    "        # print('m4', self.m4)\n",
    "        self.m5 = (self.m4+(33//2*2)-33)//1+1\n",
    "        # print('m5', self.m5)\n",
    "        self.m6 = (self.m5+(17//2*2)-17)//1+1\n",
    "        # print('m6', self.m6)\n",
    "\n",
    "    def forward(self, seq):\n",
    "        seq = self.conv1_pro(seq)  # first conv\n",
    "        seq = self.bn1_pro(seq)    # batch norm\n",
    "        seq = F.leaky_relu(seq)    # leaky_relu activation\n",
    "        seq = F.dropout(seq, p=0.2) # dropout\n",
    "        seq = F.avg_pool2d(seq, (17, 1), stride=1, padding=(17//2, 0)) # avg_pooling\n",
    "\n",
    "        seq = self.conv2_pro(seq)\n",
    "        seq = self.bn2_pro(seq)\n",
    "        seq = F.leaky_relu(seq)\n",
    "        seq = F.dropout(seq, p=0.2)\n",
    "        seq = F.avg_pool2d(seq, (11, 1), stride=1, padding=(11//2, 0))\n",
    "\n",
    "        seq = self.conv3_pro(seq)\n",
    "        seq = self.bn3_pro(seq)\n",
    "        seq = F.leaky_relu(seq)\n",
    "        seq = F.dropout(seq, p=0.2)\n",
    "        seq = F.avg_pool2d(seq, (17, 1), stride=1, padding=(17//2, 0))\n",
    "        seq_protein = F.max_pool2d(seq, (self.m6, 1))\n",
    "        return seq_protein\n",
    "\n",
    "\n",
    "model = DeepCNN()\n",
    "model.to(device)\n"
   ],
   "metadata": {
    "collapsed": false,
    "pycharm": {
     "name": "#%%\n"
    }
   }
  },
  {
   "cell_type": "code",
   "execution_count": 37,
   "outputs": [
    {
     "name": "stdout",
     "output_type": "stream",
     "text": [
      "(14196, 32)\n",
      "Total time is 39.66327261924744 sec．\n"
     ]
    }
   ],
   "source": [
    "START = time.time()\n",
    "features = []\n",
    "for i in range(14196):\n",
    "    seq_pro = torch.from_numpy(sequences[i].astype(np.float32)).clone()\n",
    "    seq_pro = seq_pro.reshape(1, 1, 5762, 20)\n",
    "    #print(seq.shape)\n",
    "    seq = seq_pro.to(device)\n",
    "    with torch.no_grad():\n",
    "        feature = model(seq)\n",
    "    features.append(feature.cpu().detach().numpy().reshape(-1))\n",
    "features = np.array(features)\n",
    "print(features.shape)\n",
    "\n",
    "END = time.time()\n",
    "print('Total time is {} sec．'.format(END-START))\n",
    "\n"
   ],
   "metadata": {
    "collapsed": false,
    "pycharm": {
     "name": "#%%\n"
    }
   }
  },
  {
   "cell_type": "code",
   "execution_count": 41,
   "outputs": [
    {
     "name": "stdout",
     "output_type": "stream",
     "text": [
      "(14196, 1024) (14196, 128)\n"
     ]
    },
    {
     "ename": "TypeError",
     "evalue": "concat() received an invalid combination of arguments - got (Tensor, Tensor), but expected one of:\n * (tuple of Tensors tensors, int dim, *, Tensor out)\n * (tuple of Tensors tensors, name dim, *, Tensor out)\n",
     "output_type": "error",
     "traceback": [
      "\u001B[1;31m---------------------------------------------------------------------------\u001B[0m",
      "\u001B[1;31mTypeError\u001B[0m                                 Traceback (most recent call last)",
      "\u001B[1;32m<ipython-input-41-a54bd49bde6a>\u001B[0m in \u001B[0;36m<module>\u001B[1;34m\u001B[0m\n\u001B[0;32m      5\u001B[0m \u001B[0mecfp_\u001B[0m \u001B[1;33m=\u001B[0m \u001B[0mtorch\u001B[0m\u001B[1;33m.\u001B[0m\u001B[0mfrom_numpy\u001B[0m\u001B[1;33m(\u001B[0m\u001B[0mecfp\u001B[0m\u001B[1;33m.\u001B[0m\u001B[0mastype\u001B[0m\u001B[1;33m(\u001B[0m\u001B[0mnp\u001B[0m\u001B[1;33m.\u001B[0m\u001B[0mfloat32\u001B[0m\u001B[1;33m)\u001B[0m\u001B[1;33m)\u001B[0m\u001B[1;33m.\u001B[0m\u001B[0mclone\u001B[0m\u001B[1;33m(\u001B[0m\u001B[1;33m)\u001B[0m\u001B[1;33m\u001B[0m\u001B[1;33m\u001B[0m\u001B[0m\n\u001B[0;32m      6\u001B[0m \u001B[0mn2vc_\u001B[0m \u001B[1;33m=\u001B[0m \u001B[0mtorch\u001B[0m\u001B[1;33m.\u001B[0m\u001B[0mfrom_numpy\u001B[0m\u001B[1;33m(\u001B[0m\u001B[0mn2vc\u001B[0m\u001B[1;33m.\u001B[0m\u001B[0mastype\u001B[0m\u001B[1;33m(\u001B[0m\u001B[0mnp\u001B[0m\u001B[1;33m.\u001B[0m\u001B[0mfloat32\u001B[0m\u001B[1;33m)\u001B[0m\u001B[1;33m)\u001B[0m\u001B[1;33m.\u001B[0m\u001B[0mclone\u001B[0m\u001B[1;33m(\u001B[0m\u001B[1;33m)\u001B[0m\u001B[1;33m\u001B[0m\u001B[1;33m\u001B[0m\u001B[0m\n\u001B[1;32m----> 7\u001B[1;33m \u001B[0ma\u001B[0m \u001B[1;33m=\u001B[0m \u001B[0mtorch\u001B[0m\u001B[1;33m.\u001B[0m\u001B[0mconcat\u001B[0m\u001B[1;33m(\u001B[0m\u001B[0mecfp_\u001B[0m\u001B[1;33m.\u001B[0m\u001B[0mto\u001B[0m\u001B[1;33m(\u001B[0m\u001B[0mdevice\u001B[0m\u001B[1;33m)\u001B[0m\u001B[1;33m,\u001B[0m \u001B[0mn2vc_\u001B[0m\u001B[1;33m.\u001B[0m\u001B[0mto\u001B[0m\u001B[1;33m(\u001B[0m\u001B[0mdevice\u001B[0m\u001B[1;33m)\u001B[0m\u001B[1;33m)\u001B[0m\u001B[1;33m\u001B[0m\u001B[1;33m\u001B[0m\u001B[0m\n\u001B[0m\u001B[0;32m      8\u001B[0m \u001B[1;31m# a = F.concat(ecfp, n2vc)\u001B[0m\u001B[1;33m\u001B[0m\u001B[1;33m\u001B[0m\u001B[1;33m\u001B[0m\u001B[0m\n\u001B[0;32m      9\u001B[0m \u001B[1;33m\u001B[0m\u001B[0m\n",
      "\u001B[1;31mTypeError\u001B[0m: concat() received an invalid combination of arguments - got (Tensor, Tensor), but expected one of:\n * (tuple of Tensors tensors, int dim, *, Tensor out)\n * (tuple of Tensors tensors, name dim, *, Tensor out)\n"
     ]
    }
   ],
   "source": [
    "import chainer\n",
    "import chainer.links as L\n",
    "import chainer.functions as F\n",
    "print(ecfp.shape, n2vc.shape)\n",
    "ecfp_ = torch.from_numpy(ecfp.astype(np.float32)).clone()\n",
    "n2vc_ = torch.from_numpy(n2vc.astype(np.float32)).clone()\n",
    "a = torch.concat(ecfp_.to(device), n2vc_.to(device))\n",
    "# a = F.concat(ecfp, n2vc)\n",
    "\n",
    "print(a.shape)\n",
    "\n",
    "\n",
    "\n",
    "\n"
   ],
   "metadata": {
    "collapsed": false,
    "pycharm": {
     "name": "#%%\n"
    }
   }
  }
 ],
 "metadata": {
  "kernelspec": {
   "display_name": "Python 3",
   "language": "python",
   "name": "python3"
  },
  "language_info": {
   "codemirror_mode": {
    "name": "ipython",
    "version": 2
   },
   "file_extension": ".py",
   "mimetype": "text/x-python",
   "name": "python",
   "nbconvert_exporter": "python",
   "pygments_lexer": "ipython2",
   "version": "2.7.6"
  }
 },
 "nbformat": 4,
 "nbformat_minor": 0
}