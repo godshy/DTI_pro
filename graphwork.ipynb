{
 "cells": [
  {
   "cell_type": "code",
   "execution_count": 17,
   "metadata": {
    "collapsed": true
   },
   "outputs": [],
   "source": [
    "\n",
    "import torch\n",
    "import torch.nn as nn\n",
    "import torch.nn.functional as F\n",
    "\n",
    "import openpyxl\n",
    "\n",
    "# from torch_geometric import utils\n",
    "import networkx as nx\n",
    "import pandas as pd\n",
    "# from torch_geometric.nn import GCNConv\n",
    "# from torch_geometric.data import Data\n",
    "import pygraphviz as pgv\n",
    "import numpy as np\n",
    "from node2vec import Node2Vec\n",
    "import pickle\n",
    "import matplotlib.pyplot as plt\n",
    "from PIL import Image\n",
    "# Image.MAX_IMAGE_PIXELS = 3075432330\n",
    "\n",
    "\n",
    "# In[5]:"
   ]
  },
  {
   "cell_type": "code",
   "execution_count": 18,
   "outputs": [],
   "source": [
    "graph_source = pd.read_csv('to_graph.csv')\n",
    "df = pd.read_csv('final_result_mibig.csv')\n",
    "df_co_net = pd.read_excel('Microbe_microbe_co_network.xls')"
   ],
   "metadata": {
    "collapsed": false,
    "pycharm": {
     "name": "#%%\n"
    }
   }
  },
  {
   "cell_type": "code",
   "execution_count": 19,
   "outputs": [],
   "source": [
    "i = df_co_net['species1']\n",
    "i2 = df_co_net['species2']"
   ],
   "metadata": {
    "collapsed": false,
    "pycharm": {
     "name": "#%%\n"
    }
   }
  },
  {
   "cell_type": "code",
   "execution_count": 20,
   "outputs": [],
   "source": [
    "i_new = []\n",
    "i2_new = []\n",
    "for idx in i:\n",
    "     i_new.append(idx.split('_'))\n",
    "for idx in i2:\n",
    "    i2_new.append(idx.split('_'))\n"
   ],
   "metadata": {
    "collapsed": false,
    "pycharm": {
     "name": "#%%\n"
    }
   }
  },
  {
   "cell_type": "code",
   "execution_count": 21,
   "outputs": [],
   "source": [
    "# check if any overlaps between MCCN and co-occurence network\n",
    "MCCN_org = graph_source['organism_name']\n",
    "\n",
    "MCCN_org_new = []\n",
    "for idx in MCCN_org:\n",
    "    MCCN_org_new.append(idx.split(' '))"
   ],
   "metadata": {
    "collapsed": false,
    "pycharm": {
     "name": "#%%\n"
    }
   }
  },
  {
   "cell_type": "code",
   "execution_count": 22,
   "outputs": [],
   "source": [
    "similar  = []\n",
    "similar_2 = []\n",
    "for idx in i_new:\n",
    "    for idx_1 in MCCN_org_new:\n",
    "        if idx[0] in idx_1:\n",
    "            similar.append((idx, idx_1))\n",
    "for idx in i2_new:\n",
    "    for idx_1 in MCCN_org_new:\n",
    "        if idx[0] in idx_1:\n",
    "            similar_2.append((idx, idx_1))"
   ],
   "metadata": {
    "collapsed": false,
    "pycharm": {
     "name": "#%%\n"
    }
   }
  },
  {
   "cell_type": "code",
   "execution_count": 23,
   "outputs": [
    {
     "name": "stderr",
     "output_type": "stream",
     "text": [
      "/Library/Frameworks/Python.framework/Versions/3.7/lib/python3.7/site-packages/ipykernel_launcher.py:1: VisibleDeprecationWarning: Creating an ndarray from ragged nested sequences (which is a list-or-tuple of lists-or-tuples-or ndarrays with different lengths or shapes) is deprecated. If you meant to do this, you must specify 'dtype=object' when creating the ndarray\n",
      "  \"\"\"Entry point for launching an IPython kernel.\n",
      "/Library/Frameworks/Python.framework/Versions/3.7/lib/python3.7/site-packages/ipykernel_launcher.py:2: VisibleDeprecationWarning: Creating an ndarray from ragged nested sequences (which is a list-or-tuple of lists-or-tuples-or ndarrays with different lengths or shapes) is deprecated. If you meant to do this, you must specify 'dtype=object' when creating the ndarray\n",
      "  \n"
     ]
    }
   ],
   "source": [
    "similar_ = np.array(similar)\n",
    "similar2_ = np.array(similar_2)\n",
    "\n",
    "similar_all = np.append(similar_, similar2_, axis=0)\n",
    "\n",
    "similar_all_list = similar_all.tolist()\n"
   ],
   "metadata": {
    "collapsed": false,
    "pycharm": {
     "name": "#%%\n"
    }
   }
  },
  {
   "cell_type": "code",
   "execution_count": 24,
   "outputs": [
    {
     "name": "stdout",
     "output_type": "stream",
     "text": [
      "621\n"
     ]
    }
   ],
   "source": [
    "def get_unique_list(seq):\n",
    "    seen = []\n",
    "    return [x for x in seq if x not in seen and not seen.append(x)]\n",
    "dereplicate_all_new = get_unique_list(similar_all_list)\n",
    "# dereplicate_2 = get_unique_list(similar_2)\n",
    "print(len(dereplicate_all_new))\n",
    "# print(dereplicate_2)\n",
    "# export similar similar2 to csv"
   ],
   "metadata": {
    "collapsed": false,
    "pycharm": {
     "name": "#%%\n"
    }
   }
  },
  {
   "cell_type": "code",
   "execution_count": 61,
   "outputs": [],
   "source": [
    "import csv\n",
    "f = open('final_all.csv', 'w', newline='')\n",
    "writer = csv.writer(f)\n",
    "writer.writerows(dereplicate_all_new)\n",
    "f.close()\n"
   ],
   "metadata": {
    "collapsed": false,
    "pycharm": {
     "name": "#%%\n"
    }
   }
  },
  {
   "cell_type": "code",
   "execution_count": 25,
   "outputs": [
    {
     "name": "stdout",
     "output_type": "stream",
     "text": [
      "2689\n",
      "2689\n",
      "organism nodes: 1176\n",
      "compound nodes: 2345\n",
      "mean degrees of old MCCN compounds:  1.100639658848614\n",
      "mean degrees of old MCCN organism: 2.1947278911564627\n"
     ]
    }
   ],
   "source": [
    "\n",
    "\n",
    "\n",
    "# In[13]:\n",
    "\n",
    "\n",
    "graph_source\n",
    "\n",
    "\n",
    "# In[24]:\n",
    "\n",
    "\n",
    "node_organism = list(graph_source['organism_name'])\n",
    "node_organism_colored = []\n",
    "\n",
    "node_compound = list(graph_source['compound'])\n",
    "node_compound_colored = []\n",
    "\n",
    "edges = []\n",
    "for k in range(len(node_organism)):\n",
    "    edges.append((node_organism[k], node_compound[k]))\n",
    "\n",
    "\n",
    "# In[27]:\n",
    "# organism ---> compound\n",
    "pos = {}\n",
    "#pos.update((node, (0, index)) for index, node in enumerate(node_organism))\n",
    "#pos.update((node, (1, index)) for index, node in enumerate(node_compound))\n",
    "G = nx.DiGraph()\n",
    "G.add_nodes_from(node_organism, bipartite=0, color='red')\n",
    "G.add_nodes_from(node_compound, bipartite=1, color='green')\n",
    "G.add_edges_from(edges)\n",
    "print(len(node_compound))\n",
    "print(len(node_organism))\n",
    "degree_organism_G = np.array(G.degree(get_unique_list(node_organism)))\n",
    "degree_compound_G = np.array(G.degree(get_unique_list(node_compound)))\n",
    "print('organism nodes:', len(get_unique_list(node_organism)))\n",
    "print('compound nodes:', len(get_unique_list(node_compound)))\n",
    "print('mean degrees of old MCCN compounds: ', np.mean(degree_compound_G[:,-1].astype(float)))\n",
    "print('mean degrees of old MCCN organism:', np.mean(degree_organism_G[:,-1].astype(float)))"
   ],
   "metadata": {
    "collapsed": false,
    "pycharm": {
     "name": "#%%\n"
    }
   }
  },
  {
   "cell_type": "code",
   "execution_count": 26,
   "outputs": [],
   "source": [
    "modified_all_new = []\n",
    "for i in dereplicate_all_new:\n",
    "    modified_all_new.append([' '.join(i[0]),' '.join(i[1])])"
   ],
   "metadata": {
    "collapsed": false,
    "pycharm": {
     "name": "#%%\n"
    }
   }
  },
  {
   "cell_type": "code",
   "execution_count": 27,
   "outputs": [],
   "source": [
    "new_org = []\n",
    "for i in modified_all_new:\n",
    "    new_org.append(i[0])\n"
   ],
   "metadata": {
    "collapsed": false,
    "pycharm": {
     "name": "#%%\n"
    }
   }
  },
  {
   "cell_type": "code",
   "execution_count": 28,
   "outputs": [],
   "source": [
    "G_new_micbio = G\n",
    "for i in list(G_new_micbio.nodes):\n",
    "    for j in modified_all_new:\n",
    "        if j[-1] == i:\n",
    "            G_new_micbio.add_edge(j[0], i)\n",
    "            # print(j[0], i, j[-1])\n"
   ],
   "metadata": {
    "collapsed": false,
    "pycharm": {
     "name": "#%%\n"
    }
   }
  },
  {
   "cell_type": "code",
   "execution_count": 29,
   "outputs": [],
   "source": [
    "degree_organism = G_new_micbio.degree(get_unique_list(node_organism))\n",
    "degree_compound = G_new_micbio.degree(get_unique_list(node_compound))\n",
    "degree_new_org = G_new_micbio.degree(get_unique_list(new_org))\n",
    "degree_compound = np.array(degree_compound)\n",
    "degree_organism = np.array(degree_organism)\n",
    "degree_new_org = np.array(degree_new_org)"
   ],
   "metadata": {
    "collapsed": false,
    "pycharm": {
     "name": "#%%\n"
    }
   }
  },
  {
   "cell_type": "code",
   "execution_count": 30,
   "outputs": [
    {
     "data": {
      "text/plain": "<networkx.classes.digraph.DiGraph at 0x7f8de0610748>"
     },
     "execution_count": 30,
     "metadata": {},
     "output_type": "execute_result"
    }
   ],
   "source": [
    "G\n",
    "G_new_micbio"
   ],
   "metadata": {
    "collapsed": false,
    "pycharm": {
     "name": "#%%\n"
    }
   }
  },
  {
   "cell_type": "code",
   "execution_count": 31,
   "outputs": [
    {
     "name": "stdout",
     "output_type": "stream",
     "text": [
      "new_org nodes: 42\n",
      "mean degrees of compounds:  1.100639658848614\n",
      "mean degrees of organism: 2.7253401360544216\n",
      "mean degrees of new_organism: 15.238095238095237\n"
     ]
    }
   ],
   "source": [
    "print('new_org nodes:', len(get_unique_list(new_org)))\n",
    "print('mean degrees of compounds: ', np.mean(degree_compound[:,-1].astype(float)))\n",
    "print('mean degrees of organism:', np.mean(degree_organism[:,-1].astype(float)))\n",
    "print('mean degrees of new_organism:', np.mean(degree_new_org[:,-1].astype(float)))"
   ],
   "metadata": {
    "collapsed": false,
    "pycharm": {
     "name": "#%%\n"
    }
   }
  },
  {
   "cell_type": "code",
   "execution_count": null,
   "outputs": [],
   "source": [
    "G\n",
    "G_new_micbio\n",
    "nx.write_graphml_lxml(G_new_micbio, \"MCCN_new_org.graphml\")\n",
    "\n",
    "\n",
    "\n"
   ],
   "metadata": {
    "collapsed": false,
    "pycharm": {
     "name": "#%%\n"
    }
   }
  },
  {
   "cell_type": "code",
   "execution_count": 101,
   "outputs": [
    {
     "data": {
      "text/plain": "Computing transition probabilities:   0%|          | 0/3562 [00:00<?, ?it/s]",
      "application/vnd.jupyter.widget-view+json": {
       "version_major": 2,
       "version_minor": 0,
       "model_id": "26b44141a430493797a69bdd1a6f820f"
      }
     },
     "metadata": {},
     "output_type": "display_data"
    },
    {
     "name": "stderr",
     "output_type": "stream",
     "text": [
      "Generating walks (CPU: 1): 100%|██████████| 10/10 [00:00<00:00, 12.13it/s]\n"
     ]
    },
    {
     "name": "stdout",
     "output_type": "stream",
     "text": [
      "END\n"
     ]
    }
   ],
   "source": [
    "# node2vec on graph\n",
    "node2vec = Node2Vec(G_new_micbio)\n",
    "# Embed\n",
    "model = node2vec.fit()  # Any keywords acceptable by gensim.Word2Vec can be passed, `diemnsions` and `workers` are automatically passed (from the Node2Vec constructor)\n",
    "\n",
    "# Save the model of Node2vec\n",
    "with open('o2c_new_bio.pickle', mode='wb') as f:\n",
    "    pickle.dump(model, f)\n",
    "print('END')"
   ],
   "metadata": {
    "collapsed": false,
    "pycharm": {
     "name": "#%%\n"
    }
   }
  },
  {
   "cell_type": "code",
   "execution_count": 6,
   "outputs": [
    {
     "name": "stdout",
     "output_type": "stream",
     "text": [
      "usecuda\n"
     ]
    }
   ],
   "source": [
    "# applied Graph convolution network to learn features\n",
    "if torch.cuda.is_available():\n",
    "    device = 'cuda'\n",
    "print('use'+device)\n",
    "def representation_learning(input_dim, hidden_dim, output_dim, data):\n",
    "    dropout = 0.5\n",
    "    convs = nn.ModuleList()\n",
    "    convs.append(GCNConv(input_dim, hidden_dim))\n",
    "    num_layers = 3\n",
    "    heads = 1\n",
    "    for l in range(num_layers-1):\n",
    "        convs.append(GCNConv(heads * hidden_dim, hidden_dim))\n",
    "\n",
    "    post_mp = nn.Sequential(\n",
    "        nn.Linear(heads * hidden_dim, hidden_dim), nn.Dropout(dropout),\n",
    "        nn.Linear(hidden_dim, output_dim))\n",
    "\n",
    "\n",
    "    x, edge_index, batch = data.x, data.edge_index, data.batch\n",
    "\n",
    "    for i in range(num_layers):\n",
    "        x = convs[i](x, edge_index)\n",
    "        x = F.relu(x)\n",
    "        x = F.dropout(x, p=dropout)\n",
    "\n",
    "    x = post_mp(x)\n",
    "    return x, F.log_softmax(x, dim=1)\n"
   ],
   "metadata": {
    "collapsed": false,
    "pycharm": {
     "name": "#%%\n"
    }
   }
  },
  {
   "cell_type": "code",
   "execution_count": 7,
   "outputs": [],
   "source": [
    "G_1 = nx.convert_node_labels_to_integers(G)"
   ],
   "metadata": {
    "collapsed": false,
    "pycharm": {
     "name": "#%%\n"
    }
   }
  },
  {
   "cell_type": "code",
   "execution_count": 8,
   "outputs": [
    {
     "name": "stdout",
     "output_type": "stream",
     "text": [
      "compound length:  2689\n",
      "organism length 2689\n",
      "torch.Size([2, 1, 2689])\n",
      "tensor([[[0., 0., 0.,  ..., 0., 0., 0.]],\n",
      "\n",
      "        [[1., 1., 1.,  ..., 1., 1., 1.]]])\n",
      "torch.Size([5378, 1])\n",
      "tensor([[0.],\n",
      "        [0.],\n",
      "        [0.],\n",
      "        ...,\n",
      "        [1.],\n",
      "        [1.],\n",
      "        [1.]])\n",
      "Data(x=[5378, 1], edge_index=[2, 2581])\n",
      "1\n"
     ]
    },
    {
     "name": "stderr",
     "output_type": "stream",
     "text": [
      "C:\\Users\\asse9\\AppData\\Local\\Programs\\Python\\Python37\\lib\\site-packages\\ipykernel_launcher.py:9: UserWarning: Creating a tensor from a list of numpy.ndarrays is extremely slow. Please consider converting the list to a single numpy.ndarray with numpy.array() before converting to a tensor. (Triggered internally at  C:\\actions-runner\\_work\\pytorch\\pytorch\\builder\\windows\\pytorch\\torch\\csrc\\utils\\tensor_new.cpp:210.)\n",
      "  if __name__ == '__main__':\n"
     ]
    }
   ],
   "source": [
    "node_organism_label = np.ones([1, len(node_organism) ])\n",
    "node_compound_label = np.zeros([1, len(node_compound) ])\n",
    "print('compound length: ', len(node_compound))\n",
    "print('organism length', len(node_organism))\n",
    "\n",
    "\n",
    "Data1 = utils.from_networkx(G_1)\n",
    "# node_compound.append(node_organism)\n",
    "x = torch.tensor([node_compound_label, node_organism_label], dtype=torch.float)\n",
    "print(x.shape)\n",
    "print(x)\n",
    "x =x.view(-1, 5378).t()\n",
    "print(x.shape)\n",
    "print(x)\n",
    "edges_list = list(G_1.edges)\n",
    "edge_index = torch.tensor(edges_list, dtype=torch.long)\n",
    "data = Data(x=x, edge_index=edge_index.t().contiguous())\n",
    "\n",
    "hidden_dim = 128\n",
    "data.edge_index\n",
    "print(data)\n",
    "print(data.num_node_features)\n",
    "a, b = representation_learning(data.num_node_features, hidden_dim, 128, data)"
   ],
   "metadata": {
    "collapsed": false,
    "pycharm": {
     "name": "#%%\n"
    }
   }
  },
  {
   "cell_type": "code",
   "execution_count": 9,
   "outputs": [
    {
     "data": {
      "text/plain": "tensor([[0.],\n        [0.],\n        [0.],\n        ...,\n        [1.],\n        [1.],\n        [1.]])"
     },
     "execution_count": 9,
     "metadata": {},
     "output_type": "execute_result"
    }
   ],
   "source": [
    "data.x"
   ],
   "metadata": {
    "collapsed": false,
    "pycharm": {
     "name": "#%%\n"
    }
   }
  },
  {
   "cell_type": "code",
   "execution_count": 10,
   "outputs": [],
   "source": [
    "a = a.to('cpu').detach().numpy().copy()\n",
    "b = b.to('cpu').detach().numpy().copy()"
   ],
   "metadata": {
    "collapsed": false,
    "pycharm": {
     "name": "#%%\n"
    }
   }
  },
  {
   "cell_type": "code",
   "execution_count": 11,
   "outputs": [
    {
     "name": "stdout",
     "output_type": "stream",
     "text": [
      "(5378, 128)\n",
      "(5378, 128)\n",
      "0.15697138 -0.19782788\n",
      "-4.699101 -5.0539002\n",
      "(2689, 128)\n"
     ]
    }
   ],
   "source": [
    "print(a.shape)\n",
    "print(b.shape)\n",
    "print(a[0].max(), a[0].min())\n",
    "print(b[0].max(), b[0].min())\n",
    "a_compound = a[0:2689]\n",
    "print(a_compound.shape)\n",
    "np.save('o2c_gcn.npy', a_compound)"
   ],
   "metadata": {
    "collapsed": false,
    "pycharm": {
     "name": "#%%\n"
    }
   }
  },
  {
   "cell_type": "code",
   "execution_count": 12,
   "outputs": [
    {
     "data": {
      "text/plain": "Computing transition probabilities:   0%|          | 0/3521 [00:00<?, ?it/s]",
      "application/vnd.jupyter.widget-view+json": {
       "version_major": 2,
       "version_minor": 0,
       "model_id": "7d0a6d30a61e4943a67bffa54231b4d3"
      }
     },
     "metadata": {},
     "output_type": "display_data"
    },
    {
     "name": "stderr",
     "output_type": "stream",
     "text": [
      "Generating walks (CPU: 1): 100%|██████████| 10/10 [00:00<00:00, 13.94it/s]\n"
     ]
    }
   ],
   "source": [
    "from node2vec import Node2Vec\n",
    "\n",
    "node2vec = Node2Vec(G)\n",
    "# Embed\n",
    "model = node2vec.fit()"
   ],
   "metadata": {
    "collapsed": false,
    "pycharm": {
     "name": "#%%\n"
    }
   }
  },
  {
   "cell_type": "code",
   "execution_count": 13,
   "outputs": [
    {
     "name": "stdout",
     "output_type": "stream",
     "text": [
      "<bound method NDFrame._add_numeric_operations.<locals>.max of Verrucosispora maris AB-18-032    0.004781\n",
      "Kutzneria albida DSM 43870        0.000723\n",
      "Alternaria alternata              0.002823\n",
      "Aspergillus oryzae                0.001534\n",
      "Aspergillus parasiticus           0.001505\n",
      "                                    ...   \n",
      "perquinoline A                    0.004247\n",
      "perquinoline B                    0.005060\n",
      "perquinoline C                   -0.001977\n",
      "ilicicolin H                     -0.001801\n",
      "dehydrofosmidomycin              -0.000834\n",
      "Name: 0, Length: 3521, dtype: float64> <bound method NDFrame._add_numeric_operations.<locals>.min of Verrucosispora maris AB-18-032    0.004781\n",
      "Kutzneria albida DSM 43870        0.000723\n",
      "Alternaria alternata              0.002823\n",
      "Aspergillus oryzae                0.001534\n",
      "Aspergillus parasiticus           0.001505\n",
      "                                    ...   \n",
      "perquinoline A                    0.004247\n",
      "perquinoline B                    0.005060\n",
      "perquinoline C                   -0.001977\n",
      "ilicicolin H                     -0.001801\n",
      "dehydrofosmidomycin              -0.000834\n",
      "Name: 0, Length: 3521, dtype: float64>\n"
     ]
    }
   ],
   "source": [
    "# convert node2vec to dataframe\n",
    "emb_df = (\n",
    "    pd.DataFrame(\n",
    "        [model.wv.get_vector(str(n)) for n in G.nodes()],\n",
    "        index = G.nodes\n",
    "    )\n",
    ")\n",
    "emb_df.shape\n",
    "print(emb_df[0].max, emb_df[0].min)"
   ],
   "metadata": {
    "collapsed": false,
    "pycharm": {
     "name": "#%%\n"
    }
   }
  },
  {
   "cell_type": "code",
   "execution_count": 14,
   "outputs": [
    {
     "name": "stdout",
     "output_type": "stream",
     "text": [
      "2581\n",
      "2689\n",
      "0\n"
     ]
    }
   ],
   "source": [
    "## check if the microbe-compound interaction graph is directed graph and the directions are right\n",
    "## also check number of edges\n",
    "T_edge = 0\n",
    "F_edge = 0\n",
    "a = []\n",
    "for k, v in enumerate(node_organism):\n",
    "    a.append((v, node_compound[k]))\n",
    "    if G.has_edge(v, node_compound[k]) == True:\n",
    "        T_edge +=1\n",
    "    if G.has_edge(node_compound[k], v) == True:\n",
    "        F_edge +=1\n",
    "print(G.number_of_edges())\n",
    "print(T_edge)\n",
    "print(F_edge)"
   ],
   "metadata": {
    "collapsed": false,
    "pycharm": {
     "name": "#%%\n"
    }
   }
  },
  {
   "cell_type": "code",
   "execution_count": 15,
   "outputs": [],
   "source": [
    "seen = set()\n",
    "dupes = []\n",
    "\n",
    "for x in a:\n",
    "    if x in seen:\n",
    "        dupes.append(x)\n",
    "    else:\n",
    "        seen.add(x)"
   ],
   "metadata": {
    "collapsed": false,
    "pycharm": {
     "name": "#%%\n"
    }
   }
  },
  {
   "cell_type": "code",
   "execution_count": 16,
   "outputs": [
    {
     "data": {
      "text/plain": "108"
     },
     "execution_count": 16,
     "metadata": {},
     "output_type": "execute_result"
    }
   ],
   "source": [
    "len(dupes)"
   ],
   "metadata": {
    "collapsed": false,
    "pycharm": {
     "name": "#%%\n"
    }
   }
  }
 ],
 "metadata": {
  "kernelspec": {
   "name": "pycharm-401621b5",
   "language": "python",
   "display_name": "PyCharm (ML)"
  },
  "language_info": {
   "codemirror_mode": {
    "name": "ipython",
    "version": 2
   },
   "file_extension": ".py",
   "mimetype": "text/x-python",
   "name": "python",
   "nbconvert_exporter": "python",
   "pygments_lexer": "ipython2",
   "version": "2.7.6"
  }
 },
 "nbformat": 4,
 "nbformat_minor": 0
}