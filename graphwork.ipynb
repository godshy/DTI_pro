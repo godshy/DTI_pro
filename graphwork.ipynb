{
 "cells": [
  {
   "cell_type": "code",
   "execution_count": 43,
   "metadata": {
    "collapsed": true
   },
   "outputs": [],
   "source": [
    "\n",
    "import torch\n",
    "import torch.nn as nn\n",
    "import torch.nn.functional as F\n",
    "\n",
    "import openpyxl\n",
    "\n",
    "# from torch_geometric import utils\n",
    "import networkx as nx\n",
    "import pandas as pd\n",
    "# from torch_geometric.nn import GCNConv\n",
    "# from torch_geometric.data import Data\n",
    "import pygraphviz as pgv\n",
    "import numpy as np\n",
    "from node2vec import Node2Vec\n",
    "import pickle\n",
    "import matplotlib.pyplot as plt\n",
    "from PIL import Image\n",
    "# Image.MAX_IMAGE_PIXELS = 3075432330\n",
    "\n",
    "\n",
    "# In[5]:"
   ]
  },
  {
   "cell_type": "code",
   "execution_count": 44,
   "outputs": [],
   "source": [
    "graph_source = pd.read_csv('to_graph.csv')\n",
    "df = pd.read_csv('final_result_mibig.csv')\n",
    "df_co_net = pd.read_excel('Microbe_microbe_co_network.xls')"
   ],
   "metadata": {
    "collapsed": false,
    "pycharm": {
     "name": "#%%\n"
    }
   }
  },
  {
   "cell_type": "code",
   "execution_count": 45,
   "outputs": [],
   "source": [
    "i = df_co_net['species1']\n",
    "i2 = df_co_net['species2']"
   ],
   "metadata": {
    "collapsed": false,
    "pycharm": {
     "name": "#%%\n"
    }
   }
  },
  {
   "cell_type": "code",
   "execution_count": 46,
   "outputs": [],
   "source": [
    "i_new = []\n",
    "i2_new = []\n",
    "for idx in i:\n",
    "     i_new.append(idx.split('_'))\n",
    "for idx in i2:\n",
    "    i2_new.append(idx.split('_'))\n"
   ],
   "metadata": {
    "collapsed": false,
    "pycharm": {
     "name": "#%%\n"
    }
   }
  },
  {
   "cell_type": "code",
   "execution_count": 47,
   "outputs": [],
   "source": [
    "# check if any overlaps between MCCN and co-occurence network\n",
    "MCCN_org = graph_source['organism_name']\n",
    "\n",
    "MCCN_org_new = []\n",
    "for idx in MCCN_org:\n",
    "    MCCN_org_new.append(idx.split(' '))"
   ],
   "metadata": {
    "collapsed": false,
    "pycharm": {
     "name": "#%%\n"
    }
   }
  },
  {
   "cell_type": "code",
   "execution_count": 48,
   "outputs": [],
   "source": [
    "similar  = []\n",
    "similar_2 = []\n",
    "for idx in i_new:\n",
    "    for idx_1 in MCCN_org_new:\n",
    "        if idx[0] in idx_1:\n",
    "            similar.append((idx, idx_1))\n",
    "for idx in i2_new:\n",
    "    for idx_1 in MCCN_org_new:\n",
    "        if idx[0] in idx_1:\n",
    "            similar_2.append((idx, idx_1))"
   ],
   "metadata": {
    "collapsed": false,
    "pycharm": {
     "name": "#%%\n"
    }
   }
  },
  {
   "cell_type": "code",
   "execution_count": 55,
   "outputs": [
    {
     "name": "stderr",
     "output_type": "stream",
     "text": [
      "/Library/Frameworks/Python.framework/Versions/3.7/lib/python3.7/site-packages/ipykernel_launcher.py:1: VisibleDeprecationWarning: Creating an ndarray from ragged nested sequences (which is a list-or-tuple of lists-or-tuples-or ndarrays with different lengths or shapes) is deprecated. If you meant to do this, you must specify 'dtype=object' when creating the ndarray\n",
      "  \"\"\"Entry point for launching an IPython kernel.\n",
      "/Library/Frameworks/Python.framework/Versions/3.7/lib/python3.7/site-packages/ipykernel_launcher.py:2: VisibleDeprecationWarning: Creating an ndarray from ragged nested sequences (which is a list-or-tuple of lists-or-tuples-or ndarrays with different lengths or shapes) is deprecated. If you meant to do this, you must specify 'dtype=object' when creating the ndarray\n",
      "  \n"
     ]
    }
   ],
   "source": [
    "similar_ = np.array(similar)\n",
    "similar2_ = np.array(similar_2)\n",
    "\n",
    "similar_all = np.append(similar_, similar2_, axis=0)\n",
    "\n",
    "similar_all_list = similar_all.tolist()\n"
   ],
   "metadata": {
    "collapsed": false,
    "pycharm": {
     "name": "#%%\n"
    }
   }
  },
  {
   "cell_type": "code",
   "execution_count": 60,
   "outputs": [
    {
     "name": "stdout",
     "output_type": "stream",
     "text": [
      "621\n"
     ]
    }
   ],
   "source": [
    "def get_unique_list(seq):\n",
    "    seen = []\n",
    "    return [x for x in seq if x not in seen and not seen.append(x)]\n",
    "dereplicate_all_new = get_unique_list(similar_all_list)\n",
    "# dereplicate_2 = get_unique_list(similar_2)\n",
    "print(len(dereplicate_all_new))\n",
    "# print(dereplicate_2)\n",
    "# export similar similar2 to csv"
   ],
   "metadata": {
    "collapsed": false,
    "pycharm": {
     "name": "#%%\n"
    }
   }
  },
  {
   "cell_type": "code",
   "execution_count": 61,
   "outputs": [],
   "source": [
    "import csv\n",
    "f = open('final_all.csv', 'w', newline='')\n",
    "writer = csv.writer(f)\n",
    "writer.writerows(dereplicate_all_new)\n",
    "f.close()\n"
   ],
   "metadata": {
    "collapsed": false,
    "pycharm": {
     "name": "#%%\n"
    }
   }
  },
  {
   "cell_type": "code",
   "execution_count": 94,
   "outputs": [
    {
     "name": "stdout",
     "output_type": "stream",
     "text": [
      "2689\n",
      "2689\n"
     ]
    }
   ],
   "source": [
    "\n",
    "\n",
    "\n",
    "# In[13]:\n",
    "\n",
    "\n",
    "graph_source\n",
    "\n",
    "\n",
    "# In[24]:\n",
    "\n",
    "\n",
    "node_organism = list(graph_source['organism_name'])\n",
    "node_organism_colored = []\n",
    "\n",
    "node_compound = list(graph_source['compound'])\n",
    "node_compound_colored = []\n",
    "\n",
    "edges = []\n",
    "for k in range(len(node_organism)):\n",
    "    edges.append((node_organism[k], node_compound[k]))\n",
    "\n",
    "\n",
    "# In[27]:\n",
    "# organism ---> compound\n",
    "pos = {}\n",
    "#pos.update((node, (0, index)) for index, node in enumerate(node_organism))\n",
    "#pos.update((node, (1, index)) for index, node in enumerate(node_compound))\n",
    "G = nx.DiGraph()\n",
    "G.add_nodes_from(node_organism, bipartite=0, color='red')\n",
    "G.add_nodes_from(node_compound, bipartite=1, color='green')\n",
    "G.add_edges_from(edges)\n",
    "print(len(node_compound))\n",
    "print(len(node_organism))"
   ],
   "metadata": {
    "collapsed": false,
    "pycharm": {
     "name": "#%%\n"
    }
   }
  },
  {
   "cell_type": "code",
   "execution_count": 86,
   "outputs": [],
   "source": [
    "modified_all_new = []\n",
    "for i in dereplicate_all_new:\n",
    "    modified_all_new.append([' '.join(i[0]),' '.join(i[1])])"
   ],
   "metadata": {
    "collapsed": false,
    "pycharm": {
     "name": "#%%\n"
    }
   }
  },
  {
   "cell_type": "code",
   "execution_count": 91,
   "outputs": [
    {
     "name": "stdout",
     "output_type": "stream",
     "text": [
      "Sorangium cellulosum Sorangium cellulosum Sorangium cellulosum\n",
      "Streptomyces daliensis Streptomyces nodosus Streptomyces nodosus\n",
      "Streptomyces daliensis Streptomyces eurythermus Streptomyces eurythermus\n",
      "Streptomyces daliensis Streptomyces thioluteus Streptomyces thioluteus\n",
      "Streptomyces daliensis Streptomyces avermitilis Streptomyces avermitilis\n",
      "Streptomyces daliensis Streptomyces viridochromogenes Tue57 Streptomyces viridochromogenes Tue57\n",
      "Streptomyces daliensis Streptomyces lohii Streptomyces lohii\n",
      "Streptomyces daliensis Streptomyces sp. DSM 21069 Streptomyces sp. DSM 21069\n",
      "Streptomyces daliensis Streptomyces parvulus Streptomyces parvulus\n",
      "Streptomyces daliensis Streptomyces chartreusis NRRL 3882 Streptomyces chartreusis NRRL 3882\n",
      "Streptomyces daliensis Streptomyces sp. FR-008 Streptomyces sp. FR-008\n",
      "Streptomyces daliensis Streptomyces bikiniensis Streptomyces bikiniensis\n",
      "Streptomyces daliensis Streptomyces antibioticus Streptomyces antibioticus\n",
      "Streptomyces daliensis Streptomyces coelicolor A3(2) Streptomyces coelicolor A3(2)\n",
      "Streptomyces daliensis Streptomyces neyagawaensis Streptomyces neyagawaensis\n",
      "Streptomyces daliensis Streptomyces sp. MJ635-86F5 Streptomyces sp. MJ635-86F5\n",
      "Streptomyces daliensis Streptomyces sp. KCTC 0041BP Streptomyces sp. KCTC 0041BP\n",
      "Streptomyces daliensis Streptomyces aculeolatus Streptomyces aculeolatus\n",
      "Streptomyces daliensis Streptomyces aizunensis Streptomyces aizunensis\n",
      "Streptomyces daliensis Streptomyces graminofaciens Streptomyces graminofaciens\n",
      "Streptomyces daliensis Streptomyces avermitilis MA-4680 = NBRC 14893 Streptomyces avermitilis MA-4680 = NBRC 14893\n",
      "Streptomyces daliensis Streptomyces pulveraceus Streptomyces pulveraceus\n",
      "Streptomyces daliensis Streptomyces galbus Streptomyces galbus\n",
      "Streptomyces daliensis Streptomyces hygroscopicus Streptomyces hygroscopicus\n",
      "Streptomyces daliensis Streptomyces hygroscopicus subsp. duamyceticus Streptomyces hygroscopicus subsp. duamyceticus\n",
      "Streptomyces daliensis Streptomyces halstedii Streptomyces halstedii\n",
      "Streptomyces daliensis Streptomyces sp. LZ35 Streptomyces sp. LZ35\n",
      "Streptomyces daliensis Streptomyces sp. ML694-90F3 Streptomyces sp. ML694-90F3\n",
      "Streptomyces daliensis Streptomyces amphibiosporus Streptomyces amphibiosporus\n",
      "Streptomyces daliensis Streptomyces sp. CS684 Streptomyces sp. CS684\n",
      "Streptomyces daliensis Streptomyces rochei Streptomyces rochei\n",
      "Streptomyces daliensis Streptomyces lasaliensis Streptomyces lasaliensis\n",
      "Streptomyces daliensis Streptomyces sp. CNQ-617 Streptomyces sp. CNQ-617\n",
      "Streptomyces daliensis Streptomyces nanchangensis Streptomyces nanchangensis\n",
      "Streptomyces daliensis Streptomyces venezuelae Streptomyces venezuelae\n",
      "Streptomyces daliensis Streptomyces mycarofaciens Streptomyces mycarofaciens\n",
      "Streptomyces daliensis Streptomyces sp. MP39-85 Streptomyces sp. MP39-85\n",
      "Streptomyces daliensis Streptomyces cinnamonensis Streptomyces cinnamonensis\n",
      "Mycobacterium obuense Mycobacterium ulcerans Agy99 Mycobacterium ulcerans Agy99\n",
      "Streptomyces daliensis Streptomyces sp. CS Streptomyces sp. CS\n",
      "Streptomyces daliensis Streptomyces chattanoogensis Streptomyces chattanoogensis\n",
      "Streptomyces daliensis Streptomyces cyaneogriseus subsp. noncyanogenus Streptomyces cyaneogriseus subsp. noncyanogenus\n",
      "Streptomyces daliensis Streptomyces orinoci Streptomyces orinoci\n",
      "Streptomyces daliensis Streptomyces carzinostaticus Streptomyces carzinostaticus\n",
      "Streptomyces daliensis Streptomyces carzinostaticus subsp. neocarzinostaticus Streptomyces carzinostaticus subsp. neocarzinostaticus\n",
      "Streptomyces daliensis Streptomyces caelestis Streptomyces caelestis\n",
      "Streptomyces daliensis Streptomyces violaceusniger Streptomyces violaceusniger\n",
      "Streptomyces daliensis Streptomyces noursei ATCC 11455 Streptomyces noursei ATCC 11455\n",
      "Streptomyces daliensis Streptomyces pactum Streptomyces pactum\n",
      "Nannocystis exedens Nannocystis pusilla Nannocystis pusilla\n",
      "Streptomyces daliensis Streptomyces sp. HK803 Streptomyces sp. HK803\n",
      "Streptomyces daliensis Streptomyces piomogenus Streptomyces piomogenus\n",
      "Streptomyces daliensis Streptomyces natalensis Streptomyces natalensis\n",
      "Streptomyces daliensis Streptomyces platensis Streptomyces platensis\n",
      "Streptomyces daliensis Streptomyces vitaminophilus Streptomyces vitaminophilus\n",
      "Streptomyces daliensis Streptomyces sp. UC 11065 Streptomyces sp. UC 11065\n",
      "Streptomyces daliensis Streptomyces sp. SN-593 Streptomyces sp. SN-593\n",
      "Streptomyces daliensis Streptomyces diastaticus Streptomyces diastaticus\n",
      "Streptomyces daliensis Streptomyces sp. 88-682 Streptomyces sp. 88-682\n",
      "Streptomyces daliensis Streptomyces achromogenes subsp. rubradiris Streptomyces achromogenes subsp. rubradiris\n",
      "Streptomyces daliensis Streptomyces albus Streptomyces albus\n",
      "Streptomyces daliensis Streptomyces ambofaciens ATCC 23877 Streptomyces ambofaciens ATCC 23877\n",
      "Streptomyces daliensis Streptomyces sp. CK4412 Streptomyces sp. CK4412\n",
      "Streptomyces daliensis Streptomyces griseochromogenes Streptomyces griseochromogenes\n",
      "Streptomyces daliensis Streptomyces spiroverticillatus Streptomyces spiroverticillatus\n",
      "Streptomyces daliensis Streptomyces longisporoflavus Streptomyces longisporoflavus\n",
      "Streptomyces daliensis Streptomyces sp. NRRL 11266 Streptomyces sp. NRRL 11266\n",
      "Streptomyces daliensis Streptomyces fradiae Streptomyces fradiae\n",
      "Streptomyces daliensis Streptomyces himastatinicus ATCC 53653 Streptomyces himastatinicus ATCC 53653\n",
      "Brevibacillus fulvus Brevibacillus laterosporus PE36 Brevibacillus laterosporus PE36\n",
      "Streptomyces daliensis Streptomyces sp. YIM 56141 Streptomyces sp. YIM 56141\n",
      "Bacillus azotoformans Bacillus velezensis FZB42 Bacillus velezensis FZB42\n",
      "Bacillus luteus Bacillus velezensis FZB42 Bacillus velezensis FZB42\n",
      "Bacillus siamensis Bacillus velezensis FZB42 Bacillus velezensis FZB42\n",
      "Streptomyces daliensis Streptomyces platensis subsp. rosaceus Streptomyces platensis subsp. rosaceus\n",
      "Sorangium cellulosum Sorangium cellulosum So ce56 Sorangium cellulosum So ce56\n",
      "Legionella tucsonensis Legionella parisiensis Legionella parisiensis\n",
      "Legionella rowbothamii Legionella parisiensis Legionella parisiensis\n",
      "Legionella taurinensis Legionella parisiensis Legionella parisiensis\n",
      "Legionella quinlivanii Legionella parisiensis Legionella parisiensis\n",
      "Streptomyces daliensis Streptomyces nodosus subsp. asukaensis Streptomyces nodosus subsp. asukaensis\n",
      "Streptomyces daliensis Streptomyces sp. SANK 61196 Streptomyces sp. SANK 61196\n",
      "Streptomyces daliensis Streptomyces galilaeus Streptomyces galilaeus\n",
      "Streptomyces daliensis Streptomyces sp. CM020 Streptomyces sp. CM020\n",
      "Streptomyces daliensis Streptomyces echinatus Streptomyces echinatus\n",
      "Streptomyces daliensis Streptomyces aureofaciens Streptomyces aureofaciens\n",
      "Streptomyces daliensis Streptomyces sp. A2991200 Streptomyces sp. A2991200\n",
      "Streptomyces daliensis Streptomyces chartreusis Streptomyces chartreusis\n",
      "Streptomyces daliensis Streptomyces griseus subsp. griseus Streptomyces griseus subsp. griseus\n",
      "Streptomyces daliensis Streptomyces albaduncus Streptomyces albaduncus\n",
      "Streptomyces daliensis Streptomyces sp. SPB074 Streptomyces sp. SPB074\n",
      "Streptomyces daliensis Streptomyces aureus Streptomyces aureus\n",
      "Streptomyces daliensis Streptomyces olindensis Streptomyces olindensis\n",
      "Streptomyces daliensis Streptomyces cyaneus Streptomyces cyaneus\n",
      "Streptomyces daliensis Streptomyces sp. Streptomyces sp.\n",
      "Streptomyces daliensis Streptomyces peucetius Streptomyces peucetius\n",
      "Streptomyces daliensis Streptomyces olivaceus Streptomyces olivaceus\n",
      "Streptomyces daliensis Streptomyces maritimus Streptomyces maritimus\n",
      "Streptomyces daliensis Streptomyces sp. TA-0256 Streptomyces sp. TA-0256\n",
      "Streptomyces daliensis Streptomyces griseus Streptomyces griseus\n",
      "Streptomyces daliensis Streptomyces roseofulvus Streptomyces roseofulvus\n",
      "Streptomyces daliensis Streptomyces griseoflavus Streptomyces griseoflavus\n",
      "Streptomyces daliensis Streptomyces violaceoruber Streptomyces violaceoruber\n",
      "Streptomyces daliensis Streptomyces lusitanus Streptomyces lusitanus\n",
      "Streptomyces daliensis Streptomyces sp. JP95 Streptomyces sp. JP95\n",
      "Streptomyces daliensis Streptomyces sp. 2238-SVT4 Streptomyces sp. 2238-SVT4\n",
      "Streptomyces daliensis Streptomyces griseoruber Streptomyces griseoruber\n",
      "Streptomyces daliensis Streptomyces venezuelae ATCC 10712 Streptomyces venezuelae ATCC 10712\n",
      "Streptomyces daliensis Streptomyces sp. W007 Streptomyces sp. W007\n",
      "Streptomyces daliensis Streptomyces murayamaensis Streptomyces murayamaensis\n",
      "Streptomyces daliensis Streptomyces sanglieri Streptomyces sanglieri\n",
      "Streptomyces daliensis Streptomyces rishiriensis Streptomyces rishiriensis\n",
      "Streptomyces daliensis Streptomyces cyanogenus Streptomyces cyanogenus\n",
      "Streptomyces daliensis Streptomyces tendae Streptomyces tendae\n",
      "Streptomyces daliensis Streptomyces sp. AM-7161 Streptomyces sp. AM-7161\n",
      "Streptomyces daliensis Streptomyces argillaceus Streptomyces argillaceus\n",
      "Streptomyces daliensis Streptomyces arenae Streptomyces arenae\n",
      "Streptomyces daliensis Streptomyces nogalater Streptomyces nogalater\n",
      "Streptomyces daliensis Streptomyces rimosus Streptomyces rimosus\n",
      "Streptomyces daliensis Streptomyces griseoviridis Streptomyces griseoviridis\n",
      "Streptomyces daliensis Streptomyces sp. R1128 Streptomyces sp. R1128\n",
      "Streptomyces daliensis Streptomyces sp. PGA64 Streptomyces sp. PGA64\n",
      "Streptomyces daliensis Streptomyces ravidus Streptomyces ravidus\n",
      "Streptomyces daliensis Streptomyces resistomycificus Streptomyces resistomycificus\n",
      "Streptomyces daliensis Streptomyces purpurascens Streptomyces purpurascens\n",
      "Streptomyces daliensis Streptomyces collinus Streptomyces collinus\n",
      "Streptomyces daliensis Streptomyces sp. SCC 2136 Streptomyces sp. SCC 2136\n",
      "Streptomyces daliensis Streptomyces sp. SF2575 Streptomyces sp. SF2575\n",
      "Streptomyces daliensis Streptomyces steffisburgensis Streptomyces steffisburgensis\n",
      "Streptomyces daliensis Streptomyces glaucescens Streptomyces glaucescens\n",
      "Streptomyces daliensis Streptomyces flavogriseus Streptomyces flavogriseus\n",
      "Streptomyces daliensis Streptomyces griseus subsp. griseus NBRC 13350 Streptomyces griseus subsp. griseus NBRC 13350\n",
      "Streptomyces daliensis Streptomyces sp. KO-3988 Streptomyces sp. KO-3988\n",
      "Streptomyces daliensis Streptomyces sp. SANK 62799 Streptomyces sp. SANK 62799\n",
      "Streptomyces daliensis Streptomyces toyocaensis Streptomyces toyocaensis\n",
      "Acinetobacter bohemicus Acinetobacter baumannii Acinetobacter baumannii\n",
      "Acinetobacter bohemicus Acinetobacter haemolyticus Acinetobacter haemolyticus\n",
      "Streptomyces daliensis Streptomyces anulatus Streptomyces anulatus\n",
      "Streptomyces daliensis Streptomyces sp. AA4 Streptomyces sp. AA4\n",
      "Streptomyces daliensis Streptomyces refuineus subsp. thermotolerans Streptomyces refuineus subsp. thermotolerans\n",
      "Streptomyces daliensis Streptomyces filamentosus NRRL 11379 Streptomyces filamentosus NRRL 11379\n",
      "Bacillus azotoformans Bacillus subtilis subsp. subtilis str. 168 Bacillus subtilis subsp. subtilis str. 168\n",
      "Bacillus luteus Bacillus subtilis subsp. subtilis str. 168 Bacillus subtilis subsp. subtilis str. 168\n",
      "Bacillus siamensis Bacillus subtilis subsp. subtilis str. 168 Bacillus subtilis subsp. subtilis str. 168\n",
      "Bacillus azotoformans Bacillus licheniformis Bacillus licheniformis\n",
      "Bacillus luteus Bacillus licheniformis Bacillus licheniformis\n",
      "Bacillus siamensis Bacillus licheniformis Bacillus licheniformis\n",
      "Streptomyces daliensis Streptomyces clavuligerus ATCC 27064 Streptomyces clavuligerus ATCC 27064\n",
      "Bacillus azotoformans Bacillus cereus Bacillus cereus\n",
      "Bacillus luteus Bacillus cereus Bacillus cereus\n",
      "Bacillus siamensis Bacillus cereus Bacillus cereus\n",
      "Streptomyces daliensis Streptomyces lavendulae Streptomyces lavendulae\n",
      "Cystobacter badius Cystobacter fuscus Cystobacter fuscus\n",
      "Cystobacter violaceus Cystobacter fuscus Cystobacter fuscus\n",
      "Streptomyces daliensis Streptomyces fungicidicus Streptomyces fungicidicus\n",
      "Streptococcus massiliensis Streptococcus equi subsp. equi Streptococcus equi subsp. equi\n",
      "Acinetobacter bohemicus Acinetobacter sp. ADP1 Acinetobacter sp. ADP1\n",
      "Streptomyces daliensis Streptomyces sp. MA6548 Streptomyces sp. MA6548\n",
      "Streptomyces daliensis Streptomyces sp. L-49973 Streptomyces sp. L-49973\n",
      "Mycobacterium obuense Mycobacterium avium Mycobacterium avium\n",
      "Streptomyces daliensis Streptomyces sp. NRRL F-4415 Streptomyces sp. NRRL F-4415\n",
      "Brevibacillus fulvus Brevibacillus brevis NBRC 100599 Brevibacillus brevis NBRC 100599\n",
      "Streptomyces daliensis Streptomyces sp. ATCC 700974 Streptomyces sp. ATCC 700974\n",
      "Streptomyces daliensis Streptomyces chromofuscus Streptomyces chromofuscus\n",
      "Streptomyces daliensis Streptomyces sp. Sp080513GE-23 Streptomyces sp. Sp080513GE-23\n",
      "Bacillus azotoformans Bacillus sp. NK2003 Bacillus sp. NK2003\n",
      "Bacillus luteus Bacillus sp. NK2003 Bacillus sp. NK2003\n",
      "Bacillus siamensis Bacillus sp. NK2003 Bacillus sp. NK2003\n",
      "Streptomyces daliensis Streptomyces viridochromogenes Streptomyces viridochromogenes\n",
      "Bacillus azotoformans Bacillus licheniformis DSM 13 = ATCC 14580 Bacillus licheniformis DSM 13 = ATCC 14580\n",
      "Bacillus luteus Bacillus licheniformis DSM 13 = ATCC 14580 Bacillus licheniformis DSM 13 = ATCC 14580\n",
      "Bacillus siamensis Bacillus licheniformis DSM 13 = ATCC 14580 Bacillus licheniformis DSM 13 = ATCC 14580\n",
      "Streptomyces daliensis Streptomyces toxytricini Streptomyces toxytricini\n",
      "Paenibacillus tarimensis Paenibacillus sp. OSY-SE Paenibacillus sp. OSY-SE\n",
      "Paenibacillus tarimensis Paenibacillus elgii B69 Paenibacillus elgii B69\n",
      "Paenibacillus tarimensis Paenibacillus larvae subsp. larvae DSM 25430 Paenibacillus larvae subsp. larvae DSM 25430\n",
      "Paenibacillus tarimensis Paenibacillus elgii Paenibacillus elgii\n",
      "Bacillus azotoformans Bacillus subtilis subsp. subtilis Bacillus subtilis subsp. subtilis\n",
      "Bacillus luteus Bacillus subtilis subsp. subtilis Bacillus subtilis subsp. subtilis\n",
      "Bacillus siamensis Bacillus subtilis subsp. subtilis Bacillus subtilis subsp. subtilis\n",
      "Paenibacillus tarimensis Paenibacillus polymyxa Paenibacillus polymyxa\n",
      "Streptomyces daliensis Streptomyces albus subsp. albus Streptomyces albus subsp. albus\n",
      "Streptomyces daliensis Streptomyces melanovinaceus Streptomyces melanovinaceus\n",
      "Streptomyces daliensis Streptomyces griseovariabilis subsp. bandungensis Streptomyces griseovariabilis subsp. bandungensis\n",
      "Streptomyces daliensis Streptomyces scabiei 87.22 Streptomyces scabiei 87.22\n",
      "Paenibacillus tarimensis Paenibacillus larvae Paenibacillus larvae\n",
      "Streptomyces daliensis Streptomyces sp. Acta 2897 Streptomyces sp. Acta 2897\n",
      "Streptomyces daliensis Streptomyces filamentosus NRRL 15998 Streptomyces filamentosus NRRL 15998\n",
      "Streptomyces daliensis Streptomyces sp. SNA15896 Streptomyces sp. SNA15896\n",
      "Streptomyces daliensis Streptomyces turgidiscabies Car8 Streptomyces turgidiscabies Car8\n",
      "Streptomyces daliensis Streptomyces achromogenes Streptomyces achromogenes\n",
      "Paenibacillus tarimensis Paenibacillus terrae Paenibacillus terrae\n",
      "Streptomyces daliensis Streptomyces triostinicus Streptomyces triostinicus\n",
      "Streptomyces daliensis Streptomyces tsusimaensis Streptomyces tsusimaensis\n",
      "Streptomyces daliensis Streptomyces vinaceus Streptomyces vinaceus\n",
      "Streptomyces daliensis Streptomyces sp. TP-A2060 Streptomyces sp. TP-A2060\n",
      "Streptomyces daliensis Streptomyces bottropensis Streptomyces bottropensis\n",
      "Streptomyces daliensis Streptomyces sp. BC16019 Streptomyces sp. BC16019\n",
      "Streptomyces daliensis Streptomyces sp. WMMB 272 Streptomyces sp. WMMB 272\n",
      "Lactobacillus mellifer Lactobacillus plantarum Lactobacillus plantarum\n",
      "Lactobacillus helsingborgensis Lactobacillus plantarum Lactobacillus plantarum\n",
      "Lactobacillus mellifer Lactobacillus acidophilus Lactobacillus acidophilus\n",
      "Lactobacillus helsingborgensis Lactobacillus acidophilus Lactobacillus acidophilus\n",
      "Clostridium algifaecis Clostridium beijerinckii Clostridium beijerinckii\n",
      "Clostridium gasigenes Clostridium beijerinckii Clostridium beijerinckii\n",
      "Clostridium ghonii Clostridium beijerinckii Clostridium beijerinckii\n",
      "Clostridium halophilum Clostridium beijerinckii Clostridium beijerinckii\n",
      "Clostridium hylemonae Clostridium beijerinckii Clostridium beijerinckii\n",
      "Clostridium thermosuccinogenes Clostridium beijerinckii Clostridium beijerinckii\n",
      "Clostridium cellulosi Clostridium beijerinckii Clostridium beijerinckii\n",
      "Clostridium hungatei Clostridium beijerinckii Clostridium beijerinckii\n",
      "Clostridium botulinum Clostridium beijerinckii Clostridium beijerinckii\n",
      "Clostridium lactatifermentans Clostridium beijerinckii Clostridium beijerinckii\n",
      "Clostridium limosum Clostridium beijerinckii Clostridium beijerinckii\n",
      "Clostridium alkalicellulosi Clostridium beijerinckii Clostridium beijerinckii\n",
      "Clostridium leptum Clostridium beijerinckii Clostridium beijerinckii\n",
      "Lactobacillus mellifer Lactobacillus gasseri Lactobacillus gasseri\n",
      "Lactobacillus helsingborgensis Lactobacillus gasseri Lactobacillus gasseri\n",
      "Streptococcus massiliensis Streptococcus uberis Streptococcus uberis\n",
      "Streptococcus massiliensis Streptococcus ratti Streptococcus ratti\n",
      "Streptococcus massiliensis Streptococcus equinus Streptococcus equinus\n",
      "Streptomyces daliensis Streptomyces cinnamoneus Streptomyces cinnamoneus\n",
      "Bacillus azotoformans Bacillus subtilis subsp. spizizenii Bacillus subtilis subsp. spizizenii\n",
      "Bacillus luteus Bacillus subtilis subsp. spizizenii Bacillus subtilis subsp. spizizenii\n",
      "Bacillus siamensis Bacillus subtilis subsp. spizizenii Bacillus subtilis subsp. spizizenii\n",
      "Bacillus azotoformans Bacillus subtilis Bacillus subtilis\n",
      "Bacillus luteus Bacillus subtilis Bacillus subtilis\n",
      "Bacillus siamensis Bacillus subtilis Bacillus subtilis\n",
      "Bacillus azotoformans Bacillus halodurans C-125 Bacillus halodurans C-125\n",
      "Bacillus luteus Bacillus halodurans C-125 Bacillus halodurans C-125\n",
      "Bacillus siamensis Bacillus halodurans C-125 Bacillus halodurans C-125\n",
      "Streptomyces daliensis Streptomyces viridochromogenes DSM 40736 Streptomyces viridochromogenes DSM 40736\n",
      "Lactobacillus mellifer Lactobacillus sakei Lactobacillus sakei\n",
      "Lactobacillus helsingborgensis Lactobacillus sakei Lactobacillus sakei\n",
      "Streptococcus massiliensis Streptococcus macedonicus Streptococcus macedonicus\n",
      "Bacillus azotoformans Bacillus sp. HIL-Y85/54728 Bacillus sp. HIL-Y85/54728\n",
      "Bacillus luteus Bacillus sp. HIL-Y85/54728 Bacillus sp. HIL-Y85/54728\n",
      "Bacillus siamensis Bacillus sp. HIL-Y85/54728 Bacillus sp. HIL-Y85/54728\n",
      "Streptococcus massiliensis Streptococcus mutans N66 Streptococcus mutans N66\n",
      "Streptococcus massiliensis Streptococcus mutans Streptococcus mutans\n",
      "Paenibacillus tarimensis Paenibacillus polymyxa OSY-DF Paenibacillus polymyxa OSY-DF\n",
      "Streptomyces daliensis Streptomyces albidoflavus Streptomyces albidoflavus\n",
      "Streptococcus massiliensis Streptococcus salivarius Streptococcus salivarius\n",
      "Streptococcus massiliensis Streptococcus pyogenes Streptococcus pyogenes\n",
      "Bacillus azotoformans Bacillus subtilis subsp. spizizenii ATCC 6633 Bacillus subtilis subsp. spizizenii ATCC 6633\n",
      "Bacillus luteus Bacillus subtilis subsp. spizizenii ATCC 6633 Bacillus subtilis subsp. spizizenii ATCC 6633\n",
      "Bacillus siamensis Bacillus subtilis subsp. spizizenii ATCC 6633 Bacillus subtilis subsp. spizizenii ATCC 6633\n",
      "Streptococcus massiliensis Streptococcus thermophilus Streptococcus thermophilus\n",
      "Clostridium algifaecis Clostridium botulinum A str. ATCC 3502 Clostridium botulinum A str. ATCC 3502\n",
      "Clostridium gasigenes Clostridium botulinum A str. ATCC 3502 Clostridium botulinum A str. ATCC 3502\n",
      "Clostridium ghonii Clostridium botulinum A str. ATCC 3502 Clostridium botulinum A str. ATCC 3502\n",
      "Clostridium halophilum Clostridium botulinum A str. ATCC 3502 Clostridium botulinum A str. ATCC 3502\n",
      "Clostridium hylemonae Clostridium botulinum A str. ATCC 3502 Clostridium botulinum A str. ATCC 3502\n",
      "Clostridium thermosuccinogenes Clostridium botulinum A str. ATCC 3502 Clostridium botulinum A str. ATCC 3502\n",
      "Clostridium cellulosi Clostridium botulinum A str. ATCC 3502 Clostridium botulinum A str. ATCC 3502\n",
      "Clostridium hungatei Clostridium botulinum A str. ATCC 3502 Clostridium botulinum A str. ATCC 3502\n",
      "Clostridium botulinum Clostridium botulinum A str. ATCC 3502 Clostridium botulinum A str. ATCC 3502\n",
      "Clostridium lactatifermentans Clostridium botulinum A str. ATCC 3502 Clostridium botulinum A str. ATCC 3502\n",
      "Clostridium limosum Clostridium botulinum A str. ATCC 3502 Clostridium botulinum A str. ATCC 3502\n",
      "Clostridium alkalicellulosi Clostridium botulinum A str. ATCC 3502 Clostridium botulinum A str. ATCC 3502\n",
      "Clostridium leptum Clostridium botulinum A str. ATCC 3502 Clostridium botulinum A str. ATCC 3502\n",
      "Streptomyces daliensis Streptomyces sp. TP-A0584 Streptomyces sp. TP-A0584\n",
      "Streptococcus massiliensis Streptococcus pyogenes M1 GAS Streptococcus pyogenes M1 GAS\n",
      "Streptomyces daliensis Streptomyces sviceus ATCC 29083 Streptomyces sviceus ATCC 29083\n",
      "Streptomyces daliensis Streptomyces sp. OH-4156 Streptomyces sp. OH-4156\n",
      "Streptomyces daliensis Streptomyces lividans TK24 Streptomyces lividans TK24\n",
      "Streptomyces daliensis Streptomyces sp. e14 Streptomyces sp. e14\n",
      "Streptomyces daliensis Streptomyces diastatochromogenes Tü6028 Streptomyces diastatochromogenes Tü6028\n",
      "Bacillus azotoformans Bacillus thuringiensis Bacillus thuringiensis\n",
      "Bacillus luteus Bacillus thuringiensis Bacillus thuringiensis\n",
      "Bacillus siamensis Bacillus thuringiensis Bacillus thuringiensis\n",
      "Streptomyces daliensis Streptomyces sp. ATCC 55365 Streptomyces sp. ATCC 55365\n",
      "Streptomyces daliensis Streptomyces lactacystinaeus Streptomyces lactacystinaeus\n",
      "Streptomyces daliensis Streptomyces actuosus Streptomyces actuosus\n",
      "Streptomyces daliensis Streptomyces sioyaensis Streptomyces sioyaensis\n",
      "Bacillus azotoformans Bacillus cereus ATCC 14579 Bacillus cereus ATCC 14579\n",
      "Bacillus luteus Bacillus cereus ATCC 14579 Bacillus cereus ATCC 14579\n",
      "Bacillus siamensis Bacillus cereus ATCC 14579 Bacillus cereus ATCC 14579\n",
      "Streptomyces daliensis Streptomyces laurentii Streptomyces laurentii\n",
      "Bacillus azotoformans Bacillus coagulans Bacillus coagulans\n",
      "Bacillus luteus Bacillus coagulans Bacillus coagulans\n",
      "Bacillus siamensis Bacillus coagulans Bacillus coagulans\n",
      "Bacillus azotoformans Bacillus megaterium Bacillus megaterium\n",
      "Bacillus luteus Bacillus megaterium Bacillus megaterium\n",
      "Bacillus siamensis Bacillus megaterium Bacillus megaterium\n",
      "Lactobacillus mellifer Lactobacillus salivarius Lactobacillus salivarius\n",
      "Lactobacillus helsingborgensis Lactobacillus salivarius Lactobacillus salivarius\n",
      "Streptomyces daliensis Streptomyces olivoviridis Streptomyces olivoviridis\n",
      "Lactobacillus mellifer Lactobacillus paragasseri JV-V03 Lactobacillus paragasseri JV-V03\n",
      "Lactobacillus helsingborgensis Lactobacillus paragasseri JV-V03 Lactobacillus paragasseri JV-V03\n",
      "Brevundimonas faecalis Brevundimonas sp. SD212 Brevundimonas sp. SD212\n",
      "Brevundimonas faecalis Brevundimonas vesicularis Brevundimonas vesicularis\n",
      "Rhodobacter megalophilus Rhodobacter sphaeroides Rhodobacter sphaeroides\n",
      "Streptomyces daliensis Streptomyces argenteolus Streptomyces argenteolus\n",
      "Streptomyces daliensis Streptomyces sp. CNQ525 Streptomyces sp. CNQ525\n",
      "Streptomyces daliensis Streptomyces sp. Tu6071 Streptomyces sp. Tu6071\n",
      "Streptomyces daliensis Streptomyces sp. HKI0576 Streptomyces sp. HKI0576\n",
      "Streptomyces daliensis Streptomyces sp. SCSIO 02999 Streptomyces sp. SCSIO 02999\n",
      "Streptomyces daliensis Streptomyces melanosporofaciens Streptomyces melanosporofaciens\n",
      "Bacillus azotoformans Bacillus circulans Bacillus circulans\n",
      "Bacillus luteus Bacillus circulans Bacillus circulans\n",
      "Bacillus siamensis Bacillus circulans Bacillus circulans\n",
      "Streptomyces daliensis Streptomyces hygroscopicus subsp. hygroscopicus Streptomyces hygroscopicus subsp. hygroscopicus\n",
      "Streptomyces daliensis Streptomyces tenjimariensis Streptomyces tenjimariensis\n",
      "Streptomyces daliensis Streptomyces hygroscopicus subsp. yingchengensis Streptomyces hygroscopicus subsp. yingchengensis\n",
      "Streptomyces daliensis Streptomyces kanamyceticus Streptomyces kanamyceticus\n",
      "Streptomyces daliensis Streptomyces kasugaensis Streptomyces kasugaensis\n",
      "Streptomyces daliensis Streptomyces lividus Streptomyces lividus\n",
      "Streptomyces daliensis Streptomyces fradiae ATCC 10745 = DSM 40063 Streptomyces fradiae ATCC 10745 = DSM 40063\n",
      "Streptomyces daliensis Streptomyces rimosus subsp. paromomycinus Streptomyces rimosus subsp. paromomycinus\n",
      "Streptomyces daliensis Streptomyces ribosidificus Streptomyces ribosidificus\n",
      "Streptomyces daliensis Streptomyces spectabilis Streptomyces spectabilis\n",
      "Streptomyces daliensis Streptomyces netropsis Streptomyces netropsis\n",
      "Streptomyces daliensis Streptomyces hygroscopicus subsp. jinggangensis Streptomyces hygroscopicus subsp. jinggangensis\n",
      "Streptomyces daliensis Streptomyces hygroscopicus subsp. limoneus Streptomyces hygroscopicus subsp. limoneus\n",
      "Streptococcus massiliensis Streptococcus agalactiae Streptococcus agalactiae\n",
      "Acinetobacter bohemicus Acinetobacter venetianus RAG-1 = CIP 110063 Acinetobacter venetianus RAG-1 = CIP 110063\n",
      "Lactobacillus mellifer Lactobacillus johnsonii Lactobacillus johnsonii\n",
      "Lactobacillus helsingborgensis Lactobacillus johnsonii Lactobacillus johnsonii\n",
      "Mycobacterium obuense Mycobacterium avium subsp. hominissuis A5 Mycobacterium avium subsp. hominissuis A5\n",
      "Legionella tucsonensis Legionella pneumophila Legionella pneumophila\n",
      "Legionella rowbothamii Legionella pneumophila Legionella pneumophila\n",
      "Legionella taurinensis Legionella pneumophila Legionella pneumophila\n",
      "Legionella quinlivanii Legionella pneumophila Legionella pneumophila\n",
      "Paenibacillus tarimensis Paenibacillus alvei Paenibacillus alvei\n",
      "Lactobacillus mellifer Lactobacillus rhamnosus GG Lactobacillus rhamnosus GG\n",
      "Lactobacillus helsingborgensis Lactobacillus rhamnosus GG Lactobacillus rhamnosus GG\n",
      "Streptomyces daliensis Streptomyces coelicoflavus ZG0656 Streptomyces coelicoflavus ZG0656\n",
      "Streptomyces daliensis Streptomyces viridosporus ATCC 14672 Streptomyces viridosporus ATCC 14672\n",
      "Streptomyces daliensis Streptomyces griseofuscus Streptomyces griseofuscus\n",
      "Streptomyces daliensis Streptomyces sp. TP-A0274 Streptomyces sp. TP-A0274\n",
      "Streptomyces daliensis Streptomyces roseochromogenus subsp. oscitans DS 12.976 Streptomyces roseochromogenus subsp. oscitans DS 12.976\n",
      "Streptomyces daliensis Streptomyces niveus Streptomyces niveus\n",
      "Streptomyces daliensis Streptomyces clavuligerus Streptomyces clavuligerus\n",
      "Streptomyces daliensis Streptomyces cattleya Streptomyces cattleya\n",
      "Streptomyces daliensis Streptomyces acidiscabies Streptomyces acidiscabies\n",
      "Shewanella hanedai Shewanella sp. BR-2 Shewanella sp. BR-2\n",
      "Shewanella hanedai Shewanella pneumatophori Shewanella pneumatophori\n",
      "Mycobacterium obuense Mycobacterium tuberculosis H37Rv Mycobacterium tuberculosis H37Rv\n",
      "Streptomyces daliensis Streptomyces sp. SANK 60405 Streptomyces sp. SANK 60405\n",
      "Streptomyces daliensis Streptomyces cacaoi subsp. asoensis Streptomyces cacaoi subsp. asoensis\n",
      "Streptomyces daliensis Streptomyces alboniger Streptomyces alboniger\n",
      "Streptomyces daliensis Streptomyces ahygroscopicus subsp. wuzhouensis Streptomyces ahygroscopicus subsp. wuzhouensis\n",
      "Streptomyces daliensis Streptomyces rimofaciens Streptomyces rimofaciens\n",
      "Streptomyces daliensis Streptomyces arginensis Streptomyces arginensis\n",
      "Streptomyces daliensis Streptomyces tsukubensis Streptomyces tsukubensis\n",
      "Bacillus azotoformans Bacillus sp. CS93 Bacillus sp. CS93\n",
      "Bacillus luteus Bacillus sp. CS93 Bacillus sp. CS93\n",
      "Bacillus siamensis Bacillus sp. CS93 Bacillus sp. CS93\n",
      "Streptomyces daliensis Streptomyces sp. WK-5344 Streptomyces sp. WK-5344\n",
      "Lactobacillus mellifer Lactobacillus plantarum subsp. plantarum Lactobacillus plantarum subsp. plantarum\n",
      "Lactobacillus helsingborgensis Lactobacillus plantarum subsp. plantarum Lactobacillus plantarum subsp. plantarum\n",
      "Streptomyces daliensis Streptomyces lavendulae subsp. lavendulae Streptomyces lavendulae subsp. lavendulae\n",
      "Streptomyces daliensis Streptomyces luridus Streptomyces luridus\n",
      "Streptomyces daliensis Streptomyces narbonensis Streptomyces narbonensis\n",
      "Streptomyces daliensis Streptomyces rubellomurinus Streptomyces rubellomurinus\n",
      "Streptomyces daliensis Streptomyces lincolnensis Streptomyces lincolnensis\n",
      "Rhodobacter megalophilus Rhodobacter capsulatus Rhodobacter capsulatus\n",
      "Streptomyces daliensis Streptomyces xiamenensis Streptomyces xiamenensis\n",
      "Streptomyces daliensis Streptomyces sp. WM6372 Streptomyces sp. WM6372\n",
      "Bacillus azotoformans Bacillus anthracis str. Ames Bacillus anthracis str. Ames\n",
      "Bacillus luteus Bacillus anthracis str. Ames Bacillus anthracis str. Ames\n",
      "Bacillus siamensis Bacillus anthracis str. Ames Bacillus anthracis str. Ames\n",
      "Bacteroides cellulosolvens Bacteroides fragilis NCTC 9343 Bacteroides fragilis NCTC 9343\n",
      "Streptomyces daliensis Streptomyces sp. DSM 5940 Streptomyces sp. DSM 5940\n",
      "Streptomyces daliensis Streptomyces coeruleorubidus Streptomyces coeruleorubidus\n",
      "Streptomyces daliensis Streptomyces vinaceusdrappus Streptomyces vinaceusdrappus\n",
      "Chondromyces robustus Chondromyces crocatus Chondromyces crocatus\n",
      "Streptomyces daliensis Streptomyces sp. XZQH13 Streptomyces sp. XZQH13\n",
      "Streptomyces daliensis Streptomyces sp. S4 Streptomyces sp. S4\n",
      "Streptomyces daliensis Streptomyces sahachiroi Streptomyces sahachiroi\n",
      "Streptomyces daliensis Streptomyces verticillus Streptomyces verticillus\n",
      "Streptomyces daliensis Streptomyces globisporus Streptomyces globisporus\n",
      "Streptomyces daliensis Streptomyces cinnabarigriseus Streptomyces cinnabarigriseus\n",
      "Streptomyces daliensis Streptomyces sp. CS40 Streptomyces sp. CS40\n",
      "Sorangium cellulosum Sorangium cellulosum So0157-2 Sorangium cellulosum So0157-2\n",
      "Streptomyces daliensis Streptomyces hygroscopicus subsp. ascomyceticus Streptomyces hygroscopicus subsp. ascomyceticus\n",
      "Streptomyces daliensis Streptomyces sp. SPB78 Streptomyces sp. SPB78\n",
      "Streptomyces daliensis Streptomyces sp. K01-0509 Streptomyces sp. K01-0509\n",
      "Streptomyces daliensis Streptomyces roseoverticillatus Streptomyces roseoverticillatus\n",
      "Streptomyces daliensis Streptomyces sp. SCSIO 01127 Streptomyces sp. SCSIO 01127\n",
      "Streptomyces daliensis Streptomyces sp. NRRL 30748 Streptomyces sp. NRRL 30748\n",
      "Streptomyces daliensis Streptomyces sp. NRRL 30471 Streptomyces sp. NRRL 30471\n",
      "Streptomyces daliensis Streptomyces sp. MK498-98F14 Streptomyces sp. MK498-98F14\n",
      "Streptomyces daliensis Streptomyces pyridomyceticus Streptomyces pyridomyceticus\n",
      "Streptomyces daliensis Streptomyces rapamycinicus NRRL 5491 Streptomyces rapamycinicus NRRL 5491\n",
      "Streptomyces daliensis Streptomyces flaveolus Streptomyces flaveolus\n",
      "Streptomyces daliensis Streptomyces lydicus Streptomyces lydicus\n",
      "Streptomyces daliensis Streptomyces sp. 307-9 Streptomyces sp. 307-9\n",
      "Streptomyces daliensis Streptomyces flavoviridis Streptomyces flavoviridis\n",
      "Streptomyces daliensis Streptomyces diastatochromogenes Streptomyces diastatochromogenes\n",
      "Streptomyces daliensis Streptomyces collinus Tu 365 Streptomyces collinus Tu 365\n",
      "Streptomyces daliensis Streptomyces sp. SN-1061M Streptomyces sp. SN-1061M\n",
      "Streptomyces daliensis Streptomyces sp. CNH189 Streptomyces sp. CNH189\n",
      "Streptomyces daliensis Streptomyces blastmyceticus Streptomyces blastmyceticus\n",
      "Streptomyces daliensis Streptomyces atroolivaceus Streptomyces atroolivaceus\n",
      "Streptomyces daliensis Streptomyces virginiae Streptomyces virginiae\n",
      "Streptomyces daliensis Streptomyces mobaraensis NBRC 13819 = DSM 40847 Streptomyces mobaraensis NBRC 13819 = DSM 40847\n",
      "Streptomyces daliensis Streptomyces sp. NRRL WC-3908 Streptomyces sp. NRRL WC-3908\n",
      "Streptomyces daliensis Streptomyces cirratus Streptomyces cirratus\n",
      "Streptomyces daliensis Streptomyces sp. CNQ-418 Streptomyces sp. CNQ-418\n",
      "Streptomyces daliensis Streptomyces lividans 1326 Streptomyces lividans 1326\n",
      "Streptomyces daliensis Streptomyces sp. SCSIO 03032 Streptomyces sp. SCSIO 03032\n",
      "Clostridium algifaecis Clostridium sporogenes ATCC 15579 Clostridium sporogenes ATCC 15579\n",
      "Clostridium gasigenes Clostridium sporogenes ATCC 15579 Clostridium sporogenes ATCC 15579\n",
      "Clostridium ghonii Clostridium sporogenes ATCC 15579 Clostridium sporogenes ATCC 15579\n",
      "Clostridium halophilum Clostridium sporogenes ATCC 15579 Clostridium sporogenes ATCC 15579\n",
      "Clostridium hylemonae Clostridium sporogenes ATCC 15579 Clostridium sporogenes ATCC 15579\n",
      "Clostridium thermosuccinogenes Clostridium sporogenes ATCC 15579 Clostridium sporogenes ATCC 15579\n",
      "Clostridium cellulosi Clostridium sporogenes ATCC 15579 Clostridium sporogenes ATCC 15579\n",
      "Clostridium hungatei Clostridium sporogenes ATCC 15579 Clostridium sporogenes ATCC 15579\n",
      "Clostridium botulinum Clostridium sporogenes ATCC 15579 Clostridium sporogenes ATCC 15579\n",
      "Clostridium lactatifermentans Clostridium sporogenes ATCC 15579 Clostridium sporogenes ATCC 15579\n",
      "Clostridium limosum Clostridium sporogenes ATCC 15579 Clostridium sporogenes ATCC 15579\n",
      "Clostridium alkalicellulosi Clostridium sporogenes ATCC 15579 Clostridium sporogenes ATCC 15579\n",
      "Clostridium leptum Clostridium sporogenes ATCC 15579 Clostridium sporogenes ATCC 15579\n",
      "Listeria welshimeri Listeria monocytogenes serotype 4b str. F2365 Listeria monocytogenes serotype 4b str. F2365\n",
      "Streptomyces daliensis Streptomyces sp. CNH-287 Streptomyces sp. CNH-287\n",
      "Bacillus azotoformans Bacillus pumilus ATCC 7061 Bacillus pumilus ATCC 7061\n",
      "Bacillus luteus Bacillus pumilus ATCC 7061 Bacillus pumilus ATCC 7061\n",
      "Bacillus siamensis Bacillus pumilus ATCC 7061 Bacillus pumilus ATCC 7061\n",
      "Streptomyces daliensis Streptomyces sp. FXJ7.023 Streptomyces sp. FXJ7.023\n",
      "Streptomyces daliensis Streptomyces sp. CT34 Streptomyces sp. CT34\n",
      "Streptomyces daliensis Streptomyces scabrisporus Streptomyces scabrisporus\n",
      "Streptomyces daliensis Streptomyces scopuliridis Streptomyces scopuliridis\n",
      "Streptomyces daliensis Streptomyces sp. NBRC 109706 Streptomyces sp. NBRC 109706\n",
      "Streptomyces daliensis Streptomyces versipellis Streptomyces versipellis\n",
      "Streptococcus massiliensis Streptococcus thermophilus LMD-9 Streptococcus thermophilus LMD-9\n",
      "Bacillus azotoformans Bacillus pseudomycoides DSM 12442 Bacillus pseudomycoides DSM 12442\n",
      "Bacillus luteus Bacillus pseudomycoides DSM 12442 Bacillus pseudomycoides DSM 12442\n",
      "Bacillus siamensis Bacillus pseudomycoides DSM 12442 Bacillus pseudomycoides DSM 12442\n",
      "Nannocystis exedens Nannocystis sp. MB1016 Nannocystis sp. MB1016\n",
      "Streptomyces daliensis Streptomyces sp. Tu 6176 Streptomyces sp. Tu 6176\n",
      "Streptomyces daliensis Streptomyces drozdowiczii Streptomyces drozdowiczii\n",
      "Streptomyces daliensis Streptomyces conglobatus Streptomyces conglobatus\n",
      "Streptomyces daliensis Streptomyces sp. CNQ431 Streptomyces sp. CNQ431\n",
      "Streptomyces daliensis Streptomyces qinglanensis Streptomyces qinglanensis\n",
      "Streptomyces daliensis Streptomyces sp. CNQ-509 Streptomyces sp. CNQ-509\n",
      "Streptomyces daliensis Streptomyces bingchenggensis BCW-1 Streptomyces bingchenggensis BCW-1\n",
      "Streptomyces daliensis Streptomyces sp. CNB091 Streptomyces sp. CNB091\n",
      "Streptomyces daliensis Streptomyces sp. DSM 11171 Streptomyces sp. DSM 11171\n",
      "Streptomyces daliensis Streptomyces afghaniensis Streptomyces afghaniensis\n",
      "Streptomyces daliensis Streptomyces leeuwenhoekii Streptomyces leeuwenhoekii\n",
      "Paenibacillus tarimensis Paenibacillus ehimensis Paenibacillus ehimensis\n",
      "Streptomyces daliensis Streptomyces sp. NRRL 12068 Streptomyces sp. NRRL 12068\n",
      "Streptomyces daliensis Streptomyces sp. NCIB 11649 Streptomyces sp. NCIB 11649\n",
      "Streptomyces daliensis Streptomyces sp. MBT28 Streptomyces sp. MBT28\n",
      "Streptomyces daliensis Streptomyces cremeus Streptomyces cremeus\n",
      "Streptomyces daliensis Streptomyces sp. MSC090213JE08 Streptomyces sp. MSC090213JE08\n",
      "Streptomyces daliensis Streptomyces calvus Streptomyces calvus\n",
      "Streptomyces daliensis Streptomyces sp. CNH365 Streptomyces sp. CNH365\n",
      "Streptomyces daliensis Streptomyces sp. T676 Streptomyces sp. T676\n",
      "Streptomyces daliensis Streptomyces lomondensis Streptomyces lomondensis\n",
      "Ruminococcus bromii Ruminococcus flavefaciens FD-1 Ruminococcus flavefaciens FD-1\n",
      "Streptomyces daliensis Streptomyces lilacinus Streptomyces lilacinus\n",
      "Streptomyces daliensis Streptomyces sp. MspMP-M5 Streptomyces sp. MspMP-M5\n",
      "Streptomyces daliensis Streptomyces uncialis Streptomyces uncialis\n",
      "Cystobacter badius Cystobacter sp. SBCb004 Cystobacter sp. SBCb004\n",
      "Cystobacter violaceus Cystobacter sp. SBCb004 Cystobacter sp. SBCb004\n",
      "Streptomyces daliensis Streptomyces varsoviensis Streptomyces varsoviensis\n",
      "Paenibacillus tarimensis Paenibacillus dendritiformis C454 Paenibacillus dendritiformis C454\n",
      "Streptomyces daliensis Streptomyces sp. FJS31-2 Streptomyces sp. FJS31-2\n",
      "Haliangium ochraceum Haliangium ochraceum DSM 14365 Haliangium ochraceum DSM 14365\n",
      "Haliangium tepidum Haliangium ochraceum DSM 14365 Haliangium ochraceum DSM 14365\n",
      "Streptomyces daliensis Streptomyces sp. NRRL F-4474 Streptomyces sp. NRRL F-4474\n",
      "Streptomyces daliensis Streptomyces albogriseolus Streptomyces albogriseolus\n",
      "Streptomyces daliensis Streptomyces sp. CB03234 Streptomyces sp. CB03234\n",
      "Streptomyces daliensis Streptomyces luteocolor Streptomyces luteocolor\n",
      "Streptomyces daliensis Streptomyces sp. TK08046 Streptomyces sp. TK08046\n",
      "Streptomyces daliensis Streptomyces sp. RI-77 Streptomyces sp. RI-77\n",
      "Bacillus azotoformans Bacillus thuringiensis serovar rongseni Bacillus thuringiensis serovar rongseni\n",
      "Bacillus luteus Bacillus thuringiensis serovar rongseni Bacillus thuringiensis serovar rongseni\n",
      "Bacillus siamensis Bacillus thuringiensis serovar rongseni Bacillus thuringiensis serovar rongseni\n",
      "Streptomyces daliensis Streptomyces sp. A1(2016) Streptomyces sp. A1(2016)\n",
      "Streptomyces daliensis Streptomyces globisporus C-1027 Streptomyces globisporus C-1027\n",
      "Streptomyces daliensis Streptomyces canus Streptomyces canus\n",
      "Bacillus azotoformans Bacillus cereus SJ1 Bacillus cereus SJ1\n",
      "Bacillus luteus Bacillus cereus SJ1 Bacillus cereus SJ1\n",
      "Bacillus siamensis Bacillus cereus SJ1 Bacillus cereus SJ1\n",
      "Streptomyces daliensis Streptomyces minoensis Streptomyces minoensis\n",
      "Bacteroides cellulosolvens Bacteroides fragilis Bacteroides fragilis\n",
      "Cystobacter badius Cystobacter sp. Cbv34 Cystobacter sp. Cbv34\n",
      "Cystobacter violaceus Cystobacter sp. Cbv34 Cystobacter sp. Cbv34\n",
      "Streptomyces daliensis Streptomyces muensis Streptomyces muensis\n",
      "Streptomyces daliensis Streptomyces sp. ZJ306 Streptomyces sp. ZJ306\n",
      "Streptomyces daliensis Streptomyces sp. CS057 Streptomyces sp. CS057\n",
      "Streptomyces daliensis Streptomyces sp. CS113 Streptomyces sp. CS113\n",
      "Streptomyces daliensis Streptomyces sp. strain ATCC 14903 Streptomyces sp. strain ATCC 14903\n",
      "Streptomyces daliensis Streptomyces sp. NTK 937 Streptomyces sp. NTK 937\n",
      "Streptomyces daliensis Streptomyces sp. CS149 Streptomyces sp. CS149\n",
      "Streptomyces daliensis Streptomyces caniferus Streptomyces caniferus\n",
      "Brevibacillus fulvus Brevibacillus sp. Leaf182 Brevibacillus sp. Leaf182\n",
      "Streptomyces daliensis Streptomyces bernensis Streptomyces bernensis\n",
      "Streptomyces daliensis Streptomyces tateyamensis Streptomyces tateyamensis\n",
      "Streptomyces daliensis Streptomyces sp. ID38640 Streptomyces sp. ID38640\n",
      "Streptomyces daliensis Streptomyces sp. RM-5-8 Streptomyces sp. RM-5-8\n",
      "Streptomyces daliensis Streptomyces cyaneofuscatus Streptomyces cyaneofuscatus\n",
      "Streptomyces daliensis Streptomyces sp. LC-6-2 Streptomyces sp. LC-6-2\n",
      "Streptomyces daliensis Streptomyces achromogenes subsp. achromogenes Streptomyces achromogenes subsp. achromogenes\n",
      "Acinetobacter bohemicus Acinetobacter gyllenbergii CIP 110306 Acinetobacter gyllenbergii CIP 110306\n",
      "Streptomyces daliensis Streptomyces sp. NRRL S-146 Streptomyces sp. NRRL S-146\n",
      "Streptomyces daliensis Streptomyces hygrospinosus Streptomyces hygrospinosus\n",
      "Streptomyces daliensis Streptomyces citricolor Streptomyces citricolor\n",
      "Streptomyces daliensis Streptomyces aurantiacus JA 4570 Streptomyces aurantiacus JA 4570\n",
      "Streptomyces daliensis Streptomyces filamentosus Streptomyces filamentosus\n",
      "Streptomyces daliensis Streptomyces sp. 211726 Streptomyces sp. 211726\n",
      "Streptomyces daliensis Streptomyces sp. RI18 Streptomyces sp. RI18\n",
      "Brevibacillus fulvus Brevibacillus laterosporus Brevibacillus laterosporus\n",
      "Streptomyces daliensis Streptomyces sp. NBRC 110030 Streptomyces sp. NBRC 110030\n",
      "Streptomyces daliensis Streptomyces cattleya NRRL 8057 = DSM 46488 Streptomyces cattleya NRRL 8057 = DSM 46488\n",
      "Streptomyces daliensis Streptomyces zelensis Streptomyces zelensis\n",
      "Streptomyces daliensis Streptomyces albulus Streptomyces albulus\n",
      "Streptomyces daliensis Streptomyces katrae Streptomyces katrae\n",
      "Streptomyces daliensis Streptomyces sp. JV178 Streptomyces sp. JV178\n",
      "Streptomyces daliensis Streptomyces sp. CNT302 Streptomyces sp. CNT302\n",
      "Streptomyces daliensis Streptomyces curacoi Streptomyces curacoi\n",
      "Streptomyces daliensis Streptomyces sp. SCSIO 1666 Streptomyces sp. SCSIO 1666\n",
      "Ruminococcus bromii Ruminococcus sp. 5_1_39BFAA Ruminococcus sp. 5_1_39BFAA\n",
      "Streptomyces daliensis Streptomyces sp. CB02366 Streptomyces sp. CB02366\n",
      "Streptomyces daliensis Streptomyces sp. KY5 Streptomyces sp. KY5\n",
      "Streptomyces daliensis Streptomyces lunaelactis Streptomyces lunaelactis\n",
      "Streptomyces daliensis Streptomyces ficellus Streptomyces ficellus\n",
      "Streptomyces daliensis Streptomyces sp. NRRL B-1347 Streptomyces sp. NRRL B-1347\n",
      "Streptomyces daliensis Streptomyces sp. CB01883 Streptomyces sp. CB01883\n",
      "Streptomyces daliensis Streptomyces sp. WAC2288 Streptomyces sp. WAC2288\n",
      "Streptomyces daliensis Streptomyces atratus Streptomyces atratus\n",
      "Streptomyces daliensis Streptomyces sp. NRRL F-5702 Streptomyces sp. NRRL F-5702\n",
      "Streptomyces daliensis Streptomyces sp. NRRL S-118 Streptomyces sp. NRRL S-118\n",
      "Streptomyces daliensis Streptomyces sp. MP131-18 Streptomyces sp. MP131-18\n",
      "Streptomyces daliensis Streptomyces sp. ICBB 8177 Streptomyces sp. ICBB 8177\n",
      "Bacteroides cellulosolvens Bacteroides thetaiotaomicron VPI-5482 Bacteroides thetaiotaomicron VPI-5482\n",
      "Mycobacterium obuense Mycobacterium marinum M Mycobacterium marinum M\n",
      "Microbacterium petrolearium Microbacterium arborescens Microbacterium arborescens\n",
      "Streptomyces daliensis Streptomyces mirabilis Streptomyces mirabilis\n",
      "Bacteroides cellulosolvens Bacteroides fragilis 638R Bacteroides fragilis 638R\n",
      "Bacillus azotoformans Bacillus sp. 2_A_57_CT2 Bacillus sp. 2_A_57_CT2\n",
      "Bacillus luteus Bacillus sp. 2_A_57_CT2 Bacillus sp. 2_A_57_CT2\n",
      "Bacillus siamensis Bacillus sp. 2_A_57_CT2 Bacillus sp. 2_A_57_CT2\n",
      "Clostridium algifaecis Clostridium sp. CAG:567 Clostridium sp. CAG:567\n",
      "Clostridium gasigenes Clostridium sp. CAG:567 Clostridium sp. CAG:567\n",
      "Clostridium ghonii Clostridium sp. CAG:567 Clostridium sp. CAG:567\n",
      "Clostridium halophilum Clostridium sp. CAG:567 Clostridium sp. CAG:567\n",
      "Clostridium hylemonae Clostridium sp. CAG:567 Clostridium sp. CAG:567\n",
      "Clostridium thermosuccinogenes Clostridium sp. CAG:567 Clostridium sp. CAG:567\n",
      "Clostridium cellulosi Clostridium sp. CAG:567 Clostridium sp. CAG:567\n",
      "Clostridium hungatei Clostridium sp. CAG:567 Clostridium sp. CAG:567\n",
      "Clostridium botulinum Clostridium sp. CAG:567 Clostridium sp. CAG:567\n",
      "Clostridium lactatifermentans Clostridium sp. CAG:567 Clostridium sp. CAG:567\n",
      "Clostridium limosum Clostridium sp. CAG:567 Clostridium sp. CAG:567\n",
      "Clostridium alkalicellulosi Clostridium sp. CAG:567 Clostridium sp. CAG:567\n",
      "Clostridium leptum Clostridium sp. CAG:567 Clostridium sp. CAG:567\n",
      "Streptomyces daliensis Streptomyces gilvosporeus Streptomyces gilvosporeus\n",
      "Streptomyces daliensis Streptomyces koyangensis Streptomyces koyangensis\n",
      "Streptomyces daliensis Streptomyces sp. IMB7-145 Streptomyces sp. IMB7-145\n",
      "Paenibacillus tarimensis Paenibacillus polymyxa E681 Paenibacillus polymyxa E681\n",
      "Streptomyces daliensis Streptomyces paulus Streptomyces paulus\n",
      "Streptomyces daliensis Streptomyces sp. YN86 Streptomyces sp. YN86\n",
      "Streptomyces daliensis Streptomyces sp. NRRL F-525 Streptomyces sp. NRRL F-525\n",
      "Streptomyces daliensis Candidatus Streptomyces philanthi bv. triangulum Candidatus Streptomyces philanthi bv. triangulum\n",
      "Streptomyces daliensis Streptomyces pristinaespiralis ATCC 25486 Streptomyces pristinaespiralis ATCC 25486\n",
      "Streptomyces daliensis Streptomyces sp. MBT76 Streptomyces sp. MBT76\n",
      "Streptomyces daliensis Streptomyces globisporus subsp. globisporus Streptomyces globisporus subsp. globisporus\n",
      "Streptomyces daliensis Streptomyces rimosus subsp. rimosus ATCC 10970 Streptomyces rimosus subsp. rimosus ATCC 10970\n",
      "Streptomyces daliensis Streptomyces sp. KIB-H033 Streptomyces sp. KIB-H033\n",
      "Streptomyces daliensis Streptomyces sp. SoC090715LN-17 Streptomyces sp. SoC090715LN-17\n",
      "Streptomyces daliensis Streptomyces sp. SD85 Streptomyces sp. SD85\n",
      "Streptomyces daliensis Streptomyces sclerotialus Streptomyces sclerotialus\n",
      "Streptomyces daliensis Streptomyces fimbriatus Streptomyces fimbriatus\n",
      "Streptomyces daliensis Streptomyces showdoensis Streptomyces showdoensis\n",
      "Streptomyces daliensis Streptomyces flocculus Streptomyces flocculus\n",
      "Streptomyces daliensis Streptomyces seoulensis Streptomyces seoulensis\n",
      "Streptococcus massiliensis Streptococcus suis Streptococcus suis\n",
      "Brevibacillus fulvus Brevibacillus laterosporus DSM 25 Brevibacillus laterosporus DSM 25\n",
      "Streptomyces daliensis Streptomyces malaysiense Streptomyces malaysiense\n",
      "Bacillus azotoformans Bacillus thuringiensis serovar chinensis CT-43 Bacillus thuringiensis serovar chinensis CT-43\n",
      "Bacillus luteus Bacillus thuringiensis serovar chinensis CT-43 Bacillus thuringiensis serovar chinensis CT-43\n",
      "Bacillus siamensis Bacillus thuringiensis serovar chinensis CT-43 Bacillus thuringiensis serovar chinensis CT-43\n",
      "Streptomyces daliensis Streptomyces sp. NRRL WC-3703 Streptomyces sp. NRRL WC-3703\n",
      "Streptomyces daliensis Streptomyces sp. KCB13F003 Streptomyces sp. KCB13F003\n",
      "Streptomyces daliensis Streptomyces sp. SANK 60404 Streptomyces sp. SANK 60404\n",
      "Cystobacter badius Cystobacter sp. Cystobacter sp.\n",
      "Cystobacter violaceus Cystobacter sp. Cystobacter sp.\n",
      "Streptomyces daliensis Streptomyces sp. CB02120-2 Streptomyces sp. CB02120-2\n",
      "Streptomyces daliensis Streptomyces sp. CBMAI 2042 Streptomyces sp. CBMAI 2042\n",
      "Streptomyces daliensis Streptomyces sp. F001 Streptomyces sp. F001\n",
      "Streptomyces daliensis Streptomyces erythrochromogenes Streptomyces erythrochromogenes\n",
      "Streptomyces daliensis Streptomyces sp. NRRL S-378 Streptomyces sp. NRRL S-378\n",
      "Bacillus azotoformans Bacillus cereus BAG2O-1 Bacillus cereus BAG2O-1\n",
      "Bacillus luteus Bacillus cereus BAG2O-1 Bacillus cereus BAG2O-1\n",
      "Bacillus siamensis Bacillus cereus BAG2O-1 Bacillus cereus BAG2O-1\n",
      "Bacillus azotoformans Bacillus mycoides Bacillus mycoides\n",
      "Bacillus luteus Bacillus mycoides Bacillus mycoides\n",
      "Bacillus siamensis Bacillus mycoides Bacillus mycoides\n",
      "Listeria welshimeri Listeria monocytogenes SLCC2540 Listeria monocytogenes SLCC2540\n",
      "Streptomyces daliensis Streptomyces sp. ISID311 Streptomyces sp. ISID311\n",
      "Streptomyces daliensis Streptomyces sp. NRRL F-4335 Streptomyces sp. NRRL F-4335\n",
      "Bacillus azotoformans Bacillus thuringiensis serovar huazhongensis BGSC 4BD1 Bacillus thuringiensis serovar huazhongensis BGSC 4BD1\n",
      "Bacillus luteus Bacillus thuringiensis serovar huazhongensis BGSC 4BD1 Bacillus thuringiensis serovar huazhongensis BGSC 4BD1\n",
      "Bacillus siamensis Bacillus thuringiensis serovar huazhongensis BGSC 4BD1 Bacillus thuringiensis serovar huazhongensis BGSC 4BD1\n",
      "Streptomyces daliensis Streptomyces sp. CB09001 Streptomyces sp. CB09001\n",
      "Streptomyces daliensis Streptomyces luteoverticillatus Streptomyces luteoverticillatus\n",
      "Streptomyces daliensis Streptomyces sp. MA37 Streptomyces sp. MA37\n",
      "Streptomyces daliensis Streptomyces somaliensis Streptomyces somaliensis\n",
      "Streptomyces daliensis Streptomyces cyslabdanicus Streptomyces cyslabdanicus\n",
      "Streptomyces daliensis Streptomyces nigrescens Streptomyces nigrescens\n",
      "Streptomyces daliensis Streptomyces sp. SoC090715LN-16 Streptomyces sp. SoC090715LN-16\n",
      "Streptococcus massiliensis Streptococcus ferus Streptococcus ferus\n",
      "Streptomyces daliensis Streptomyces armeniacus Streptomyces armeniacus\n",
      "Streptomyces daliensis Streptomyces tubercidicus Streptomyces tubercidicus\n",
      "Streptomyces daliensis Streptomyces miharaensis Streptomyces miharaensis\n",
      "Streptomyces daliensis Streptomyces novoguineensis Streptomyces novoguineensis\n",
      "Streptomyces daliensis Streptomyces hiroshimensis Streptomyces hiroshimensis\n",
      "Streptomyces daliensis Streptomyces albus subsp. chlorinus Streptomyces albus subsp. chlorinus\n",
      "Streptomyces daliensis Streptomyces hawaiiensis Streptomyces hawaiiensis\n",
      "Streptomyces daliensis Streptomyces candidus Streptomyces candidus\n",
      "Streptomyces daliensis Streptomyces chrestomyceticus Streptomyces chrestomyceticus\n",
      "Streptomyces daliensis Streptomyces afghaniensis 772 Streptomyces afghaniensis 772\n",
      "Streptomyces daliensis Streptomyces sp. ZS0098 Streptomyces sp. ZS0098\n",
      "Streptomyces daliensis Streptomyces sp. QL37 Streptomyces sp. QL37\n",
      "Streptomyces daliensis Streptomyces sp. S816 Streptomyces sp. S816\n",
      "Streptomyces daliensis Streptomyces sp. IB2014 016-6 Streptomyces sp. IB2014 016-6\n"
     ]
    }
   ],
   "source": [
    "G_new_micbio = G\n",
    "for i in list(G_new_micbio.nodes):\n",
    "    for j in modified_all_new:\n",
    "        if j[-1] == i:\n",
    "            G_new_micbio.add_edge(j[0], i)\n",
    "            print(j[0], i, j[-1])"
   ],
   "metadata": {
    "collapsed": false,
    "pycharm": {
     "name": "#%%\n"
    }
   }
  },
  {
   "cell_type": "code",
   "execution_count": 95,
   "outputs": [],
   "source": [
    "G\n",
    "G_new_micbio\n",
    "nx.write_graphml_lxml(G_new_micbio, \"MCCN_new_org.graphml\")"
   ],
   "metadata": {
    "collapsed": false,
    "pycharm": {
     "name": "#%%\n"
    }
   }
  },
  {
   "cell_type": "code",
   "execution_count": 100,
   "outputs": [
    {
     "data": {
      "text/plain": "[('Verrucosispora maris AB-18-032', 'abyssomicin C'),\n ('Verrucosispora maris AB-18-032', 'atrop-abyssomicin C'),\n ('Kutzneria albida DSM 43870', 'aculeximycin'),\n ('Alternaria alternata', 'AF-toxin'),\n ('Alternaria alternata', 'dimethylcoprogen'),\n ('Alternaria alternata', 'UNII-YC2Q1O94PT'),\n ('Alternaria alternata', 'ACT-Toxin II'),\n ('Alternaria alternata', 'AM-toxin'),\n ('Alternaria alternata', 'AK-toxin I'),\n ('Aspergillus oryzae', 'aflatoxin G1'),\n ('Aspergillus oryzae', 'ferrichrome'),\n ('Aspergillus oryzae', 'cyclopiazonic acid'),\n ('Aspergillus parasiticus', 'aflatoxin'),\n ('Aspergillus flavus', 'aflatoxin'),\n ('Aspergillus flavus', 'cyclopiazonic acid'),\n ('Aspergillus nomius', 'aflatoxin'),\n ('Aspergillus ochraceoroseus', 'sterigmatocystin'),\n ('Alternaria solani', 'alternapyrone'),\n ('Alternaria solani', 'solanapyrone D'),\n ('Aspergillus nidulans FGSC A4', 'alternariol'),\n ('Aspergillus nidulans FGSC A4', 'asperfuranone'),\n ('Aspergillus nidulans FGSC A4', 'cichorine'),\n ('Aspergillus nidulans FGSC A4', 'F9775A'),\n ('Aspergillus nidulans FGSC A4', 'F9775B'),\n ('Aspergillus nidulans FGSC A4', 'orsellinic acid'),\n ('Aspergillus nidulans FGSC A4', 'emodin'),\n ('Aspergillus nidulans FGSC A4', 'monodictyphenone'),\n ('Aspergillus nidulans FGSC A4', 'shamixanthone'),\n ('Aspergillus nidulans FGSC A4', 'naphthopyrone'),\n ('Aspergillus nidulans FGSC A4', 'terrequinone A'),\n ('Aspergillus nidulans FGSC A4', 'pimara-8(14),15-diene'),\n ('Aspergillus nidulans FGSC A4', 'asperthecin'),\n ('Aspergillus nidulans FGSC A4', 'aspyridone A'),\n ('Aspergillus nidulans FGSC A4', 'emericellamide A'),\n ('Aspergillus nidulans FGSC A4', 'emericellamide B'),\n ('Aspergillus nidulans FGSC A4', 'fellutamide B'),\n ('Aspergillus nidulans FGSC A4', 'aspercryptins'),\n ('Aspergillus nidulans FGSC A4', 'EQ-4'),\n ('Aspergillus nidulans FGSC A4', 'N-Acetyltryptophan'),\n ('Aspergillus nidulans FGSC A4', 'nidulanin A'),\n ('Aspergillus nidulans FGSC A4', 'aspernidine A'),\n ('Aspergillus nidulans FGSC A4', 'aspernidgulene A1'),\n ('Aspergillus nidulans FGSC A4', 'aspernidgulene A2'),\n ('Aspergillus nidulans FGSC A4', 'aspernidgulene B1'),\n ('Sorangium cellulosum', 'ambruticin'),\n ('Sorangium cellulosum', 'jerangolid A'),\n ('Sorangium cellulosum', 'jerangolid D'),\n ('Sorangium cellulosum', 'soraphen A'),\n ('Sorangium cellulosum', 'spirangien O'),\n ('Sorangium cellulosum', 'sorangicin A'),\n ('Sorangium cellulosum', 'leupyrrin'),\n ('Sorangium cellulosum', 'epothilone B'),\n ('Sorangium cellulosum', 'epothilone'),\n ('Sorangium cellulosum', 'microsclerodermin M'),\n ('Sorangium cellulosum', 'pellasoren'),\n ('Sorangium cellulosum', 'thuggacin A'),\n ('Sorangium cellulosum', 'chivosazol'),\n ('Sorangium cellulosum', 'disorazol A'),\n ('Sorangium cellulosum', 'chlorotonil A'),\n ('Sorangium cellulosum', 'ripostatin A'),\n ('Sorangium cellulosum', 'ripostatin B'),\n ('Sorangium cellulosum', 'ripostatin C'),\n ('Sorangium cellulosum', 'Sorangium cellulosum'),\n ('Sorangium cellulosum', 'Sorangium cellulosum So ce56'),\n ('Sorangium cellulosum', 'Sorangium cellulosum So0157-2'),\n ('Streptomyces nodosus', 'amphotericin B'),\n ('Streptomyces nodosus', 'siamycin'),\n ('[Oscillatoria] sp. PCC 6506', 'anatoxin-a'),\n ('[Oscillatoria] sp. PCC 6506', 'homoanatoxin-a'),\n ('Streptomyces eurythermus', 'angolamycin'),\n ('Actinosynnema pretiosum subsp. auranticum', 'maytansine'),\n ('Actinosynnema pretiosum subsp. auranticum', 'ansamitocin P-3'),\n ('Nocardiopsis sp. FU 40', 'apoptolidin'),\n ('Stigmatella aurantiaca DW4/3-1', 'aurafuron A'),\n ('Stigmatella aurantiaca DW4/3-1', 'dawenol'),\n ('Stigmatella aurantiaca DW4/3-1', 'dkxanthene'),\n ('Stigmatella aurantiaca DW4/3-1', 'myxothiazol'),\n ('Stigmatella aurantiaca DW4/3-1', 'myxochromide S1'),\n ('Streptomyces thioluteus', 'aureothin'),\n ('Streptomyces thioluteus', 'diisonitrile antibiotic SF2768'),\n ('Streptomyces avermitilis', 'avermectin'),\n ('Streptomyces avermitilis', 'oligomycin'),\n ('Streptomyces avermitilis', 'spore pigment'),\n ('Streptomyces avermitilis', 'carotenoid'),\n ('Streptomyces avermitilis', 'melanin'),\n ('Streptomyces avermitilis', 'ochronotic pigment'),\n ('Streptomyces avermitilis', 'phthoxazolin'),\n ('Streptomyces viridochromogenes Tue57', 'avilamycin A'),\n ('Streptomyces viridochromogenes Tue57', 'avilamycin C'),\n ('Monascus pilosus', 'ankaflavin'),\n ('Monascus pilosus', 'monascin'),\n ('Monascus pilosus', 'rubropunctatine'),\n ('Monascus pilosus', 'monascorubrin'),\n ('Monascus pilosus', 'monacolin K'),\n ('Streptomyces lohii', 'bafilomycin B1'),\n ('Streptomyces sp. DSM 21069', 'BE-14106'),\n ('Fusarium fujikuroi IMI 58289', 'bikaverin'),\n ('Fusarium fujikuroi IMI 58289', 'fujikurin A'),\n ('Fusarium fujikuroi IMI 58289', 'fujikurin B'),\n ('Fusarium fujikuroi IMI 58289', 'fujikurin C'),\n ('Fusarium fujikuroi IMI 58289', 'fujikurin D'),\n ('Fusarium fujikuroi IMI 58289', 'α-acorenol'),\n ('Fusarium fujikuroi IMI 58289', 'gibepyrone-A'),\n ('Fusarium fujikuroi IMI 58289', 'koraiol'),\n ('Streptomyces parvulus', 'borrelidin'),\n ('Streptomyces chartreusis NRRL 3882', 'A23187'),\n ('Streptomyces chartreusis NRRL 3882', 'tunicamycin B1'),\n ('Micromonospora echinospora', 'calicheamicin'),\n ('Micromonospora echinospora', '2-deoxystreptamine'),\n ('Micromonospora echinospora', 'gentamicin'),\n ('Micromonospora echinospora', 'nenestatin'),\n ('Streptomyces sp. FR-008', 'candicidin'),\n ('Streptomyces sp. FR-008', 'levorin A3'),\n ('Streptomyces sp. FR-008', 'C06690'),\n ('Streptomyces sp. FR-008', 'FR-008-III'),\n ('Streptomyces sp. FR-008', 'candicidin A'),\n ('Streptomyces sp. FR-008', 'UNII-AP5PEF5W7U'),\n ('Streptomyces bikiniensis', 'chalcomycin A'),\n ('Streptomyces antibioticus', 'chlorothricin'),\n ('Streptomyces antibioticus', 'deschlorothricin'),\n ('Streptomyces antibioticus', 'X-14547'),\n ('Streptomyces antibioticus', 'oviedomycin'),\n ('Streptomyces antibioticus', 'simocyclinone D8'),\n ('Streptomyces antibioticus', 'simocyclinone'),\n ('Streptomyces antibioticus', 'esmeraldin'),\n ('Streptomyces antibioticus', 'valclavam'),\n ('Streptomyces antibioticus', '(-)-2-(2-hydroxyethyl)clavam'),\n ('Streptomyces antibioticus', 'pentostatine'),\n ('Streptomyces antibioticus', 'vidarabine'),\n ('Streptomyces coelicolor A3(2)', 'coelimycin P1'),\n ('Streptomyces coelicolor A3(2)', 'actinorhodin'),\n ('Streptomyces coelicolor A3(2)', 'CDA1b'),\n ('Streptomyces coelicolor A3(2)', 'CDA2a'),\n ('Streptomyces coelicolor A3(2)', 'CDA2b'),\n ('Streptomyces coelicolor A3(2)', 'CDA3a'),\n ('Streptomyces coelicolor A3(2)', 'CDA3b'),\n ('Streptomyces coelicolor A3(2)', 'CDA4a'),\n ('Streptomyces coelicolor A3(2)', 'CDA4b'),\n ('Streptomyces coelicolor A3(2)', 'coelibactin'),\n ('Streptomyces coelicolor A3(2)', 'coelichelin'),\n ('Streptomyces coelicolor A3(2)', 'SapB'),\n ('Streptomyces coelicolor A3(2)', 'SCO-2138'),\n ('Streptomyces coelicolor A3(2)', 'albaflavenone'),\n ('Streptomyces coelicolor A3(2)', 'hopene'),\n ('Streptomyces coelicolor A3(2)', 'SCB1'),\n ('Streptomyces coelicolor A3(2)', 'SCB2'),\n ('Streptomyces coelicolor A3(2)', 'SCB3'),\n ('Streptomyces coelicolor A3(2)', 'melanin'),\n ('Streptomyces coelicolor A3(2)', 'methylenomycin A'),\n ('Streptomyces coelicolor A3(2)', 'desferrioxamin B'),\n ('Streptomyces coelicolor A3(2)', 'desferrioxamine E'),\n ('Streptomyces coelicolor A3(2)', 'undecylprodigiosin'),\n ('Streptomyces coelicolor A3(2)', 'geosmin'),\n ('Penicillium citrinum', 'compactin'),\n ('Streptomyces neyagawaensis', 'concanamycin A'),\n ('Pseudomonas syringae', 'oronofacic acid'),\n ('Pseudomonas syringae', 'tabtoxin'),\n ('Pseudomonas syringae', 'phaseolotoxin'),\n ('Pseudomonas syringae', 'syringolin A'),\n ('Pseudomonas syringae', 'fosfomycin'),\n ('Streptomyces sp. MJ635-86F5', 'cremimycin'),\n ('Moorea producens 19L', 'curacin A'),\n ('Aspergillus terreus', 'dehydrocurvularin'),\n ('Aspergillus terreus', 'monacolin K'),\n ('Aspergillus terreus', '6-methylsalicyclic acid'),\n ('Alternaria brassicicola', 'depudecin'),\n ('Streptomyces sp. KCTC 0041BP',\n  '10,11-dihydro-8-deoxy-12,13-deepoxy-12,13-dihydrochalcomycin'),\n ('Dothistroma septosporum', 'dothistromin'),\n ('Streptomyces aculeolatus', 'E-837'),\n ('Streptomyces aculeolatus', 'napyradiomycin A80915C'),\n ('Kitasatospora aburaviensis', 'ebelactone A'),\n ('Kitasatospora aburaviensis', 'ebelactone B'),\n ('Kitasatospora aburaviensis', 'ebelactone'),\n ('Streptomyces aizunensis', 'ECO-02301'),\n ('Unknown. Unclassified.', 'elaiophylin'),\n ('Aeromicrobium erythreum', 'erythromycin'),\n ('Saccharopolyspora erythraea NRRL 2338', 'erythromycin A'),\n ('Saccharopolyspora erythraea NRRL 2338', 'erythromycin B'),\n ('Saccharopolyspora erythraea NRRL 2338', 'erythromycin C'),\n ('Saccharopolyspora erythraea NRRL 2338', 'erythromycin D'),\n ('Saccharopolyspora erythraea NRRL 2338', 'erythrochelin'),\n ('Saccharopolyspora erythraea NRRL 2338', 'Ery-9'),\n ('Saccharopolyspora erythraea NRRL 2338', 'Ery-6'),\n ('Saccharopolyspora erythraea NRRL 2338', 'Ery-8'),\n ('Saccharopolyspora erythraea NRRL 2338', 'Ery-7'),\n ('Saccharopolyspora erythraea NRRL 2338', 'Ery-5'),\n ('Saccharopolyspora erythraea NRRL 2338', 'Ery-4'),\n ('Saccharopolyspora erythraea NRRL 2338', 'Ery-3'),\n ('Saccharopolyspora erythraea NRRL 2338', '2-methylisoborneol'),\n ('Saccharopolyspora erythraea NRRL 2338', 'flaviolin'),\n ('Actinomadura verrucosospora', 'esperamicin'),\n ('Streptomyces graminofaciens', 'FD-891'),\n ('Streptomyces avermitilis MA-4680 = NBRC 14893', 'filipin'),\n ('Streptomyces avermitilis MA-4680 = NBRC 14893', 'pentalenolactone'),\n ('Streptomyces avermitilis MA-4680 = NBRC 14893', 'avermitilol'),\n ('Streptomyces avermitilis MA-4680 = NBRC 14893', 'citrulassin F'),\n ('Streptomyces avermitilis MA-4680 = NBRC 14893',\n  'ethylenediaminesuccinic acid hydroxyarginine (EDHA)'),\n ('Streptomyces pulveraceus', 'fostriecin'),\n ('Fusarium verticillioides', 'fumonisin B1'),\n ('Fusarium verticillioides', 'fusarin'),\n ('Fusarium oxysporum', 'fumonisin'),\n ('Streptomyces galbus', 'rustmicin'),\n ('Streptomyces hygroscopicus', 'geldanamycin'),\n ('Streptomyces hygroscopicus', 'herbimycin A'),\n ('Streptomyces hygroscopicus', 'eponemycin'),\n ('Streptomyces hygroscopicus', 'mannopeptimycin'),\n ('Streptomyces hygroscopicus', 'cyclothiazomycin'),\n ('Streptomyces hygroscopicus', 'hygromycin A'),\n ('Streptomyces hygroscopicus subsp. duamyceticus', 'geldanamycin'),\n ('Archangium violaceum Cb vi76', 'gephyronic acid'),\n ('Penicillium aethiopicum', 'griseofulvin'),\n ('Penicillium aethiopicum', 'epidechlorogriseofulvin'),\n ('Penicillium aethiopicum', 'norlichexanthone'),\n ('Penicillium aethiopicum', 'dehydrogriseofulvin'),\n ('Penicillium aethiopicum', '4-desmethylgriseofulvin'),\n ('Penicillium aethiopicum', 'griseoxanthone B'),\n ('Penicillium aethiopicum', 'viridicatumtoxin'),\n ('Penicillium aethiopicum', 'previridicatumtoxin'),\n ('Penicillium aethiopicum', '5-hydroxyanthrotainin'),\n ('Penicillium aethiopicum', '8-O-desmethylanthrotainin'),\n ('Penicillium aethiopicum', 'tryptoquialanine'),\n ('Pyxidicoccus fallax', 'gulmirecin A'),\n ('Pyxidicoccus fallax', 'pyxidicycline A'),\n ('Pyxidicoccus fallax', 'pyxidicycline B'),\n ('Streptomyces halstedii', 'halstoctacosanolide A'),\n ('Streptomyces halstedii', 'vicenistatin'),\n ('Streptomyces sp. LZ35', 'hygrocin A'),\n ('Streptomyces sp. LZ35', 'hygrocin B'),\n ('Streptomyces sp. LZ35', 'echoside A'),\n ('Streptomyces sp. LZ35', 'echoside B'),\n ('Streptomyces sp. LZ35', 'echoside C'),\n ('Streptomyces sp. LZ35', 'echoside D'),\n ('Streptomyces sp. LZ35', 'echoside E'),\n ('Hypomyces subiculosus', 'hypothemycin'),\n ('Streptomyces sp. ML694-90F3', 'incednine'),\n ('Streptoalloteichus sp. ATCC 53650', 'kedarcidin'),\n ('Actinomadura kijaniata', 'kijanimicin'),\n ('Streptomyces amphibiosporus', 'lactimidomycin'),\n ('Streptomyces amphibiosporus', '8,9-dihydrolactimidomycin'),\n ('Streptomyces amphibiosporus', '8-hydroxy-8,9-dihydrolactidomycin'),\n ('Streptomyces amphibiosporus', '17-hydroxy-8-desmethoxy-isomigrastatin'),\n ('Streptomyces sp. CS684', 'laidlomycin'),\n ('Streptomyces rochei', 'lankamycin'),\n ('Streptomyces rochei', 'streptothricin'),\n ('Streptomyces rochei', 'lankacidin C'),\n ('Streptomyces rochei', 'lipopeptide 8D1-1'),\n ('Streptomyces rochei', 'lipopeptide 8D1-2'),\n ('Streptomyces rochei', 'borrelidin'),\n ('Streptomyces lasaliensis', 'lasalocid'),\n ('Streptomyces lasaliensis', 'echinomycin'),\n ('Actinosynnema pretiosum subsp. pretiosum', 'macbecin'),\n ('Actinosynnema pretiosum subsp. pretiosum', 'macbecin II'),\n ('Actinosynnema pretiosum subsp. pretiosum', 'ansamitocin P-3'),\n ('Streptomyces sp. CNQ-617', 'marineosin A'),\n ('Streptomyces sp. CNQ-617', 'marineosin B'),\n ('Micromonospora megalomicea subsp. nigra', 'megalomicin A'),\n ('Micromonospora megalomicea subsp. nigra', 'megalomicin B'),\n ('Micromonospora megalomicea subsp. nigra', 'megalomicin C1'),\n ('Micromonospora megalomicea subsp. nigra', 'megalomicin C2'),\n ('Streptomyces nanchangensis', 'meilingmycin'),\n ('Streptomyces nanchangensis', 'nanchangmycin'),\n ('Streptomyces venezuelae', 'methymycin'),\n ('Streptomyces venezuelae', 'desosamine'),\n ('Streptomyces venezuelae', 'venemycin'),\n ('Streptomyces mycarofaciens', 'midecamycin'),\n ('Streptomyces sp. MP39-85', 'ML-449'),\n ('Talaromyces marneffei', 'monascorubrin'),\n ('Streptomyces cinnamonensis', 'monensin'),\n ('Micromonospora griseorubida', 'mycinamicin II'),\n ('Mycobacterium ulcerans Agy99', 'mycolactone B'),\n ('Penicillium brevicompactum', 'mycophenolic acid'),\n ('Streptomyces sp. CS', 'naphthomycin A'),\n ('Streptomyces chattanoogensis', 'natamycin'),\n ('Streptomyces cyaneogriseus subsp. noncyanogenus', 'LL-F28249α'),\n ('Streptomyces orinoci', 'spectinabilin'),\n ('Streptomyces orinoci', 'orinocin'),\n ('Streptomyces orinoci', 'SNF4435C'),\n ('Streptomyces orinoci', 'SNF4435D'),\n ('Streptomyces orinoci', 'neoantimycin'),\n ('Streptomyces carzinostaticus', 'neocarzilin A'),\n ('Streptomyces carzinostaticus', 'neocarzilin B'),\n ('Streptomyces carzinostaticus subsp. neocarzinostaticus',\n  'neocarzinostatin'),\n ('Streptomyces caelestis', 'niddamycin'),\n ('Streptomyces caelestis', 'celesticetin'),\n ('Streptomyces violaceusniger', 'nigericin'),\n ('Streptomyces violaceusniger', 'meridamycin'),\n ('Streptomyces noursei ATCC 11455', 'nystatin A1'),\n ('Streptomyces noursei ATCC 11455', 'albonoursin'),\n ('Streptomyces noursei ATCC 11455', 'dechlorocuracomycin'),\n ('Pseudonocardia autotrophica', 'nystatin-like Pseudonocardia polyene'),\n ('Streptomyces pactum', 'pactamycin'),\n ('Streptomyces pactum', '7-deoxypactamycin'),\n ('Streptomyces pactum', 'pactamides'),\n ('Streptomyces pactum', 'totopotensamide A'),\n ('Streptomyces pactum', 'totopotensamide B'),\n ('Penicillium expansum', 'patulin'),\n ('Penicillium expansum', 'chaetoglobosins'),\n ('Penicillium expansum', 'communesin A'),\n ('Penicillium expansum', 'communesin B'),\n ('Penicillium expansum', 'communesin C'),\n ('Penicillium expansum', 'communesin D'),\n ('Penicillium expansum', 'communesin E'),\n ('Penicillium expansum', 'communesin G'),\n ('Penicillium expansum', 'communesin H'),\n ('Pestalotiopsis fici', 'RES-1214-2'),\n ('Pestalotiopsis fici', 'iso-A82775C'),\n ('Nannocystis pusilla', 'phenylnannolone A'),\n ('Nannocystis pusilla', 'phenylnannolone B'),\n ('Nannocystis pusilla', 'phenylnannolone C'),\n ('Nannocystis pusilla', 'pyrronazol B'),\n ('Streptomyces sp. HK803', 'phoslactomycin B'),\n ('Streptomyces piomogenus', 'piericidin A1'),\n ('Streptomyces natalensis', 'pimaricin'),\n ('Streptomyces platensis', 'pladienolide B'),\n ('Streptomyces platensis', 'platensimycin'),\n ('Streptomyces platensis', 'platencin'),\n ('Streptomyces platensis', 'thioplatensimycin'),\n ('Streptomyces platensis', 'thioplatencin'),\n ('Pseudomonas protegens Pf-5', 'pyoluteorin'),\n ('Pseudomonas protegens Pf-5', 'orfamide A'),\n ('Pseudomonas protegens Pf-5', 'orfamide C'),\n ('Pseudomonas protegens Pf-5', 'pyoverdin'),\n ('Pseudomonas sp. M18', 'pyoluteorin'),\n ('Aspergillus fumigatus Af293', 'pyripyropene A'),\n ('Aspergillus fumigatus Af293', 'fumiquinazoline A'),\n ('Aspergillus fumigatus Af293', 'fumiquinazoline C'),\n ('Aspergillus fumigatus Af293', 'fumiquinazoline D'),\n ('Aspergillus fumigatus Af293', 'gliotoxin'),\n ('Aspergillus fumigatus Af293', 'bisdethiobis(methylthio)gliotoxin'),\n ('Aspergillus fumigatus Af293', 'hexadehydroastechrome'),\n ('Aspergillus fumigatus Af293', 'terezine-D'),\n ('Aspergillus fumigatus Af293', 'astechrome'),\n ('Aspergillus fumigatus Af293', 'helvolic acid'),\n ('Aspergillus fumigatus Af293', 'fumigaclavine C'),\n ('Aspergillus fumigatus Af293', 'pseurotin'),\n ('Aspergillus fumigatus Af293', 'azaspirene'),\n ('Aspergillus fumigatus Af293', 'fumagillin'),\n ('Aspergillus fumigatus Af293', 'β-trans-bergamotene'),\n ('Aspergillus fumigatus Af293', 'fumagillol'),\n ('Aspergillus fumigatus Af293', 'endocrocin'),\n ('Aspergillus fumigatus Af293', 'trypacidin'),\n ('Aspergillus fumigatus Af293', 'xanthocillin'),\n ('Streptomyces vitaminophilus', 'pyrrolomycin A'),\n ('Streptomyces vitaminophilus', 'pyrrolomycin B'),\n ('Streptomyces vitaminophilus', 'pyrrolomycin C'),\n ('Streptomyces vitaminophilus', 'pyrrolomycin D'),\n ('Streptomyces sp. UC 11065', 'pyrrolomycin'),\n ('Amycolatopsis orientalis', 'quartromicin A1'),\n ('Pochonia chlamydosporia', 'radicicol'),\n ('Streptomyces sp. SN-593', 'reveromycin A'),\n ('Amycolatopsis mediterranei S699', 'rifamycin'),\n ('Salinispora arenicola CNS-205', 'rifamycin'),\n ('Salinispora arenicola CNS-205', 'cyclomarin D'),\n ('Salinispora arenicola CNS-205', 'staurosporine'),\n ('Salinispora arenicola CNS-205', 'lymphostin'),\n ('Salinispora arenicola CNS-205', 'neolymphostinol B'),\n ('Salinispora arenicola CNS-205', 'lymphostinol'),\n ('Salinispora arenicola CNS-205', 'neolymphostin b'),\n ('Streptomyces diastaticus', 'rimocidin'),\n ('Streptomyces sp. 88-682',\n  '4-hexadecanoyl-3-hydroxy-2-(hydroxymethyl)-2H-furan-5-one'),\n ('Streptomyces achromogenes subsp. rubradiris', 'rubradirin'),\n ('Salinispora tropica CNB-440', 'salinilactam'),\n ('Salinispora tropica CNB-440', 'sporolide A'),\n ('Salinispora tropica CNB-440', 'sporolide B'),\n ('Salinispora tropica CNB-440', 'lomaiviticin A'),\n ('Salinispora tropica CNB-440', 'lomaiviticin C'),\n ('Salinispora tropica CNB-440', 'lomaiviticin D'),\n ('Salinispora tropica CNB-440', 'lomaiviticin E'),\n ('Salinispora tropica CNB-440', 'lymphostin'),\n ('Salinispora tropica CNB-440', 'neolymphostinol B'),\n ('Salinispora tropica CNB-440', 'lymphostinol'),\n ('Salinispora tropica CNB-440', 'neolymphostin B'),\n ('Salinispora tropica CNB-440', 'salinosporamide A'),\n ('Salinispora tropica CNB-440', 'salinipostin G'),\n ('Streptomyces albus', 'salinomycin'),\n ('Streptomyces albus', 'oxalomycin B'),\n ('Streptomyces albus', 'fluostatins M-Q'),\n ('Streptomyces albus', 'albusnodin'),\n ('Salinispora tropica', 'salinosporamide A'),\n ('Saccharopolyspora spinosa', 'A83543A'),\n ('Streptomyces ambofaciens ATCC 23877', 'stambomycin A'),\n ('Streptomyces ambofaciens ATCC 23877', 'stambomycin B'),\n ('Streptomyces ambofaciens ATCC 23877', 'stambomycin C'),\n ('Streptomyces ambofaciens ATCC 23877', 'stambomycin D'),\n ('Streptomyces ambofaciens ATCC 23877', 'netropsin'),\n ('Streptomyces ambofaciens ATCC 23877', 'spiramycin'),\n ('Aspergillus nidulans', 'sterigmatocystin'),\n ('Aspergillus nidulans', 'biotin'),\n ('Stigmatella aurantiaca Sg a15', 'stigmatellin'),\n ('Stigmatella aurantiaca Sg a15', 'rhizopodin'),\n ('Stigmatella aurantiaca Sg a15', 'aurachin A'),\n ('Stigmatella aurantiaca Sg a15', 'aurachin D'),\n ('Stigmatella aurantiaca Sg a15', 'myxochelin A'),\n ('Stigmatella aurantiaca Sg a15', 'myxochelin B'),\n ('Stigmatella aurantiaca Sg a15', 'myxochromide S'),\n ('Talaromyces stipitatus ATCC 10500', 'stipitatic acid'),\n ('Talaromyces stipitatus ATCC 10500', 'duclauxin'),\n ('Aspergillus niger', 'TAN-1612'),\n ('Aspergillus niger',\n  '1-(2,3,5,10-tetrahydroxy-7-methoxy-4-oxo-1,2,3,4-tetrahydroanthracen-2-yl)pentane-2,4-dione'),\n ('Aspergillus niger', 'desmethyl TAN-1612'),\n ('Aspergillus niger', 'ferrichrome'),\n ('Streptomyces sp. CK4412', 'tautomycetin'),\n ('Streptomyces griseochromogenes', 'tautomycetin'),\n ('Streptomyces griseochromogenes', 'blasticidin S'),\n ('Streptomyces spiroverticillatus', 'tautomycin'),\n ('Aspergillus terreus NIH2624', 'terreic acid'),\n ('Aspergillus terreus NIH2624', 'isoterrein'),\n ('Aspergillus terreus NIH2624', 'acetylaranotin'),\n ('Aspergillus terreus NIH2624', 'terretonin'),\n ('Aspergillus terreus NIH2624', 'dihydroisoflavipucine'),\n ('Aspergillus terreus NIH2624', 'isoflavipucine'),\n ('Aspergillus terreus NIH2624', 'citreoviridin'),\n ('Aspergillus terreus NIH2624', 'aspterric acid'),\n ('Aspergillus terreus NIH2624', 'asperphenamate'),\n ('Micromonospora chalcea', 'tetrocarcin A'),\n ('Streptomyces longisporoflavus', 'tetronasin'),\n ('Streptomyces sp. NRRL 11266', 'tetronomycin'),\n ('Dactylosporangium aurantiacum subsp. hamdenensis', 'tiacumicin B'),\n ('Streptomyces fradiae', 'tylactone'),\n ('Streptomyces fradiae', 'urdamycin'),\n ('Streptomyces fradiae', 'A54145'),\n ('Streptomyces fradiae', 'neomycin'),\n ('Streptomyces fradiae', 'fosfomycin'),\n ('Aspergillus niger ATCC 1015', 'yanuthone D'),\n ('Aspergillus niger ATCC 1015', 'pyranonigrin E'),\n ('Aspergillus niger ATCC 1015', 'azanigerone A'),\n ('Streptomyces himastatinicus ATCC 53653', '9-methylstreptimidone'),\n ('Streptomyces himastatinicus ATCC 53653', 'himastatin'),\n ('Brevibacillus laterosporus PE36', 'basiliskamide A'),\n ('Brevibacillus laterosporus PE36', 'basiliskamide B'),\n ('Burkholderia gladioli', 'isobongkrekic acid'),\n ('Burkholderia gladioli', 'bongkrekic acid'),\n ('Burkholderia gladioli', 'lagriamide'),\n ('Burkholderia gladioli', 'icosalide A'),\n ('Burkholderia gladioli', 'icosalide B'),\n ('Candidatus Endobugula sertula', 'bryostatin'),\n ('Streptomyces sp. YIM 56141', 'cycloheximide'),\n ('Bacillus velezensis FZB42', 'difficidin'),\n ('Bacillus velezensis FZB42', 'macrolactin H'),\n ('Bacillus velezensis FZB42', 'surfactin'),\n ('Bacillus velezensis FZB42', 'plantazolicin'),\n ('Bacillus velezensis FZB42', 'amylocyclicin'),\n ('Bacillus velezensis FZB42', 'bacillaene'),\n ('Bacillus velezensis FZB42', 'bacillomycin D'),\n ('Bacillus velezensis FZB42', 'fengycin'),\n ('Bacillus velezensis FZB42', 'bacilysin'),\n ('Bacillus velezensis FZB42', 'bacillibactin'),\n ('Streptomyces platensis subsp. rosaceus', 'iso-migrastatin'),\n ('Streptomyces platensis subsp. rosaceus', 'migrastatin'),\n ('Streptomyces platensis subsp. rosaceus', 'dorrigocin A'),\n ('Streptomyces platensis subsp. rosaceus', 'dorrigocin B'),\n ('Streptomyces platensis subsp. rosaceus', '13-epi-dorrigocin A'),\n ('Chitinophaga sancti', 'elansolid A1'),\n ('Sorangium cellulosum So ce56', 'etnangien'),\n ('Sorangium cellulosum So ce56', 'eremophilene'),\n ('Legionella parisiensis', 'legioliulin'),\n ('Pseudomonas fluorescens', 'pseudomonic acid A'),\n ('Pseudomonas fluorescens', '2,4-diacetylphloroglucinol'),\n ('Pseudomonas fluorescens', 'pseudomonine'),\n ('Pseudomonas fluorescens', 'safracin A'),\n ('Pseudomonas fluorescens', 'safracin B'),\n ('Pseudomonas fluorescens', 'quinolobactin'),\n ('Pseudomonas fluorescens', 'kalimantacin A'),\n ('Pseudomonas fluorescens', 'bananamide 1'),\n ('Pseudomonas fluorescens', 'bananamide 2'),\n ('Pseudomonas fluorescens', 'bananamide 3'),\n ('Pseudomonas fluorescens', 'obafluorin'),\n ('Pseudomonas fluorescens', 'anikasin'),\n ('Teredinibacter turnerae T7901', 'tartrolon'),\n ('Teredinibacter turnerae T7901', 'turnerbactin'),\n ('Burkholderia thailandensis E264', 'thailandamide'),\n ('Burkholderia thailandensis E264', 'thailandamide lactone'),\n ('Burkholderia thailandensis E264', 'malleobactin A'),\n ('Burkholderia thailandensis E264', 'malleobactin B'),\n ('Burkholderia thailandensis E264', 'malleobactin C'),\n ('Burkholderia thailandensis E264', 'malleobactin D'),\n ('Burkholderia thailandensis E264', 'bactobolin'),\n ('Burkholderia thailandensis E264', 'burkholdac A'),\n ('Burkholderia thailandensis E264', 'malleilactone'),\n ('Burkholderia thailandensis E264', 'burkholderic acid'),\n ('Streptomyces nodosus subsp. asukaensis', 'asukamycin'),\n ('Cylindrospermopsis raciborskii T3', 'saxitoxin'),\n ('Cylindrospermopsis raciborskii T3', 'neosaxitoxin'),\n ('Cylindrospermopsis raciborskii T3', 'decarbamoylsaxitoxin'),\n ('Cylindrospermopsis raciborskii T3', 'gonyautoxin 3'),\n ('Cylindrospermopsis raciborskii T3', 'gonyautoxin 2'),\n ('Cylindrospermopsis raciborskii T3', 'T3 toxin'),\n ('Xenorhabdus bovienii SS-2004',\n  \"3-(2'-hydroxy-3'-oxo-4'-methylpentyl)-indole\"),\n ('Xenorhabdus bovienii SS-2004',\n  \"3-(2'-hydroxy-3'-oxo-4'-methylhexyl)-indole\"),\n ('Xenorhabdus bovienii SS-2004',\n  \"3-(2'-acetoxy-3'-oxo-4'-methylpentyl)-indole\"),\n ('Xenorhabdus bovienii SS-2004',\n  \"3-(2'-acetoxy-3'-oxo-4'-methylhexyl)-indole\"),\n ('Xenorhabdus bovienii SS-2004', 'taxlllaid A'),\n ('Xenorhabdus bovienii SS-2004', 'fabclavine-polyamine'),\n ('Streptomyces sp. SANK 61196', 'A-74528'),\n ('Streptomyces galilaeus', 'aclacinomycin'),\n ('Streptomyces sp. CM020', 'alnumycin A'),\n ('Streptomyces sp. CM020', 'alnumycin B'),\n ('Streptomyces sp. CM020', 'alnumycin C'),\n ('Streptomyces sp. CM020', 'alnumycin P'),\n ('Streptomyces sp. CM020', 'prealnumycin'),\n ('Streptomyces sp. CM020', 'thalnumycin A'),\n ('Streptomyces sp. CM020', 'thalnumycin B'),\n ('Streptomyces sp. CM020', 'K1115A'),\n ('Streptomyces sp. CM020', '1,6-dihydro-8-propylanthraquinone'),\n ('Photorhabdus laumondii subsp. laumondii TTO1', 'AQ-256'),\n ('Photorhabdus laumondii subsp. laumondii TTO1', 'AQ-270a'),\n ('Photorhabdus laumondii subsp. laumondii TTO1', 'AQ-284a'),\n ('Photorhabdus laumondii subsp. laumondii TTO1', 'luminmycin A'),\n ('Photorhabdus laumondii subsp. laumondii TTO1', 'luminmide'),\n ('Photorhabdus laumondii subsp. laumondii TTO1', 'photopyrone A'),\n ('Photorhabdus laumondii subsp. laumondii TTO1', 'photopyrone B'),\n ('Photorhabdus laumondii subsp. laumondii TTO1', 'photopyrone C'),\n ('Photorhabdus laumondii subsp. laumondii TTO1', 'photopyrone D'),\n ('Photorhabdus laumondii subsp. laumondii TTO1', 'photopyrone E'),\n ('Photorhabdus laumondii subsp. laumondii TTO1', 'photopyrone F'),\n ('Photorhabdus laumondii subsp. laumondii TTO1', 'photopyrone G'),\n ('Photorhabdus laumondii subsp. laumondii TTO1', 'photopyrone H'),\n ('Photorhabdus laumondii subsp. laumondii TTO1', 'kolossin'),\n ('Photorhabdus laumondii subsp. laumondii TTO1', 'pepteridine A'),\n ('Photorhabdus laumondii subsp. laumondii TTO1', 'pepteridine B'),\n ('Photorhabdus laumondii subsp. laumondii TTO1', 'photolose'),\n ('Streptomyces echinatus', 'aranciamycin'),\n ('Salinispora arenicola CNB527', 'arenimycin A'),\n ('uncultured bacterium', 'arimetamycin B'),\n ('uncultured bacterium', 'arimetamycin C'),\n ('uncultured bacterium', 'arimetamycin A'),\n ('uncultured bacterium', 'arixanthomycin A'),\n ('uncultured bacterium', 'arixanthomycin B'),\n ('uncultured bacterium', 'arixanthomycin C'),\n ('uncultured bacterium', 'tetarimycin A'),\n ('uncultured bacterium', 'tetarimycin B'),\n ('uncultured bacterium', 'β-carotein'),\n ('uncultured bacterium', 'methylarcyriarubin'),\n ('uncultured bacterium', 'violacein'),\n ('uncultured bacterium', 'hydroxysporine'),\n ('uncultured bacterium', 'reductasporine'),\n ('uncultured bacterium', 'borregomycin A'),\n ('uncultured bacterium', 'borregomycin B'),\n ('uncultured bacterium', 'borregomycin C'),\n ('uncultured bacterium', 'borregomycin D'),\n ('uncultured bacterium', 'erdasporine A'),\n ('uncultured bacterium', 'erdasporine B'),\n ('uncultured bacterium', 'erdasporine C'),\n ('uncultured bacterium', 'lazarimide A'),\n ('uncultured bacterium', 'lazarimide B'),\n ('uncultured bacterium', 'lazarimide C'),\n ('uncultured bacterium', 'metatricycloene'),\n ('uncultured bacterium', 'malacidin A'),\n ('uncultured bacterium', 'malacidin B'),\n ('uncultured bacterium', 'cadaside A'),\n ('uncultured bacterium', 'cadaside B'),\n ('Streptomyces aureofaciens', 'auricin'),\n ('Streptomyces aureofaciens', 'indigoidine'),\n ('Kibdelosporangium sp. MJ126-NF4', 'azicemicin B'),\n ('Amycolatopsis orientalis subsp. vinearia', 'BE-7585A'),\n ('Streptomyces sp. A2991200', 'benastatin A'),\n ('Streptomyces sp. A2991200', 'benastatin B'),\n ('Streptomyces sp. A2991200', 'BE-43767'),\n ('Streptomyces sp. A2991200', 'TAN1532B'),\n ('Streptomyces chartreusis', 'chartreusin'),\n ('Amycolatopsis sulphurea', 'chelocardin'),\n ('Kitasatospora aureofaciens', 'chlortetracycline'),\n ('Kitasatospora aureofaciens', 'α-lipomycin'),\n ('Kitasatospora aureofaciens', 'triacsins'),\n ('Streptomyces griseus subsp. griseus', 'chromomycin A3'),\n ('Streptomyces griseus subsp. griseus', 'macrotetrolide'),\n ('Streptomyces griseus subsp. griseus', 'nonactin'),\n ('Streptomyces griseus subsp. griseus', 'indolmycin'),\n ('Streptomyces albaduncus', 'chrysomycin'),\n ('Streptomyces sp. SPB074', 'cinerubin B'),\n ('Streptomyces aureus', 'colabomycin E'),\n ('Streptomyces olindensis', 'cosmomycin B'),\n ('Streptomyces olindensis', 'cosmomycin D'),\n ('Streptomyces olindensis', 'anantin C'),\n ('Streptomyces cyaneus', 'curamycin'),\n ('Dactylosporangium sp. SC14051', 'dactylocycline A'),\n ('Streptomyces sp.', 'daunorubicin'),\n ('Streptomyces sp.', 'meridamycin'),\n ('Streptomyces sp.', 'belactosin A'),\n ('Streptomyces sp.', 'belactosin C'),\n ('Streptomyces sp.', 'pseudouridimycin'),\n ('Streptomyces sp.', 'actinonin'),\n ('Streptomyces sp.', 'BE-24566B'),\n ('Streptomyces sp.', 'combamide'),\n ('Streptomyces sp.', 'isatropolone A'),\n ('Streptomyces sp.', 'isotropolone B'),\n ('Streptomyces sp.', 'isotropolone C'),\n ('Streptomyces sp.', 'lasalocid'),\n ('Streptomyces sp.', 'mayamycin'),\n ('Streptomyces sp.', 'neothioviridamide'),\n ('Streptomyces sp.', 'nosiheptide'),\n ('Streptomyces sp.', 'reedsmycins'),\n ('Streptomyces sp.', 'saquayamycin A'),\n ('Streptomyces sp.', 'JBIR-06'),\n ('Streptomyces sp.', 'siamycin I'),\n ('Streptomyces sp.', 'MS-271'),\n ('Streptomyces sp.', 'altemicidin'),\n ('Streptomyces sp.', 'SB-203207'),\n ('Streptomyces sp.', 'SB-203208'),\n ('Streptomyces sp.', 'A-94964'),\n ('Streptomyces sp.', 'naseseazine C'),\n ('Streptomyces sp.', 'C3-aryl pyrroloindolines'),\n ('Streptomyces sp.', 'ashimides'),\n ('Streptomyces sp.', 'sarpeptin A'),\n ('Streptomyces sp.', 'sarpeptin B'),\n ('Streptomyces peucetius', 'doxorubicin'),\n ('Streptomyces olivaceus', 'elloramycin'),\n ('Streptomyces olivaceus', 'olimycin A'),\n ('Streptomyces olivaceus', 'olimycin B'),\n ('Streptomyces maritimus', 'enterocin'),\n ('uncultured soil bacterium V167', 'erdacin'),\n ('Streptomyces sp. TA-0256', 'FD-594'),\n ('uncultured bacterium BAC AB649/1850', 'rabelomycin'),\n ('uncultured bacterium BAC AB649/1850', 'dehydrorabelomycin'),\n ('uncultured bacterium BAC AB649/1850', 'fluostatin F'),\n ('uncultured bacterium BAC AB649/1850', 'fluostatin G'),\n ('uncultured bacterium BAC AB649/1850', 'fluostatin H'),\n ('Streptomyces griseus', 'fredericamycin A'),\n ('Streptomyces griseus', 'griseusin'),\n ('Streptomyces griseus', 'A-500359 A'),\n ('Streptomyces griseus', 'A-500359 B'),\n ('Streptomyces griseus', 'griseochelin'),\n ('Streptomyces griseus', 'frigocyclinone'),\n ('Streptomyces roseofulvus', 'frenolicin B'),\n ('Streptomyces griseoflavus', 'gilvocarcin V'),\n ('Streptomyces griseoflavus', 'hormaomycin'),\n ('Streptomyces griseoflavus', 'hormaomycin A1'),\n ('Streptomyces griseoflavus', 'hormaomycin A2'),\n ('Streptomyces griseoflavus', 'hormaomycin A3'),\n ('Streptomyces griseoflavus', 'hormaomycin A4'),\n ('Streptomyces griseoflavus', 'hormaomycin A5'),\n ('Streptomyces griseoflavus', 'hormaomycin A6'),\n ('Streptomyces violaceoruber', 'granaticin'),\n ('Streptomyces violaceoruber', 'kendomycin'),\n ('Streptomyces lusitanus', 'grincamycin'),\n ('Streptomyces lusitanus', 'naphthyridinomycin'),\n ('Streptomyces sp. JP95', 'griseorhodin A'),\n ('Streptomyces sp. 2238-SVT4', 'hatomarubigin A'),\n ('Streptomyces sp. 2238-SVT4', 'hatomarubigin B'),\n ('Streptomyces sp. 2238-SVT4', 'hatomarubigin C'),\n ('Streptomyces sp. 2238-SVT4', 'hatomarubigin D'),\n ('Streptomyces griseoruber', 'hedamycin'),\n ('Streptomyces griseoruber', 'murayaquinone'),\n ('Streptomyces venezuelae ATCC 10712', 'jadomycin'),\n ('Streptomyces venezuelae ATCC 10712', 'venezuelin'),\n ('Streptomyces venezuelae ATCC 10712', 'chloramphenicol'),\n ('Streptomyces venezuelae ATCC 10712', 'thiazostatin'),\n ('Streptomyces venezuelae ATCC 10712', 'watasemycin A'),\n ('Streptomyces venezuelae ATCC 10712', 'watasemycin B'),\n ('Streptomyces venezuelae ATCC 10712',\n  '2-hydroxyphenylthiazoline enantiopyochelin'),\n ('Streptomyces venezuelae ATCC 10712', 'isopyochelin'),\n ('Streptomyces sp. W007', 'kiamycin'),\n ('Streptomyces murayamaensis', 'kinamycin'),\n ('Streptomyces murayamaensis', '4-hydroxy-3-nitrosobenzamide'),\n ('Streptomyces sanglieri', 'lactonamycin Z'),\n ('Streptomyces rishiriensis', 'lactonamycin'),\n ('Streptomyces rishiriensis', 'coumermycin A1'),\n ('Streptomyces cyanogenus', 'landomycin A'),\n ('Salinispora pacifica', 'lomaiviticin A'),\n ('Salinispora pacifica', 'lomaiviticin C'),\n ('Salinispora pacifica', 'lomaiviticin D'),\n ('Salinispora pacifica', 'lomaiviticin E'),\n ('Salinispora pacifica', 'rosamicin'),\n ('Salinispora pacifica', 'salinipyrone A'),\n ('Salinispora pacifica', 'pacificanone A'),\n ('Streptomyces tendae', 'lysolipin I'),\n ('Streptomyces tendae', 'neopolyoxin C'),\n ('Streptomyces sp. AM-7161', 'medermycin'),\n ('Streptomyces argillaceus', 'mithramycin'),\n ('Streptomyces argillaceus', 'argimycin PI'),\n ('Streptomyces argillaceus', 'argimycin PII'),\n ('Streptomyces argillaceus', 'nigrifactin'),\n ('Streptomyces argillaceus', 'argimycin PIV'),\n ('Streptomyces argillaceus', 'argimycin PV'),\n ('Streptomyces argillaceus', 'argimycin PVI'),\n ('Streptomyces argillaceus', 'argimycin PIX'),\n ('Streptomyces argillaceus', 'desferrioxamine'),\n ('Streptomyces argillaceus', 'germicidin'),\n ('Streptomyces argillaceus', 'antimycin'),\n ('Streptomyces argillaceus', 'isorenieratene'),\n ('Streptomyces arenae', 'naphtocyclinone'),\n ('Streptomyces arenae', 'pentalenolactone'),\n ('Streptomyces nogalater', 'nogalamycin'),\n ('Streptomyces rimosus', 'oxytetracycline'),\n ('Streptomyces rimosus', 'toyocamycin'),\n ('Streptomyces rimosus', 'sangivamycin'),\n ('Uncultured bacterium', 'pederin'),\n ('Uncultured bacterium', 'onnamide A'),\n ('Uncultured bacterium', 'pseudopederin'),\n ('Uncultured bacterium', 'pederone'),\n ('Actinomadura hibisca', 'pradimicin-A'),\n ('Streptomyces griseoviridis', 'prodigiosin'),\n ('Streptomyces griseoviridis', 'griseoviridin'),\n ('Streptomyces griseoviridis', 'fijimycin A'),\n ('Serratia sp.', 'prodigiosin'),\n ('Serratia marcescens', 'prodigiosin'),\n ('Serratia marcescens', 'oocydin A'),\n ('Hahella chejuensis KCTC 2396', 'prodigiosin'),\n ('Streptomyces sp. R1128', 'R1128'),\n ('Streptomyces sp. PGA64', 'prejadomycin'),\n ('Streptomyces sp. PGA64', 'rabelomycin'),\n ('Streptomyces sp. PGA64', 'gaudimycin C'),\n ('Streptomyces sp. PGA64', 'gaudimycin D'),\n ('Streptomyces sp. PGA64', 'UWM6'),\n ('Streptomyces sp. PGA64', 'gaudimycin A'),\n ('Streptomyces ravidus', 'ravidomycin'),\n ('Streptomyces resistomycificus', 'resistomycin'),\n ('Streptomyces resistomycificus', 'resistoflavine'),\n ('Streptomyces purpurascens', 'rhodomycin'),\n ('Streptomyces collinus', 'collinomycin'),\n ('Streptomyces collinus', 'spore pigment'),\n ('Micromonospora sp. Tu 6368', 'saquayamycin Z'),\n ('Streptomyces sp. SCC 2136', 'Sch-47554'),\n ('Streptomyces sp. SCC 2136', 'Sch-47555'),\n ('Streptomyces sp. SF2575', 'SF2575'),\n ('Streptomyces steffisburgensis', 'steffimycin D'),\n ('Streptomyces glaucescens', 'tetracenomycin C'),\n ('Streptomyces glaucescens', 'hydroxystreptomycin'),\n ('Streptomyces glaucescens', 'citrulassin E'),\n ('Streptomyces flavogriseus', 'xantholipin'),\n ('Streptomyces griseus subsp. griseus NBRC 13350', 'alkylresorcinol'),\n ('Streptomyces griseus subsp. griseus NBRC 13350', 'AmfS'),\n ('Streptomyces griseus subsp. griseus NBRC 13350', 'grisemycin'),\n ('Streptomyces griseus subsp. griseus NBRC 13350', 'carotenoid'),\n ('Streptomyces griseus subsp. griseus NBRC 13350', '2-methylisoborneol'),\n ('Streptomyces griseus subsp. griseus NBRC 13350', 'grixazone'),\n ('Streptomyces griseus subsp. griseus NBRC 13350', 'isorenieratene'),\n ('Streptomyces griseus subsp. griseus NBRC 13350', 'streptomycin'),\n ('Streptomyces griseus subsp. griseus NBRC 13350', 'A-factor'),\n ('Streptomyces griseus subsp. griseus NBRC 13350', 'melanin'),\n ('Streptomyces griseus subsp. griseus NBRC 13350', 'desferrioxamin B'),\n ('Streptomyces griseus subsp. griseus NBRC 13350', 'SGR PTMs'),\n ('Actinomyces sp. Lu 9419', 'cetoniacytone A'),\n ('Azotobacter vinelandii DJ', 'phenolic lipids'),\n ('Saccharopolyspora erythraea', 'flaviolin rhamnoside'),\n ('Saccharopolyspora erythraea', \"3,3'-diflaviolin\"),\n ('Saccharopolyspora erythraea', 'flaviolin'),\n ('Streptomyces sp. KO-3988', 'viguiepinol'),\n ('Streptomyces sp. KO-3988', 'furaquinocin B'),\n ('Pseudomonas aeruginosa PAO1', 'L-2-amino-4-methoxy-trans-3-butenoic acid'),\n ('Pseudomonas aeruginosa PAO1', 'pyochelin'),\n ('Pseudomonas aeruginosa PAO1', 'alginate'),\n ('Pseudomonas aeruginosa PAO1', 'pseudomonas quinolone signal (PQS)'),\n ('Pseudomonas aeruginosa PAO1', 'paerucumarin'),\n ('Pseudomonas aeruginosa PAO1', 'pyocyanine'),\n ('Streptomyces sp. SANK 62799', 'A-503083 A'),\n ('Streptomyces sp. SANK 62799', 'A-503083 B'),\n ('Streptomyces sp. SANK 62799', 'A-503083 E'),\n ('Streptomyces sp. SANK 62799', 'A-503083 F'),\n ('Nonomuraea gerenzanensis', 'A40926'),\n ('Streptomyces toyocaensis', 'A-47934'),\n ('Aspergillus fischeri NRRL 181', 'acetylaszonalenin'),\n ('Acinetobacter baumannii', 'acinetobactin'),\n ('Acinetobacter baumannii', 'K53 capsular polysaccharide'),\n ('Acinetobacter haemolyticus', 'acinetoferrin'),\n ('Streptomyces anulatus', 'actinomycin D'),\n ('Streptomyces anulatus', 'ectoine'),\n ('Streptomyces anulatus', 'endophenazine A'),\n ('Streptomyces anulatus', 'endophenazine B'),\n ('Streptomyces anulatus', 'telomestatin'),\n ('Streptomyces anulatus', 'raimonol'),\n ('Planktothrix agardhii NIVA-CYA 126', 'aeruginoside 126B'),\n ('Planktothrix agardhii NIVA-CYA 126', 'aeruginoside 126A'),\n ('Microcystis aeruginosa NIES-98', 'aeruginosin 98-A'),\n ('Microcystis aeruginosa NIES-98', 'aeruginosin 98-B'),\n ('Microcystis aeruginosa NIES-98', 'aeruginosin 98-C'),\n ('Pseudoalteromonas piscicida JCM 20779', 'alterochromide A'),\n ('Pseudoalteromonas piscicida JCM 20779', 'bromoalterochromide A'),\n ('Pseudoalteromonas piscicida JCM 20779', 'dibromoalterochromide A'),\n ('Pseudoalteromonas piscicida JCM 20779', 'alterochromide B'),\n ('Pseudoalteromonas piscicida JCM 20779', 'bromoalterochromide B'),\n ('Pseudoalteromonas piscicida JCM 20779', 'dibromoalterochromide B'),\n ('Pseudoalteromonas piscicida JCM 20779', \"alterochromide A'\"),\n ('Pseudoalteromonas piscicida JCM 20779', \"bromoalterochromide A'\"),\n ('Pseudoalteromonas piscicida JCM 20779', \"dibromoalterochromide A'\"),\n ('Pseudoalteromonas piscicida JCM 20779', \"alterochromide B'\"),\n ('Pseudoalteromonas piscicida JCM 20779', \"bromoalterochromide B'\"),\n ('Pseudoalteromonas piscicida JCM 20779', \"dibromoalterochromide B'\"),\n ('Pseudoalteromonas piscicida JCM 20779', \"alterochromide A''\"),\n ('Pseudoalteromonas piscicida JCM 20779', \"bromoalterochromide A''\"),\n ('Pseudoalteromonas piscicida JCM 20779', \"alterochromide B''\"),\n ('Pseudoalteromonas piscicida JCM 20779', \"bromoalterochromide B''\"),\n ('Streptomyces sp. AA4', 'amychelin'),\n ('Planktothrix agardhii NIVA-CYA 126/8', 'anabaenopeptin 908'),\n ('Planktothrix agardhii NIVA-CYA 126/8', 'anabaenopeptin 915'),\n ('Planktothrix agardhii NIVA-CYA 126/8', 'microviridin K'),\n ('Planktothrix agardhii NIVA-CYA 126/8', 'microcystin'),\n ('Anabaena sp. 90', 'anabaenopeptin'),\n ('Anabaena sp. 90', 'anacyclamide A10'),\n ('Anabaena sp. 90', 'microcystin'),\n ('Streptomyces refuineus subsp. thermotolerans', 'anthramycin'),\n ('Fusarium incarnatum', 'apicidin'),\n ('Pseudomonas sp. MIS38', 'arthrofactin A'),\n ('Streptomyces filamentosus NRRL 11379', 'arylomycin'),\n ('Streptomyces filamentosus NRRL 11379', 'daptomycin'),\n ('Aureobasidium pullulans', 'AbT1'),\n ('Staphylococcus aureus subsp. aureus str. JKD6008', 'aureusimine'),\n ('Bacillus subtilis subsp. subtilis str. 168', 'bacillibactin'),\n ('Bacillus subtilis subsp. subtilis str. 168', 'sublancin 168'),\n ('Bacillus subtilis subsp. subtilis str. 168', 'sporulation killing factor'),\n ('Bacillus subtilis subsp. subtilis str. 168', 'teichuronic acid'),\n ('Bacillus licheniformis', 'bacitracin'),\n ('Bacillus licheniformis', 'lichenicidin VK21 A1'),\n ('Bacillus licheniformis', 'lichenicidin VK21 A2'),\n ('Amycolatopsis balhimycina DSM 5908', 'balhimycin'),\n ('Beauveria bassiana', 'bassianolide'),\n ('Beauveria bassiana', 'beauvericin'),\n ('Beauveria bassiana', 'tenellin'),\n ('Beauveria bassiana', 'desmethylbassianin'),\n ('Saccharothrix mutabilis subsp. capreolus', 'capreomycin IA'),\n ('Saccharothrix mutabilis subsp. capreolus', 'capreomycin IB'),\n ('Saccharothrix mutabilis subsp. capreolus', 'capreomycin IIA'),\n ('Saccharothrix mutabilis subsp. capreolus', 'capreomycin IIB'),\n ('Saccharothrix mutabilis subsp. capreolus', 'A-201A'),\n ('Acremonium chrysogenum ATCC 11550', 'cephalosporin C'),\n ('Streptomyces clavuligerus ATCC 27064', 'cephamycin C'),\n ('Streptomyces clavuligerus ATCC 27064', 'holomycin'),\n ('Streptomyces clavuligerus ATCC 27064', '(-)-δ-cadinene'),\n ('Streptomyces clavuligerus ATCC 27064', '(+)-T-muurolol'),\n ('Streptomyces clavuligerus ATCC 27064', 'staurosporine'),\n ('Streptomyces clavuligerus ATCC 27064', 'alanylclavam'),\n ('Streptomyces clavuligerus ATCC 27064', '2-hydroxymethylclavam'),\n ('Streptomyces clavuligerus ATCC 27064', '2-formyloxymethylclavam'),\n ('Streptomyces clavuligerus ATCC 27064', 'clavam-2-carboxylate'),\n ('Streptomyces clavuligerus ATCC 27064', 'clavulanic acid'),\n ('Streptomyces clavuligerus ATCC 27064', 'naringenin'),\n ('Bacillus cereus', 'cereulide'),\n ('Bacillus cereus', 'cerecidin'),\n ('Bacillus cereus', 'cerecidin A1'),\n ('Bacillus cereus', 'cerecidin A2'),\n ('Bacillus cereus', 'cerecidin A3'),\n ('Bacillus cereus', 'cerecidin A4'),\n ('Bacillus cereus', 'cerecidin A5'),\n ('Bacillus cereus', 'cerecidin A6'),\n ('Bacillus cereus', 'cerecidin A7'),\n ('Bacillus cereus', 'polyhydroxyalkanoates'),\n ('Bacillus cereus', 'zwittermicin A'),\n ('Collariella virescens', 'chaetocin'),\n ('Pseudomonas cichorii', 'cichofactin A'),\n ('Pseudomonas cichorii', 'cichofactin B'),\n ('Pseudomonas cichorii', 'cichopeptin'),\n ('Streptomyces lavendulae', 'isocomplestatin'),\n ('Streptomyces lavendulae', 'saframycin A'),\n ('Streptomyces lavendulae', 'saframycin B'),\n ('Streptomyces lavendulae', 'mitomycin'),\n ('Streptomyces lavendulae', 'lavendiol'),\n ('Streptomyces lavendulae', 'dehydrofosmidomycin'),\n ('Pseudomonas savastanoi pv. glycinea', 'coronatine'),\n ('Pseudomonas corrugata', 'corpeptin A'),\n ('Pseudomonas corrugata', 'corpeptin B'),\n ('Cupriavidus necator H16', 'cupriachelin'),\n ('Planktothrix agardhii NIVA-CYA 116', 'cyanopeptin'),\n ('Microcystis sp. NIVA-CYA 172/5', 'cyanopeptolin'),\n ('Tolypocladium inflatum NRRL8044', 'cyclosporine'),\n ('Cystobacter fuscus', 'cystomanamide A'),\n ('Cystobacter fuscus', 'cystomanamide B'),\n ('Cystobacter fuscus', 'cystomanamide C'),\n ('Cystobacter fuscus', 'cystomanamide D'),\n ('Cystobacter fuscus', 'cystothiazole A'),\n ('Metarhizium robertsii ARSEF 23', 'destruxin A'),\n ('Streptomyces fungicidicus', 'enduracidin'),\n ('Fusarium equiseti', 'enniatin'),\n ('Fusarium equiseti', 'mangicol A'),\n ('Pseudomonas sp. J465', 'enterobactin'),\n ('Pseudomonas entomophila L48', 'entolysin'),\n ('Goodfellowiella coeruleoviolacea', 'epoxomicin'),\n ('Streptococcus equi subsp. equi', 'equibactin'),\n ('Epichloe festucae var. lolii', 'ergovaline'),\n ('uncultured organism', 'ET-743'),\n ('Mycolicibacterium smegmatis', 'exochelin'),\n ('Acinetobacter sp. ADP1', 'fimsbactin A'),\n ('Streptomyces sp. MA6548', 'tacrolimus'),\n ('Actinoplanes friuliensis', 'friulimicin A'),\n ('Actinoplanes friuliensis', 'friulimicin B'),\n ('Actinoplanes friuliensis', 'friulimicin C'),\n ('Actinoplanes friuliensis', 'friulimicin D'),\n ('Aspergillus fumigatus', 'verruculogen'),\n ('Aspergillus fumigatus', 'fumitremorgin B'),\n ('Aspergillus fumigatus', 'fumitremorgin c'),\n ('Aspergillus fumigatus', 'tryprostatin A'),\n ('Aspergillus fumigatus', 'tryprostatin B'),\n ('Aspergillus fumigatus', 'demethoxyfumitremorgin C'),\n ('Aspergillus fumigatus', 'brevianamide F'),\n ('Penicillium rubens Wisconsin 54-1255', 'cyclo-(D-Phe-L-Phe-D-Val-L-Val)'),\n ('Penicillium rubens Wisconsin 54-1255', 'cyclo-(D-Tyr-L-Phe-D-Val-L-Val)'),\n ('Penicillium rubens Wisconsin 54-1255', 'cyclo-(D-Tyr-L-Trp-D-Val-L-Val)'),\n ('Penicillium rubens Wisconsin 54-1255', 'cyclo-(D-Phe-L-Trp-D-Val-L-Val)'),\n ('Penicillium rubens Wisconsin 54-1255', 'cyclo-(D-Phe-L-Phe-D-Val-L-Ile)'),\n ('Penicillium rubens Wisconsin 54-1255', 'cyclo-(D-Phe-L-Phe-D-Ile-L-Val)'),\n ('Penicillium rubens Wisconsin 54-1255', 'cyclo-(D-Tyr-L-Trp-D-Val-L-Ile)'),\n ('Penicillium rubens Wisconsin 54-1255', 'cyclo-(D-Tyr-L-Trp-D-Ile-L-Val)'),\n ('Penicillium rubens Wisconsin 54-1255', 'cyclo-(D-Tyr-L-Phe-D-Val-L-Ile)'),\n ('Penicillium rubens Wisconsin 54-1255', 'cyclo-(D-Tyr-L-Phe-D-Ile-L-Val)'),\n ('Penicillium rubens Wisconsin 54-1255',\n  'histidyltryptophanyldiketopiperazine'),\n ('Penicillium rubens Wisconsin 54-1255',\n  'dehydrohistidyltryptophanyldiketopiperazine'),\n ('Penicillium rubens Wisconsin 54-1255', 'roquefortine D'),\n ('Penicillium rubens Wisconsin 54-1255', 'roquefortine C'),\n ('Penicillium rubens Wisconsin 54-1255', 'glandicoline A'),\n ('Penicillium rubens Wisconsin 54-1255', 'glandicoline B'),\n ('Penicillium rubens Wisconsin 54-1255', 'meleagrine'),\n ('Penicillium rubens Wisconsin 54-1255', 'sorbicillin'),\n ('Penicillium rubens Wisconsin 54-1255', 'chrysoxanthone A'),\n ('Penicillium rubens Wisconsin 54-1255', 'chrysoxanthone B'),\n ('Penicillium rubens Wisconsin 54-1255', 'chrysoxanthone C'),\n ('Thermobifida fusca YX', 'fuscachelin A'),\n ('Thermobifida fusca YX', 'fuscachelin B'),\n ('Thermobifida fusca YX', 'fuscachelin C'),\n ('Thermobifida fusca YX', 'fusilassin'),\n ('Streptomyces sp. L-49973', 'GE81112'),\n ('Mycobacterium avium', 'glycopeptidolipid'),\n ('Mycobacteroides chelonae', 'glycopeptidolipid'),\n ('Mycobacteroides abscessus', 'glycopeptidolipid'),\n ('Mycolicibacterium smegmatis MC2 155', 'glycopeptidolipid'),\n ('Streptomyces sp. NRRL F-4415', 'gobichelin A'),\n ('Streptomyces sp. NRRL F-4415', 'gobichelin B'),\n ('Brevibacillus brevis NBRC 100599', 'gramicidin'),\n ('Brevibacillus brevis NBRC 100599', 'tyrocidine'),\n ('Streptomyces sp. ATCC 700974', 'streptobactin'),\n ('Anabaena sp. Syke748', 'hassallidin C'),\n ('Rhodococcus erythropolis PR4', 'heterobactin A'),\n ('Rhodococcus erythropolis PR4', 'heterobactin S2'),\n ('Streptomyces chromofuscus', 'indigoidine'),\n ('Streptomyces chromofuscus', 'herboxidiene'),\n ('Streptomyces chromofuscus', 'α,β-epoxyketone'),\n ('Streptomyces sp. Sp080513GE-23', 'JBIR-34'),\n ('Streptomyces sp. Sp080513GE-23', 'JBIR-35'),\n ('Bacillus sp. NK2003', 'koranimine'),\n ('Kutzneria sp. 744', 'kutzneride 2'),\n ('Streptomyces viridochromogenes', 'glycinocin A'),\n ('Streptomyces viridochromogenes', 'phosphinothricintripeptide'),\n ('Bacillus licheniformis DSM 13 = ATCC 14580', 'lichenysin'),\n ('Streptomyces toxytricini', 'lipstatin'),\n ('Lyngbya majuscula', 'lyngbyatoxin'),\n ('Lyngbya majuscula', 'barbamide'),\n ('Lyngbya majuscula', 'hectochlorin'),\n ('Lyngbya majuscula', 'jamaicamide A'),\n ('Lyngbya majuscula', 'jamaicamide B'),\n ('Lyngbya majuscula', 'jamaicamide C'),\n ('Lyngbya majuscula', 'curacin A'),\n ('Lysobacter sp. ATCC 53042', 'lysobactin'),\n ('Pseudomonas syringae pv. syringae', 'mangotoxin'),\n ('Pseudomonas syringae pv. syringae', 'syringopeptin 25A'),\n ('Pseudomonas syringae pv. syringae', '3-methylarginine'),\n ('Pseudomonas fluorescens SS101', 'massetolide A'),\n ('Marinactinospora thermotolerans', 'methylpendolmycin'),\n ('Marinactinospora thermotolerans', 'pendolmycin'),\n ('Marinactinospora thermotolerans', 'marinacarboline A'),\n ('Marinactinospora thermotolerans', 'marinacarboline B'),\n ('Marinactinospora thermotolerans', 'marinacarboline C'),\n ('Marinactinospora thermotolerans', 'marinacarboline D'),\n ('Marinactinospora thermotolerans', 'a201a'),\n ('Marinactinospora thermotolerans', 'mathermycin'),\n ('Actinosynnema mirum DSM 43827', 'mirubactin'),\n ('Myxococcus xanthus DK 1622', 'myxoprincomide-c506'),\n ('Myxococcus xanthus DK 1622', 'VEPE'),\n ('Myxococcus xanthus DK 1622', 'AEPE'),\n ('Myxococcus xanthus DK 1622', 'TG-1'),\n ('Myxococcus xanthus DK 1622', 'myxovirescin A1'),\n ('Myxococcus xanthus DK 1622', 'myxochromide A'),\n ('Myxococcus xanthus DK 1622', 'alkylpyrone-407'),\n ('Myxococcus xanthus DK 1622', 'alkylpyrone-393'),\n ('Nocardia uniformis subsp. tsuyamanensis', 'nocardicin A'),\n ('Nostoc sp. 73.1', 'nodularin'),\n ('Nostoc sp. ATCC 53789', 'nostocyclopeptide A2'),\n ('Nostoc sp. ATCC 53789', 'cryptophycin-327'),\n ('Pseudomonas sp. CMR12a', 'orfamide B'),\n ('Pseudomonas sp. CMR12a', 'sessilin A'),\n ('Paenibacillus sp. OSY-SE', 'paenibacterin'),\n ('Paenibacillus elgii B69', 'paenibactin'),\n ('Paenibacillus larvae subsp. larvae DSM 25430', 'paenilarvins'),\n ('Paenibacillus larvae subsp. larvae DSM 25430', 'paenilamicin'),\n ('Paenibacillus elgii', 'pelgipeptin'),\n ('Penicillium chrysogenum', 'penicillin'),\n ('Penicillium chrysogenum', 'δ-(L-α-aminoadipyl)-L-cysteine-D-valine'),\n ('Penicillium chrysogenum', 'isopenicillin N'),\n ('Penicillium chrysogenum', 'benzylpenicillin'),\n ('Penicillium chrysogenum', 'phenoxymethylpenicillin'),\n ('Bacillus subtilis subsp. subtilis', 'plipastatin'),\n ('Paenibacillus polymyxa', 'polymyxin'),\n ('Paenibacillus polymyxa', 'paenicidin A'),\n ('Paenibacillus polymyxa', 'fusaricidin B'),\n ('Paenibacillus polymyxa', 'polymyxin B'),\n ('Streptomyces albus subsp. albus', 'porothramycin A'),\n ('Pseudomonas putida', 'putisolvin'),\n ('Pseudomonas putida', 'xantholysin A'),\n ('Pseudomonas putida', 'xantholysin B'),\n ('Pseudomonas putida', 'xantholysin C'),\n ('Pseudomonas putida', 'promysalin'),\n ('Pseudomonas putida', 'pseudopyronine A'),\n ('Pseudomonas putida', 'pseudopyronine B'),\n ('Pseudomonas putida', 'WLIP'),\n ('Streptomyces melanovinaceus', 'quinocarcin'),\n ('Streptomyces griseovariabilis subsp. bandungensis', 'quinomycin'),\n ('Xenorhabdus nematophila ATCC 19061', 'rhabdopeptide 1'),\n ('Xenorhabdus nematophila ATCC 19061', 'rhabdopeptide 2'),\n ('Xenorhabdus nematophila ATCC 19061', 'rhabdopeptide 3'),\n ('Xenorhabdus nematophila ATCC 19061', 'rhabdopeptide 4'),\n ('Xenorhabdus nematophila ATCC 19061', 'xenortide A'),\n ('Xenorhabdus nematophila ATCC 19061', 'xenortide B'),\n ('Xenorhabdus nematophila ATCC 19061', 'xenortide C'),\n ...]"
     },
     "execution_count": 100,
     "metadata": {},
     "output_type": "execute_result"
    }
   ],
   "source": [
    "list(G_new_micbio.edges)"
   ],
   "metadata": {
    "collapsed": false,
    "pycharm": {
     "name": "#%%\n"
    }
   }
  },
  {
   "cell_type": "code",
   "execution_count": 6,
   "outputs": [
    {
     "name": "stdout",
     "output_type": "stream",
     "text": [
      "usecuda\n"
     ]
    }
   ],
   "source": [
    "# applied Graph convolution network to learn features\n",
    "if torch.cuda.is_available():\n",
    "    device = 'cuda'\n",
    "print('use'+device)\n",
    "def representation_learning(input_dim, hidden_dim, output_dim, data):\n",
    "    dropout = 0.5\n",
    "    convs = nn.ModuleList()\n",
    "    convs.append(GCNConv(input_dim, hidden_dim))\n",
    "    num_layers = 3\n",
    "    heads = 1\n",
    "    for l in range(num_layers-1):\n",
    "        convs.append(GCNConv(heads * hidden_dim, hidden_dim))\n",
    "\n",
    "    post_mp = nn.Sequential(\n",
    "        nn.Linear(heads * hidden_dim, hidden_dim), nn.Dropout(dropout),\n",
    "        nn.Linear(hidden_dim, output_dim))\n",
    "\n",
    "\n",
    "    x, edge_index, batch = data.x, data.edge_index, data.batch\n",
    "\n",
    "    for i in range(num_layers):\n",
    "        x = convs[i](x, edge_index)\n",
    "        x = F.relu(x)\n",
    "        x = F.dropout(x, p=dropout)\n",
    "\n",
    "    x = post_mp(x)\n",
    "    return x, F.log_softmax(x, dim=1)\n"
   ],
   "metadata": {
    "collapsed": false,
    "pycharm": {
     "name": "#%%\n"
    }
   }
  },
  {
   "cell_type": "code",
   "execution_count": 7,
   "outputs": [],
   "source": [
    "G_1 = nx.convert_node_labels_to_integers(G)"
   ],
   "metadata": {
    "collapsed": false,
    "pycharm": {
     "name": "#%%\n"
    }
   }
  },
  {
   "cell_type": "code",
   "execution_count": 8,
   "outputs": [
    {
     "name": "stdout",
     "output_type": "stream",
     "text": [
      "compound length:  2689\n",
      "organism length 2689\n",
      "torch.Size([2, 1, 2689])\n",
      "tensor([[[0., 0., 0.,  ..., 0., 0., 0.]],\n",
      "\n",
      "        [[1., 1., 1.,  ..., 1., 1., 1.]]])\n",
      "torch.Size([5378, 1])\n",
      "tensor([[0.],\n",
      "        [0.],\n",
      "        [0.],\n",
      "        ...,\n",
      "        [1.],\n",
      "        [1.],\n",
      "        [1.]])\n",
      "Data(x=[5378, 1], edge_index=[2, 2581])\n",
      "1\n"
     ]
    },
    {
     "name": "stderr",
     "output_type": "stream",
     "text": [
      "C:\\Users\\asse9\\AppData\\Local\\Programs\\Python\\Python37\\lib\\site-packages\\ipykernel_launcher.py:9: UserWarning: Creating a tensor from a list of numpy.ndarrays is extremely slow. Please consider converting the list to a single numpy.ndarray with numpy.array() before converting to a tensor. (Triggered internally at  C:\\actions-runner\\_work\\pytorch\\pytorch\\builder\\windows\\pytorch\\torch\\csrc\\utils\\tensor_new.cpp:210.)\n",
      "  if __name__ == '__main__':\n"
     ]
    }
   ],
   "source": [
    "node_organism_label = np.ones([1, len(node_organism) ])\n",
    "node_compound_label = np.zeros([1, len(node_compound) ])\n",
    "print('compound length: ', len(node_compound))\n",
    "print('organism length', len(node_organism))\n",
    "\n",
    "\n",
    "Data1 = utils.from_networkx(G_1)\n",
    "# node_compound.append(node_organism)\n",
    "x = torch.tensor([node_compound_label, node_organism_label], dtype=torch.float)\n",
    "print(x.shape)\n",
    "print(x)\n",
    "x =x.view(-1, 5378).t()\n",
    "print(x.shape)\n",
    "print(x)\n",
    "edges_list = list(G_1.edges)\n",
    "edge_index = torch.tensor(edges_list, dtype=torch.long)\n",
    "data = Data(x=x, edge_index=edge_index.t().contiguous())\n",
    "\n",
    "hidden_dim = 128\n",
    "data.edge_index\n",
    "print(data)\n",
    "print(data.num_node_features)\n",
    "a, b = representation_learning(data.num_node_features, hidden_dim, 128, data)"
   ],
   "metadata": {
    "collapsed": false,
    "pycharm": {
     "name": "#%%\n"
    }
   }
  },
  {
   "cell_type": "code",
   "execution_count": 9,
   "outputs": [
    {
     "data": {
      "text/plain": "tensor([[0.],\n        [0.],\n        [0.],\n        ...,\n        [1.],\n        [1.],\n        [1.]])"
     },
     "execution_count": 9,
     "metadata": {},
     "output_type": "execute_result"
    }
   ],
   "source": [
    "data.x"
   ],
   "metadata": {
    "collapsed": false,
    "pycharm": {
     "name": "#%%\n"
    }
   }
  },
  {
   "cell_type": "code",
   "execution_count": 10,
   "outputs": [],
   "source": [
    "a = a.to('cpu').detach().numpy().copy()\n",
    "b = b.to('cpu').detach().numpy().copy()"
   ],
   "metadata": {
    "collapsed": false,
    "pycharm": {
     "name": "#%%\n"
    }
   }
  },
  {
   "cell_type": "code",
   "execution_count": 11,
   "outputs": [
    {
     "name": "stdout",
     "output_type": "stream",
     "text": [
      "(5378, 128)\n",
      "(5378, 128)\n",
      "0.15697138 -0.19782788\n",
      "-4.699101 -5.0539002\n",
      "(2689, 128)\n"
     ]
    }
   ],
   "source": [
    "print(a.shape)\n",
    "print(b.shape)\n",
    "print(a[0].max(), a[0].min())\n",
    "print(b[0].max(), b[0].min())\n",
    "a_compound = a[0:2689]\n",
    "print(a_compound.shape)\n",
    "np.save('o2c_gcn.npy', a_compound)"
   ],
   "metadata": {
    "collapsed": false,
    "pycharm": {
     "name": "#%%\n"
    }
   }
  },
  {
   "cell_type": "code",
   "execution_count": 12,
   "outputs": [
    {
     "data": {
      "text/plain": "Computing transition probabilities:   0%|          | 0/3521 [00:00<?, ?it/s]",
      "application/vnd.jupyter.widget-view+json": {
       "version_major": 2,
       "version_minor": 0,
       "model_id": "7d0a6d30a61e4943a67bffa54231b4d3"
      }
     },
     "metadata": {},
     "output_type": "display_data"
    },
    {
     "name": "stderr",
     "output_type": "stream",
     "text": [
      "Generating walks (CPU: 1): 100%|██████████| 10/10 [00:00<00:00, 13.94it/s]\n"
     ]
    }
   ],
   "source": [
    "from node2vec import Node2Vec\n",
    "\n",
    "node2vec = Node2Vec(G)\n",
    "# Embed\n",
    "model = node2vec.fit()"
   ],
   "metadata": {
    "collapsed": false,
    "pycharm": {
     "name": "#%%\n"
    }
   }
  },
  {
   "cell_type": "code",
   "execution_count": 13,
   "outputs": [
    {
     "name": "stdout",
     "output_type": "stream",
     "text": [
      "<bound method NDFrame._add_numeric_operations.<locals>.max of Verrucosispora maris AB-18-032    0.004781\n",
      "Kutzneria albida DSM 43870        0.000723\n",
      "Alternaria alternata              0.002823\n",
      "Aspergillus oryzae                0.001534\n",
      "Aspergillus parasiticus           0.001505\n",
      "                                    ...   \n",
      "perquinoline A                    0.004247\n",
      "perquinoline B                    0.005060\n",
      "perquinoline C                   -0.001977\n",
      "ilicicolin H                     -0.001801\n",
      "dehydrofosmidomycin              -0.000834\n",
      "Name: 0, Length: 3521, dtype: float64> <bound method NDFrame._add_numeric_operations.<locals>.min of Verrucosispora maris AB-18-032    0.004781\n",
      "Kutzneria albida DSM 43870        0.000723\n",
      "Alternaria alternata              0.002823\n",
      "Aspergillus oryzae                0.001534\n",
      "Aspergillus parasiticus           0.001505\n",
      "                                    ...   \n",
      "perquinoline A                    0.004247\n",
      "perquinoline B                    0.005060\n",
      "perquinoline C                   -0.001977\n",
      "ilicicolin H                     -0.001801\n",
      "dehydrofosmidomycin              -0.000834\n",
      "Name: 0, Length: 3521, dtype: float64>\n"
     ]
    }
   ],
   "source": [
    "# convert node2vec to dataframe\n",
    "emb_df = (\n",
    "    pd.DataFrame(\n",
    "        [model.wv.get_vector(str(n)) for n in G.nodes()],\n",
    "        index = G.nodes\n",
    "    )\n",
    ")\n",
    "emb_df.shape\n",
    "print(emb_df[0].max, emb_df[0].min)"
   ],
   "metadata": {
    "collapsed": false,
    "pycharm": {
     "name": "#%%\n"
    }
   }
  },
  {
   "cell_type": "code",
   "execution_count": 14,
   "outputs": [
    {
     "name": "stdout",
     "output_type": "stream",
     "text": [
      "2581\n",
      "2689\n",
      "0\n"
     ]
    }
   ],
   "source": [
    "## check if the microbe-compound interaction graph is directed graph and the directions are right\n",
    "## also check number of edges\n",
    "T_edge = 0\n",
    "F_edge = 0\n",
    "a = []\n",
    "for k, v in enumerate(node_organism):\n",
    "    a.append((v, node_compound[k]))\n",
    "    if G.has_edge(v, node_compound[k]) == True:\n",
    "        T_edge +=1\n",
    "    if G.has_edge(node_compound[k], v) == True:\n",
    "        F_edge +=1\n",
    "print(G.number_of_edges())\n",
    "print(T_edge)\n",
    "print(F_edge)"
   ],
   "metadata": {
    "collapsed": false,
    "pycharm": {
     "name": "#%%\n"
    }
   }
  },
  {
   "cell_type": "code",
   "execution_count": 15,
   "outputs": [],
   "source": [
    "seen = set()\n",
    "dupes = []\n",
    "\n",
    "for x in a:\n",
    "    if x in seen:\n",
    "        dupes.append(x)\n",
    "    else:\n",
    "        seen.add(x)"
   ],
   "metadata": {
    "collapsed": false,
    "pycharm": {
     "name": "#%%\n"
    }
   }
  },
  {
   "cell_type": "code",
   "execution_count": 16,
   "outputs": [
    {
     "data": {
      "text/plain": "108"
     },
     "execution_count": 16,
     "metadata": {},
     "output_type": "execute_result"
    }
   ],
   "source": [
    "len(dupes)"
   ],
   "metadata": {
    "collapsed": false,
    "pycharm": {
     "name": "#%%\n"
    }
   }
  }
 ],
 "metadata": {
  "kernelspec": {
   "name": "pycharm-401621b5",
   "language": "python",
   "display_name": "PyCharm (ML)"
  },
  "language_info": {
   "codemirror_mode": {
    "name": "ipython",
    "version": 2
   },
   "file_extension": ".py",
   "mimetype": "text/x-python",
   "name": "python",
   "nbconvert_exporter": "python",
   "pygments_lexer": "ipython2",
   "version": "2.7.6"
  }
 },
 "nbformat": 4,
 "nbformat_minor": 0
}