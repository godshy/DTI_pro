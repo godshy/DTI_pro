{
 "cells": [
  {
   "cell_type": "code",
   "execution_count": 1,
   "metadata": {
    "collapsed": true
   },
   "outputs": [],
   "source": [
    "import networkx as nx\n",
    "import pandas as pd\n",
    "import pygraphviz as pgv\n",
    "import numpy as np\n",
    "from node2vec import Node2Vec\n",
    "\n",
    "from rdkit import Chem\n",
    "from rdkit.Chem import AllChem\n"
   ]
  },
  {
   "cell_type": "code",
   "execution_count": 2,
   "outputs": [
    {
     "name": "stdout",
     "output_type": "stream",
     "text": [
      "(14196, 1024)\n",
      "[[0. 0. 0. ... 0. 0. 0.]\n",
      " [0. 0. 0. ... 1. 0. 0.]\n",
      " [0. 0. 0. ... 0. 0. 0.]\n",
      " ...\n",
      " [0. 0. 0. ... 0. 0. 0.]\n",
      " [0. 1. 0. ... 0. 0. 0.]\n",
      " [0. 0. 0. ... 0. 0. 0.]]\n"
     ]
    }
   ],
   "source": [
    "ecfp = np.load('./dataset_hard/cv_'+str(0)+'/train_fingerprint.npy')\n",
    "ecfp = np.asarray(ecfp, dtype='float32').reshape(-1,1024)\n",
    "print(ecfp.shape)\n",
    "print(ecfp)"
   ],
   "metadata": {
    "collapsed": false,
    "pycharm": {
     "name": "#%%\n"
    }
   }
  },
  {
   "cell_type": "code",
   "execution_count": 3,
   "outputs": [],
   "source": [
    "graph_source = pd.read_csv('to_graph.csv')\n",
    "df = pd.read_csv('final_result_mibig.csv')"
   ],
   "metadata": {
    "collapsed": false,
    "pycharm": {
     "name": "#%%\n"
    }
   }
  },
  {
   "cell_type": "code",
   "execution_count": 4,
   "outputs": [
    {
     "name": "stdout",
     "output_type": "stream",
     "text": [
      " number of no SMILES compounds 764\n"
     ]
    }
   ],
   "source": [
    "compound_smiles = df['chem_struct']\n",
    "print(' number of no SMILES compounds', compound_smiles.isnull().sum())"
   ],
   "metadata": {
    "collapsed": false,
    "pycharm": {
     "name": "#%%\n"
    }
   }
  },
  {
   "cell_type": "code",
   "execution_count": 5,
   "outputs": [
    {
     "data": {
      "text/plain": "nan"
     },
     "execution_count": 5,
     "metadata": {},
     "output_type": "execute_result"
    }
   ],
   "source": [
    "# compound_smiles\n",
    "#len(compound_smiles)\n",
    "#\n",
    "# compound_smiles[2688] is None\n",
    "compound_smiles_np = compound_smiles.to_numpy()\n",
    "compound_smiles_np[-1]\n",
    "\n"
   ],
   "metadata": {
    "collapsed": false,
    "pycharm": {
     "name": "#%%\n"
    }
   }
  },
  {
   "cell_type": "code",
   "execution_count": 19,
   "outputs": [],
   "source": [
    "import pickle\n",
    "EC50 = np.loadtxt('./SMILES.txt', dtype=str, comments=None)\n",
    "EC50_1 = np.loadtxt('././test_smile', dtype=str, comments=None)"
   ],
   "metadata": {
    "collapsed": false,
    "pycharm": {
     "name": "#%%\n"
    }
   }
  },
  {
   "cell_type": "code",
   "execution_count": 20,
   "outputs": [
    {
     "name": "stdout",
     "output_type": "stream",
     "text": [
      "CC1=C(C=CC(=C1Cl)C#N)N2CC3C(C2=O)CCC3O\n",
      "CC1=C(C=CC(=C1Cl)C#N)N2CC3C(C2=O)CCC3O\n"
     ]
    },
    {
     "data": {
      "text/plain": "array([ True,  True,  True, ...,  True,  True,  True])"
     },
     "execution_count": 20,
     "metadata": {},
     "output_type": "execute_result"
    }
   ],
   "source": [
    "\n",
    "EC50.shape\n",
    "print(EC50[3])\n",
    "print(EC50_1[3])\n",
    "EC50 == EC50_1"
   ],
   "metadata": {
    "collapsed": false,
    "pycharm": {
     "name": "#%%\n"
    }
   }
  },
  {
   "cell_type": "code",
   "execution_count": 21,
   "outputs": [
    {
     "data": {
      "text/plain": "(11483, 1024)"
     },
     "execution_count": 21,
     "metadata": {},
     "output_type": "execute_result"
    }
   ],
   "source": [
    "for m in EC50:\n",
    "    m = str(m)\n",
    "mols_bacpi = []\n",
    "\n",
    "for m in EC50:\n",
    "    try:\n",
    "        mols_bacpi.append(Chem.MolFromSmiles(m))\n",
    "    except TypeError:\n",
    "        continue\n",
    "fp_bacpi = []\n",
    "for mol in mols_bacpi:\n",
    "    morganfp_bacpi = AllChem.GetMorganFingerprintAsBitVect(mol,2,nBits=1024)\n",
    "    fp_bacpi.append(morganfp_bacpi)\n",
    "fp_bacpi =np.array(fp_bacpi, dtype='float32')\n",
    "fp_bacpi.shape"
   ],
   "metadata": {
    "collapsed": false,
    "pycharm": {
     "name": "#%%\n"
    }
   }
  },
  {
   "cell_type": "code",
   "execution_count": 22,
   "outputs": [],
   "source": [
    "np.save('./ecfp_compounds_bacpi.npy', fp_bacpi)"
   ],
   "metadata": {
    "collapsed": false,
    "pycharm": {
     "name": "#%%\n"
    }
   }
  },
  {
   "cell_type": "code",
   "execution_count": 9,
   "outputs": [
    {
     "name": "stderr",
     "output_type": "stream",
     "text": [
      "[18:57:14] Conflicting single bond directions around double bond at index 26.\n",
      "[18:57:14]   BondStereo set to STEREONONE and single bond directions set to NONE.\n",
      "[18:57:15] WARNING: not removing hydrogen atom without neighbors\n",
      "[18:57:15] WARNING: not removing hydrogen atom without neighbors\n",
      "[18:57:15] WARNING: not removing hydrogen atom without neighbors\n",
      "[18:57:15] WARNING: not removing hydrogen atom without neighbors\n",
      "[18:57:15] WARNING: not removing hydrogen atom without neighbors\n",
      "[18:57:15] WARNING: not removing hydrogen atom without neighbors\n",
      "[18:57:15] WARNING: not removing hydrogen atom without neighbors\n",
      "[18:57:15] WARNING: not removing hydrogen atom without neighbors\n"
     ]
    }
   ],
   "source": [
    "mols = []\n",
    "\n",
    "for m in compound_smiles_np:\n",
    "    try:\n",
    "        mols.append(Chem.MolFromSmiles(m))\n",
    "    except TypeError:\n",
    "        continue\n",
    "# smi = Chem.SmilesMolSupplier(compound_smiles[0],delimiter='\\t',titleLine=False)\n",
    "\n",
    "# mols = [mol for mol in smi if mol is not None]\n",
    "fp = []\n",
    "\n",
    "for mol in mols:\n",
    "    morganfp = AllChem.GetMorganFingerprintAsBitVect(mol,2,nBits=1024)\n",
    "    fp.append(morganfp)\n",
    "fp = np.array(fp, dtype='float32')"
   ],
   "metadata": {
    "collapsed": false,
    "pycharm": {
     "name": "#%%\n"
    }
   }
  },
  {
   "cell_type": "code",
   "execution_count": 44,
   "outputs": [
    {
     "data": {
      "text/plain": "numpy.str_"
     },
     "execution_count": 44,
     "metadata": {},
     "output_type": "execute_result"
    }
   ],
   "source": [
    "type(compound_smiles_np[0])\n",
    "#type(EC50[0])"
   ],
   "metadata": {
    "collapsed": false,
    "pycharm": {
     "name": "#%%\n"
    }
   }
  },
  {
   "cell_type": "code",
   "execution_count": 68,
   "outputs": [],
   "source": [
    "fp.shape\n",
    "np.save('./ecfp_compounds_noncomplete.npy', fp)"
   ],
   "metadata": {
    "collapsed": false,
    "pycharm": {
     "name": "#%%\n"
    }
   }
  }
 ],
 "metadata": {
  "kernelspec": {
   "display_name": "Python 3",
   "language": "python",
   "name": "python3"
  },
  "language_info": {
   "codemirror_mode": {
    "name": "ipython",
    "version": 2
   },
   "file_extension": ".py",
   "mimetype": "text/x-python",
   "name": "python",
   "nbconvert_exporter": "python",
   "pygments_lexer": "ipython2",
   "version": "2.7.6"
  }
 },
 "nbformat": 4,
 "nbformat_minor": 0
}